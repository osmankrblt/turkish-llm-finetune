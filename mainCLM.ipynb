{
 "cells": [
  {
   "cell_type": "code",
   "execution_count": 1,
   "metadata": {},
   "outputs": [
    {
     "name": "stdout",
     "output_type": "stream",
     "text": [
      "🦥 Unsloth: Will patch your computer to enable 2x faster free finetuning.\n",
      "Unsloth: Failed to patch Gemma3ForConditionalGeneration.\n",
      "🦥 Unsloth Zoo will now patch everything to make training faster!\n"
     ]
    }
   ],
   "source": [
    "import unsloth"
   ]
  },
  {
   "cell_type": "code",
   "execution_count": 2,
   "metadata": {},
   "outputs": [],
   "source": [
    "import torch\n",
    "from transformers import AutoConfig, AutoModelForCausalLM\n",
    "from MyLLM.CrispyLLM_RoPE2.modeling_crispy_rope import CrispyLLMConfig, CrispyForCausalLM\n",
    "from transformers import XLMRobertaTokenizer, PreTrainedTokenizerFast\n",
    "from datasets import load_dataset, concatenate_datasets\n",
    "\n",
    "# 3. Kayıt (Auto ile kullanabilmek için)\n",
    "AutoConfig.register(\"crispy\", CrispyLLMConfig)\n",
    "AutoModelForCausalLM.register(CrispyLLMConfig, CrispyForCausalLM)"
   ]
  },
  {
   "cell_type": "code",
   "execution_count": 3,
   "metadata": {},
   "outputs": [],
   "source": [
    "import os\n",
    "\n",
    "os.environ[\"TOKENIZERS_PARALLELISM\"] = \"false\"\n",
    "os.environ[\"PYTORCH_CUDA_ALLOC_CONF\"] = \"expandable_segments:True\"\n",
    "os.environ[\"HF_HUB_ENABLE_HF_TRANSFER\"] = \"1\""
   ]
  },
  {
   "cell_type": "code",
   "execution_count": 4,
   "metadata": {},
   "outputs": [],
   "source": [
    "max_seq_length = 1024  # Choose any! We auto support RoPE Scaling internally!\n",
    "dtype = torch.bfloat16 # None for auto detection. bfloat16 for Tesla T4, V100, bfloat16 for Ampere+\n",
    "load_in_4bit = False \n",
    "load_in_8bit = False "
   ]
  },
  {
   "cell_type": "code",
   "execution_count": 5,
   "metadata": {},
   "outputs": [],
   "source": [
    "\n",
    "\n",
    "# XLM-Roberta tokenizer yükleniyor\n",
    "#tokenizer = XLMRobertaTokenizer.from_pretrained(\"xlm-roberta-base\")"
   ]
  },
  {
   "cell_type": "code",
   "execution_count": 6,
   "metadata": {},
   "outputs": [],
   "source": [
    "special_tokens_dict = {\n",
    "    \"bos_token\": \"<s>\",\n",
    "    \"eos_token\": \"<|eot_id|>\",\n",
    "    \"additional_special_tokens\":  [\n",
    "        \"<|im_start|>\", \"<|im_end|>\",\n",
    "        \"<|system|>\", \"<|user|>\", \"<|assistant|>\",\n",
    "        \"<|start_header_id|>\", \"<|end_header_id|>\", \"<|eot_id|>\"\n",
    "    ]\n",
    "}\n",
    "\n",
    "\n",
    "#tokenizer.add_special_tokens(special_tokens_dict)"
   ]
  },
  {
   "cell_type": "code",
   "execution_count": 7,
   "metadata": {},
   "outputs": [],
   "source": [
    "\n",
    "\n",
    "\n",
    "#crispy_config = CrispyLLMConfig(attn_implementation=\"flash_attention_2\", use_flash_attention_2=True, vocab_size=len(tokenizer.get_vocab()), n_heads=16, max_seq_len=max_seq_length, hidden_size=64*16, num_hidden_layers=16, dtype=\"bfloat16\")\n",
    "\n",
    "#crispy_config._attn_implementation_autoset = True  # 👈 Buraya ekliyorsun\n",
    "\n",
    "#model = AutoModelForCausalLM.from_config(crispy_config)"
   ]
  },
  {
   "cell_type": "code",
   "execution_count": 8,
   "metadata": {},
   "outputs": [
    {
     "name": "stdout",
     "output_type": "stream",
     "text": [
      "📦 Loading weights from model.safetensors\n"
     ]
    }
   ],
   "source": [
    "model_path = \"./Crispy-330M-V2-Rope-NewTokenizer-JustLanguage/checkpoint-10850\"\n",
    "\n",
    "model = AutoModelForCausalLM.from_pretrained(model_path ,  \n",
    "                                            attn_implementation=\"flash_attention_2\",\n",
    "                                            trust_remote_code=True,\n",
    "                                            torch_dtype=torch.bfloat16,\n",
    "                                            device_map=\"auto\"\n",
    "      ) \n",
    "tokenizer = XLMRobertaTokenizer.from_pretrained(\"./Crispy-330M-V2-Rope-NewTokenizer-JustLanguage\")"
   ]
  },
  {
   "cell_type": "code",
   "execution_count": 9,
   "metadata": {},
   "outputs": [],
   "source": [
    "# Tokenizer’a yeni token eklediysen bunu yapman gerekir\n",
    "#model.resize_token_embeddings(len(tokenizer))\n"
   ]
  },
  {
   "cell_type": "code",
   "execution_count": 10,
   "metadata": {},
   "outputs": [
    {
     "name": "stdout",
     "output_type": "stream",
     "text": [
      "🔤 Tokenizer vocab size: 250010\n",
      "🧠 Model token embedding vocab size: 250010\n",
      "🎯 Model lm_head vocab size: 250010\n",
      "✅ Tokenizer ve model vocab boyutları uyumlu.\n"
     ]
    }
   ],
   "source": [
    "# Tokenizer'dan alınan vocab size\n",
    "tokenizer_vocab_size = len(tokenizer.get_vocab())\n",
    "print(f\"🔤 Tokenizer vocab size: {tokenizer_vocab_size}\")\n",
    "\n",
    "# Modelin token embedding katmanından alınan vocab size\n",
    "model_embedding_vocab_size = model.embedding.token_embedding.embedding_layer.num_embeddings\n",
    "print(f\"🧠 Model token embedding vocab size: {model_embedding_vocab_size}\")\n",
    "\n",
    "# Modelin lm_head katmanından alınan çıkış boyutu\n",
    "model_lm_head_vocab_size = model.lm_head.out_features\n",
    "print(f\"🎯 Model lm_head vocab size: {model_lm_head_vocab_size}\")\n",
    "\n",
    "# Hepsi eşleşiyor mu?\n",
    "if tokenizer_vocab_size == model_embedding_vocab_size == model_lm_head_vocab_size:\n",
    "    print(\"✅ Tokenizer ve model vocab boyutları uyumlu.\")\n",
    "else:\n",
    "    print(\"⚠️ UYARI: Vocab size değerleri eşleşmiyor!\")\n"
   ]
  },
  {
   "cell_type": "code",
   "execution_count": 11,
   "metadata": {},
   "outputs": [
    {
     "data": {
      "text/plain": [
       "CrispyForCausalLM(\n",
       "  (embedding): EmbeddingLayer(\n",
       "    (token_embedding): TokenEmbedding(\n",
       "      (embedding_layer): Embedding(250010, 1024)\n",
       "    )\n",
       "  )\n",
       "  (decoderBlocks): ModuleList(\n",
       "    (0-15): 16 x DecoderBlock(\n",
       "      (attention_block): AttentionBlock(\n",
       "        (qkv_proj): Linear(in_features=1024, out_features=3072, bias=True)\n",
       "        (o_proj): Linear(in_features=1024, out_features=1024, bias=True)\n",
       "        (rms_norm1): RMSNormBlock(\n",
       "          (rmsNorm): RMSNorm((1024,), eps=1e-05, elementwise_affine=True)\n",
       "        )\n",
       "        (attn): FlashAttentionBlockBase()\n",
       "        (rope): RotaryPositionalEmbedding()\n",
       "      )\n",
       "      (feedforward_network): FeedforwardNetwork(\n",
       "        (ln1): Linear(in_features=1024, out_features=4096, bias=True)\n",
       "        (swiglu): SwiGLU(\n",
       "          (linear1): Linear(in_features=4096, out_features=2048, bias=True)\n",
       "          (linear2): Linear(in_features=1024, out_features=4096, bias=True)\n",
       "        )\n",
       "        (ln2): Linear(in_features=4096, out_features=1024, bias=True)\n",
       "      )\n",
       "      (rms_norm1): RMSNormBlock(\n",
       "        (rmsNorm): RMSNorm((1024,), eps=1e-05, elementwise_affine=True)\n",
       "      )\n",
       "      (rms_norm2): RMSNormBlock(\n",
       "        (rmsNorm): RMSNorm((1024,), eps=1e-05, elementwise_affine=True)\n",
       "      )\n",
       "      (dropout): Dropout(p=0.2, inplace=False)\n",
       "    )\n",
       "  )\n",
       "  (final_ln): RMSNormBlock(\n",
       "    (rmsNorm): RMSNorm((1024,), eps=1e-05, elementwise_affine=True)\n",
       "  )\n",
       "  (lm_head): Linear(in_features=1024, out_features=250010, bias=True)\n",
       ")"
      ]
     },
     "execution_count": 11,
     "metadata": {},
     "output_type": "execute_result"
    }
   ],
   "source": [
    "model"
   ]
  },
  {
   "cell_type": "code",
   "execution_count": 12,
   "metadata": {},
   "outputs": [
    {
     "data": {
      "text/plain": [
       "<torch.autograd.anomaly_mode.set_detect_anomaly at 0x7bff4887ef60>"
      ]
     },
     "execution_count": 12,
     "metadata": {},
     "output_type": "execute_result"
    }
   ],
   "source": [
    "torch.autograd.set_detect_anomaly(True)  # debug amaçlı\n"
   ]
  },
  {
   "cell_type": "code",
   "execution_count": 13,
   "metadata": {},
   "outputs": [],
   "source": [
    "assert tokenizer.pad_token_id == 1, \"pad_token_id yanlış!\"\n"
   ]
  },
  {
   "cell_type": "code",
   "execution_count": 14,
   "metadata": {},
   "outputs": [],
   "source": [
    "model = model.train()"
   ]
  },
  {
   "cell_type": "code",
   "execution_count": 15,
   "metadata": {},
   "outputs": [
    {
     "data": {
      "text/plain": [
       "CrispyForCausalLM(\n",
       "  (embedding): EmbeddingLayer(\n",
       "    (token_embedding): TokenEmbedding(\n",
       "      (embedding_layer): Embedding(250010, 1024)\n",
       "    )\n",
       "  )\n",
       "  (decoderBlocks): ModuleList(\n",
       "    (0-15): 16 x DecoderBlock(\n",
       "      (attention_block): AttentionBlock(\n",
       "        (qkv_proj): Linear(in_features=1024, out_features=3072, bias=True)\n",
       "        (o_proj): Linear(in_features=1024, out_features=1024, bias=True)\n",
       "        (rms_norm1): RMSNormBlock(\n",
       "          (rmsNorm): RMSNorm((1024,), eps=1e-05, elementwise_affine=True)\n",
       "        )\n",
       "        (attn): FlashAttentionBlockBase()\n",
       "        (rope): RotaryPositionalEmbedding()\n",
       "      )\n",
       "      (feedforward_network): FeedforwardNetwork(\n",
       "        (ln1): Linear(in_features=1024, out_features=4096, bias=True)\n",
       "        (swiglu): SwiGLU(\n",
       "          (linear1): Linear(in_features=4096, out_features=2048, bias=True)\n",
       "          (linear2): Linear(in_features=1024, out_features=4096, bias=True)\n",
       "        )\n",
       "        (ln2): Linear(in_features=4096, out_features=1024, bias=True)\n",
       "      )\n",
       "      (rms_norm1): RMSNormBlock(\n",
       "        (rmsNorm): RMSNorm((1024,), eps=1e-05, elementwise_affine=True)\n",
       "      )\n",
       "      (rms_norm2): RMSNormBlock(\n",
       "        (rmsNorm): RMSNorm((1024,), eps=1e-05, elementwise_affine=True)\n",
       "      )\n",
       "      (dropout): Dropout(p=0.2, inplace=False)\n",
       "    )\n",
       "  )\n",
       "  (final_ln): RMSNormBlock(\n",
       "    (rmsNorm): RMSNorm((1024,), eps=1e-05, elementwise_affine=True)\n",
       "  )\n",
       "  (lm_head): Linear(in_features=1024, out_features=250010, bias=True)\n",
       ")"
      ]
     },
     "execution_count": 15,
     "metadata": {},
     "output_type": "execute_result"
    }
   ],
   "source": [
    "model"
   ]
  },
  {
   "cell_type": "code",
   "execution_count": 16,
   "metadata": {},
   "outputs": [],
   "source": [
    "from datasets import load_dataset, Dataset\n",
    "from datasets import load_from_disk\n",
    "import os\n",
    "\n",
    "processed_path = \"/media/hosman/Yedek/Datasets/c4_tr_300k\"\n",
    "\n",
    "if not os.path.exists(processed_path):\n",
    "    datasetC4 = load_dataset(\"allenai/c4\", \"tr\", split=\"train\", cache_dir=\"/media/hosman/Yedek/Datasets/\", num_proc=4)\n",
    "    datasetC4 = datasetC4.shuffle(seed=42)\n",
    "    datasetC4 = datasetC4.select(range(300000)).remove_columns(['timestamp', 'url'])\n",
    "    datasetC4.save_to_disk(processed_path)\n"
   ]
  },
  {
   "cell_type": "code",
   "execution_count": 17,
   "metadata": {},
   "outputs": [
    {
     "data": {
      "text/plain": [
       "Dataset({\n",
       "    features: ['text'],\n",
       "    num_rows: 300000\n",
       "})"
      ]
     },
     "execution_count": 17,
     "metadata": {},
     "output_type": "execute_result"
    }
   ],
   "source": [
    "datasetC4 = load_from_disk(\"/media/hosman/Yedek/Datasets/c4_tr_300k\")\n",
    "datasetC4"
   ]
  },
  {
   "cell_type": "code",
   "execution_count": 18,
   "metadata": {},
   "outputs": [
    {
     "data": {
      "text/plain": [
       "Dataset({\n",
       "    features: ['text'],\n",
       "    num_rows: 300000\n",
       "})"
      ]
     },
     "execution_count": 18,
     "metadata": {},
     "output_type": "execute_result"
    }
   ],
   "source": [
    "datasetWiki = load_dataset(\"wikimedia/wikipedia\", \"20231101.tr\",split=\"train\", cache_dir=\"/media/hosman/Yedek/Datasets/\", num_proc=4).shuffle(seed=42).select(range(300000)).remove_columns(['id', 'url', 'title'])\n",
    "datasetWiki"
   ]
  },
  {
   "cell_type": "code",
   "execution_count": 19,
   "metadata": {},
   "outputs": [
    {
     "data": {
      "text/plain": [
       "' datasetText = load_dataset(\"yasarefe/turkish-texts-dataset-2\", split=\"train\", cache_dir=\"/media/hosman/Yedek/Datasets/\", num_proc=4).shuffle(seed=42)\\ndatasetText '"
      ]
     },
     "execution_count": 19,
     "metadata": {},
     "output_type": "execute_result"
    }
   ],
   "source": [
    "\"\"\" datasetText = load_dataset(\"yasarefe/turkish-texts-dataset-2\", split=\"train\", cache_dir=\"/media/hosman/Yedek/Datasets/\", num_proc=4).shuffle(seed=42)\n",
    "datasetText \"\"\""
   ]
  },
  {
   "cell_type": "code",
   "execution_count": 20,
   "metadata": {},
   "outputs": [
    {
     "data": {
      "text/plain": [
       "' datasetOscarSmall = load_dataset(\"nthngdy/oscar-small\", \"unshuffled_deduplicated_tr\", split=\"train\", cache_dir=\"/media/hosman/Yedek/Datasets/\", trust_remote_code=True, num_proc=4).shuffle(seed=42).select(range(300000)).shuffle(seed=42).select(range(300000)).remove_columns([\\'id\\'])\\ndatasetOscarSmall '"
      ]
     },
     "execution_count": 20,
     "metadata": {},
     "output_type": "execute_result"
    }
   ],
   "source": [
    "\"\"\" datasetOscarSmall = load_dataset(\"nthngdy/oscar-small\", \"unshuffled_deduplicated_tr\", split=\"train\", cache_dir=\"/media/hosman/Yedek/Datasets/\", trust_remote_code=True, num_proc=4).shuffle(seed=42).select(range(300000)).shuffle(seed=42).select(range(300000)).remove_columns(['id'])\n",
    "datasetOscarSmall \"\"\""
   ]
  },
  {
   "cell_type": "code",
   "execution_count": 21,
   "metadata": {},
   "outputs": [
    {
     "name": "stdout",
     "output_type": "stream",
     "text": [
      "Dataset daha önce kayıtlı: /media/hosman/Yedek/Datasets/oscar_tr_1m\n"
     ]
    }
   ],
   "source": [
    "from itertools import islice\n",
    "from datasets import load_dataset, Dataset, concatenate_datasets, load_from_disk\n",
    "from tqdm import tqdm\n",
    "import os\n",
    "\n",
    "processed_path = \"/media/hosman/Yedek/Datasets/oscar_tr_1m\"\n",
    "cache_dir = \"/media/hosman/Yedek/Datasets/\"\n",
    "chunk_size = 100_000  # parça büyüklüğü\n",
    "total_size = 1_000_000\n",
    "\n",
    "if not os.path.exists(processed_path):\n",
    "    print(\"Veri seti indiriliyor ve işleniyor...\")\n",
    "\n",
    "    streamed_dataset = load_dataset(\n",
    "        \"oscar-corpus/OSCAR-2201\",\n",
    "        language=\"tr\",\n",
    "        split=\"train\",\n",
    "        streaming=True,\n",
    "        cache_dir=cache_dir\n",
    "    )\n",
    "\n",
    "    iterator = iter(streamed_dataset)\n",
    "    all_chunks = []\n",
    "\n",
    "    for i in tqdm(range(0, total_size, chunk_size), desc=\"Veriler alınıyor\"):\n",
    "        chunk = list(islice(iterator, chunk_size))\n",
    "        if not chunk:\n",
    "            break\n",
    "        hf_chunk = Dataset.from_list(chunk)\n",
    "        all_chunks.append(hf_chunk)\n",
    "\n",
    "    # Tüm parçaları birleştir\n",
    "    full_dataset = concatenate_datasets(all_chunks)\n",
    "\n",
    "    # Disk'e kaydet\n",
    "    full_dataset.save_to_disk(processed_path)\n",
    "    print(f\"{total_size} örnek başarıyla kaydedildi: {processed_path}\")\n",
    "\n",
    "else:\n",
    "    print(\"Dataset daha önce kayıtlı:\", processed_path)\n",
    "    datasetOscar = load_from_disk(processed_path).shuffle(seed=42).shuffle(seed=21).shuffle(seed=15).select(range(300000)).remove_columns([\"id\", \"meta\"])\n"
   ]
  },
  {
   "cell_type": "code",
   "execution_count": 22,
   "metadata": {},
   "outputs": [],
   "source": [
    "def replace_empty_with_none(example):\n",
    "    # 'inputs' sütunundaki boş karakteri None ile değiştirelim\n",
    "    if example['text'] == \"\":\n",
    "        example['text'] = None\n",
    "    return example\n",
    "\n",
    "# dataset4'teki 'inputs' sütunundaki boş karakterleri None ile değiştir\n",
    "datasetC4 = datasetC4.map(replace_empty_with_none)\n",
    "datasetWiki = datasetWiki.map(replace_empty_with_none)\n",
    "datasetOscar = datasetOscar.map(replace_empty_with_none)"
   ]
  },
  {
   "cell_type": "code",
   "execution_count": 23,
   "metadata": {},
   "outputs": [],
   "source": [
    "dataset = concatenate_datasets([datasetC4, datasetWiki, datasetOscar])"
   ]
  },
  {
   "cell_type": "code",
   "execution_count": 24,
   "metadata": {},
   "outputs": [],
   "source": [
    "dataset = dataset.filter(lambda x: x[\"text\"]!=None)\n"
   ]
  },
  {
   "cell_type": "code",
   "execution_count": 25,
   "metadata": {},
   "outputs": [
    {
     "data": {
      "text/plain": [
       "Dataset({\n",
       "    features: ['text'],\n",
       "    num_rows: 900000\n",
       "})"
      ]
     },
     "execution_count": 25,
     "metadata": {},
     "output_type": "execute_result"
    }
   ],
   "source": [
    "dataset"
   ]
  },
  {
   "cell_type": "code",
   "execution_count": 26,
   "metadata": {},
   "outputs": [
    {
     "name": "stdout",
     "output_type": "stream",
     "text": [
      "Fen Bilimleri 4. Sınıf Slaytları - Ders sunuları\n",
      "Fen Bilimleri 4.Sınıf Etkinlikleri\n",
      "Fen ve Teknoloji 4 - Hammadde Bul\n",
      "Fen ve Teknoloji 4 - Hammadde Bul Etkinliği - Bu etkinlikte ekrana gelecek ürünlerin nelerden yapılmış olabileceğini tahmin etmenizi ve ürünün ham maddesini keşfetmenizi istiyoruz. Başarılar...\n",
      "Fen ve Teknoloji 4 - Kemik Türleri\n",
      "Fen ve Teknoloji 4 - Vücudumuz - Kemik Türleri Etkinliği. Vücudumuzdaki kısa, uzun ve yassı kemiklerin hangileri biliyor musunuz? Peki bilginize güveniyor musunuz? Şimdi deneme zamanı.\n",
      "Fen ve Teknoloji 4 - Madde Ölçme Etkinliği\n",
      "Fen ve Teknoloji 4 - Madde Ölçme Etkinliği - İki ayrı bölümden oluşan bu etkinliğimizde katı ve sıcı maddelerin ölçülmesi ile ilgili temel bilgilerimizi tazeleyeceğiz. İlk bölümde boşluklara uygun tanımı seçecek, ikinci bölümde cümlelerdeki boşlukları biz dolduracağız.\n",
      "Fen ve Teknoloji 4 - İskelet Yapalım\n",
      "Fen ve Teknoloji 4 - Vücudumuz - Destek Sistemi - İskelet yapalım etkinliği. İskeletin tüm parçaları darmadağın oldu. Toplamak için yardımınıza ihtiyacımız var.\n",
      "Fen ve Teknoloji 4 - Vücudumuz - Kemik Türlerini Bul\n",
      "Fen ve Teknoloji 4 - Vüudumuz - Kemik Türlerini Bul Etkinliği - Vücudumuzdaki kemik türlerini yeterince iyi tanıyor musunuz? Bu etkinlikte sizden önce kemik türlerini daha sonra kemik adlarını bulmanızı istiyoruz.\n",
      "Fen ve Teknoloji 4 - Destek Sistemi Etkinliği\n",
      "Fen ve Teknoloji 4 - Destek Sistemi Etkinliği - Kemik türleri ve vücudumuzdaki görevleri konulu boşluk doldurma - balon etkinliği. Balonları uygun boşluklara bırakıp patlatın.\n",
      "Fen ve Teknoloji 4 - Vücudumuz - Kaslar\n",
      "Fen ve Teknoloji 4 - Destek Sistemi ve Kaslarımız Etkinliği - Destek sistemi elemanlarının görevlerini keşfedelim. Kemik türlerindeki eşleşmelerin doğruluğunu kontrol edelim.\n",
      "Fen ve Teknoloji 4 - Vücudumuz Bulmacası\n",
      "Fen ve Teknoloji 4 - Vücudumuz bir bilmece ise onu bu bulmaca ile yeniden keşfetmek ister misiniz? Bilgileriniz yeterliyse vücudumuz bulmacasını kolayca doldurabilirsiniz.\n",
      "Fen ve Teknoloji 4 - Maddeler Etkinliği\n",
      "Fen ve Teknoloji 4 - Maddeler Etkinliği. Hangi maddenin ne gibi nitelikleri olduğunu bulmanızı istiyoruz. Maddelere ait özellikleri işaretleyin yanıtlarınızı kontrol edin, yanlışlarınızı görün.\n",
      "Fen ve Teknoloji 4 - Soluk Al Ver\n",
      "Fen ve Teknoloji 4 - Solu Alıp Verme Etkinliği - Vücudumuz nasıl nefes alır? Nefes alırken vücudumuzda ne gibi olaylar yaşanır? Soluk alıp verme etkinliği ile havanın izlediği yolu keşfedelim.\n",
      "Fen ve Teknoloji 4 - Dolaşım Sistemi Etkinliği\n",
      "Fen ve Teknoloji 4 - Dolaşım Sistemi Etkinliği - Vücudumuzdaki dolaşımda görevli organ ve yapıların görevlerini tam olarak biliyorsanız bu etkinliği başarıyla tamamlayabilirsiniz.\n",
      "Fen ve Teknoloji 4 - Madde Yap Etkinliği\n",
      "Fen ve Teknoloji 4 - Madde Yap Etkinliği - Profesör Bilgin Slaytizle Laboratuvarında yeni bir makine icat etti. Makine onun hayallerini gerçekleştiriyor. Profesör Bilgin'in yeni eşyalar yapmasına yardım edebilir misiniz?\n",
      "Fen ve Teknoloji 4 - Maddeyi Yakala!\n",
      "Fen ve Teknoloji 4 - Maddeyi Yakala Etkinliği - Maddenin farklı özelliklerine yönelik bu etkinliğimizde farklı maddeler içersinden, sizden bulmanızı istediğimiz özellikteki cismi yakalamanızı istiyoruz. Hızla kaçıyorlar ama, yakalayın !\n",
      "Fen ve Teknoloji 4 - Maddeyi Değiştir\n",
      "Fen ve Teknoloji 4 - Maddeyi Değiştir Etkinliği - Profesör Bilen ham maddeleri kullanarak hayallerindeki maddeyi üretmeyi amaçlıyor. Pr.Bilen'in laboratuvarına konuk olalım ve deneyleri yapmasında ona yardım edelim.\n",
      "Fen ve Teknoloji 4 - Destek Hareket\n",
      "Fen ve Teknoloji 4 - Destek ve Hareket Sistemi Etkinliği. Vücudumuzdaki kemik çeşitleri ve görevlerini, eklem yapıları ve görevlerini ne kadar iyi tanıyorsunuz? Bu interaktif etkinlikle bilginizi sınayabilirsiniz.\n",
      "Fen ve Teknoloji 4 - Doğal Yapay Işık\n",
      "Fen ve Teknoloji 4 - Doğal Yapay Işık - Hayatımızdaki doğal ve yapay ışık kaynaklarını tanıyor musunuz? Ekrana gelecek örnekler arasından soruya uygun seçeneği bulmaya çalışın. Sorular çeldirici, dikkatli olun!\n",
      "Fen ve Teknoloji 4 - Priz mi? Pil mi?\n",
      "Fen ve Teknoloji 4 - Priz mi? Pil mi? Etkinliği - Günlük yaşamda kullandığımız pek çok cihaz enerji olmadan hiç bir işe yaramaz. Bu cihazların kimisi enerjisini pillerden, kimisi şehir elektriğinden sağlar. Bu cihazları tanıyor musunuz?\n",
      "Fen ve Teknoloji 4 - Elektrikli Elektriksiz\n",
      "Fen ve Teknoloji 4 - Elektrikli Elektriksiz - Çevrenizdeki teknolojik cihazların çalışma şekilleri ve kullandıkları enerjiler hakkında ne kadar bilgiye sahipsiniz? Cihazların hangi enerji ile çalıştıklarını çözebilecek misiniz? Kendinize güveniyorsanız başlayın.\n",
      "Fen ve Teknoloji 4 - Dünya Yuvarlaktır\n",
      "Fen ve Teknoloji 4 - Dünya Yuvarlaktır - Yıllar yıllar önce insanlar Dünyamızın düz olduğuna inanıyorlardı. Daha sonra bilim insanları Dünyanın yuvarlak olduğunu keşfettiler. Nasıl mı? İşte böyle. İzleyin.\n",
      "Fen ve Teknoloji 4 - Doğal Yapay Ses\n",
      "Fen ve Teknoloji 4 - Doğal Yapay Ses - Çok eğlenceli bir fen ve teknoloji etkinliği daha. Kulaklarınızı iyi açın, hoparlörünüzün sesini yükseltin ve bu etkinliği elbette sesli uygulayın. İşittiğiniz sesin doğal mı yapay mı olduğunu keşfetmeye çalışın.\n",
      "Fen ve Teknoloji 4 - Dünyamızın Katmanları\n",
      "Fen ve Teknoloji 4 - Dünyamızın Katmanları - Dünyamızın temel katmanları: Hava küre, Su küre, Taş Küre ve Ateş Küredir. Bu katmanları farklı görsellerle tanımlayabiliyoruz. Sizden isteğimiz tanımladığımız küreye ait doğru görseli bulmanız.\n",
      "Fen ve Teknoloji 4 - Termometre Etkinliği\n",
      "Fen ve Teknoloji 4 - Termometre Etkinliği - Bu uygulamamızda termometrenin sıcaklıkları nasıl tespit ettiğini görmeniz için farklı sıcaklıktaki cisimlerin sıcaklıklarını ölçmenizi istiyoruz.\n",
      "Fen ve Teknoloji 4 - Işık Aydınlatır\n",
      "Fen ve Teknoloji 4 - Işık Aydınlatır Etkinliği - Bilgisayarınızın fare imleci bir el feneri olsaydı, karanlık bir odada onunla nasıl gezerdiniz? Biz yaptık. Bilgisayar imlecinizi bir el fenerine dönüştürdük, onun etrafı nasıl aydınlattığını siz test edin.\n",
      "Fen ve Teknoloji 4 - Hal Değişimi\n",
      "Fen ve Teknoloji 4 - Hal Değişimi - Dedektif Suat, çeşitli maddelerin hal değişimi ile ilgili fotoğraflar ele geçirdi. Fotoğraflara bakıp hangi hal değişimi olduğunu bulmasına yardımcı olur musunuz?\n",
      "Fen ve Teknoloji 4 - İt ve Çek Etkinliği\n",
      "Fen ve Teknoloji 4 - İt ve Çek Etkinliği - Bu etkinliğimizde itme ve çekme kuvvetini farklı görsellerle tanımaya çalışıyoruz. İtme ve çekme kuvveti üzerine bilgilerimizi tazeleyelim.\n",
      "Fen ve Teknoloji 4 - Hareket Çeşitleri Etkinliği\n",
      "Fen ve Teknoloji 4 - Hareket Çeşitleri Etkinliği - Ekrana gelecek fotoğrafların her birinde farklı hareket türleri uygulanmakta. Fotoğrafıları bir bilim insanı gözüyle inceleyip, hangi hareketlerin var olduğunu bulabilir misiniz?\n",
      "Fen ve Teknoloji 4 - Maddenin Özellikleri Etkinlik\n",
      "Fen ve Teknoloji 4 - Maddenin Özellikleri Etkinliği - Doğadaki her maddenin özellikleri birbirinden farklıdır. Maddelerin farklı özellikleri günlük yaşamda kendini nasıl göstermiştir? Etkinliğimizi uygulayarak öğrenelim.\n",
      "Fen ve Teknoloji 4 - İtme Çekme Etkinliği\n",
      "Fen ve Teknoloji 4 - İtme Çekme Etkinliği - Bu etkinliğimizde yolda dönerek ilerleyen bir tekerleğe uyguladığımız farklı yöndeki kuvvetlerin tekeri nasılyavaşlattığını ya da nasıl hızlandırdığını izleyeceğiz. Haydi tekeri hızlandırmak senin elinde, başla !\n",
      "Fen ve Teknoloji 4 - Karışım ve Çözelti\n",
      "Fen ve Teknoloji 4 - Karışımlar ve Çözeltiler Etkinliği - Ekrana gelecek olan görsellerden hangisinin saf madde, karışım ya da çözelti olduğunu resme tıklayarak bulalım. Daha fazla doğru yanıt, daha fazla başarı.\n",
      "Fen ve Teknoloji 4 - Devre Bulmacası\n",
      "Fen ve Teknoloji 4 - Devre Bulmacası - Slaytizle.comun en sevilen etkinliklerinden birisi: Karmaşık kelimeleri bulma. Bu eğlenceli etkinlikle bu kez devre elemanları ile ilgili terimleri buluyoruz. Hem kelimeleri tanıyor, hem bildiklerimizi hatırlıyoruz.\n",
      "Fen ve Teknoloji 4 - Hayvan Sesleri Etkinliği\n",
      "Fen ve Teknoloji 4 - Hayvan Sesleri Etkinliği - Bu etkinliğimizde sizden isteğimiz işittiğiniz hayvanın sesini bulmanız. Sesi dinleyin, doğru hayvanın fotoğrafını bulmaya çalışın.\n",
      "31 adet slayt.\n"
     ]
    }
   ],
   "source": [
    "print(dataset[5][\"text\"])"
   ]
  },
  {
   "cell_type": "code",
   "execution_count": 27,
   "metadata": {},
   "outputs": [
    {
     "name": "stdout",
     "output_type": "stream",
     "text": [
      "['▁Fen', '▁Bilim', 'leri', '▁4.', '▁Sınıf', '▁Sla', 'yt', 'ları', '▁-', '▁Der', 's', '▁su', 'nu', 'ları', '▁Fen', '▁Bilim', 'leri', '▁4.', 'S', 'ını', 'f', '▁Etkinlik', 'leri', '▁Fen', '▁ve', '▁Teknoloji', '▁4', '▁-', '▁Hamma', 'dde', '▁Bul', '▁Fen', '▁ve', '▁Teknoloji', '▁4', '▁-', '▁Hamma', 'dde', '▁Bul', '▁Et', 'kin', 'liği', '▁-', '▁Bu', '▁etkinlik', 'te', '▁ekran', 'a', '▁gelecek', '▁ürünleri', 'n', '▁ne', 'lerden', '▁yapılmış', '▁olabileceği', 'ni', '▁tahmin', '▁etme', 'nizi', '▁ve', '▁ürünü', 'n', '▁ham', '▁maddesi', 'ni', '▁keşfe', 't', 'meniz', 'i', '▁istiyoruz', '.', '▁Başarı', 'lar', '...', '▁Fen', '▁ve', '▁Teknoloji', '▁4', '▁-', '▁Kemi', 'k', '▁Tür', 'leri', '▁Fen', '▁ve', '▁Teknoloji', '▁4', '▁-', '▁V', 'ü', 'cu', 'd', 'umuz', '▁-', '▁Kemi', 'k', '▁Tür', 'leri', '▁Et', 'kin', 'liği', '.', '▁V', 'ü', 'cu', 'd', 'umuz', 'daki', '▁kısa', ',', '▁uzun', '▁ve', '▁ya', 's', 'sı', '▁kemi', 'k', 'lerin', '▁hangi', 'leri', '▁biliyor', '▁musunuz', '?', '▁Peki', '▁bilgi', 'nize', '▁güven', 'iyor', '▁musunuz', '?', '▁Şimdi', '▁deneme', '▁zamanı', '.', '▁Fen', '▁ve', '▁Teknoloji', '▁4', '▁-', '▁Madde', '▁Öl', 'ç', 'me', '▁Et', 'kin', 'liği', '▁Fen', '▁ve', '▁Teknoloji', '▁4', '▁-', '▁Madde', '▁Öl', 'ç', 'me', '▁Et', 'kin', 'liği', '▁-', '▁İki', '▁ayrı', '▁bölüm', 'den', '▁oluşan', '▁bu', '▁etkinliği', 'mizde', '▁ka', 'tı', '▁ve', '▁s', 'ıcı', '▁maddeler', 'in', '▁ölçü', 'l', 'mesi', '▁ile', '▁ilgili', '▁temel', '▁bilgileri', 'mizi', '▁ta', 'ze', 'leyeceği', 'z', '.', '▁İlk', '▁bölüm', 'de', '▁boş', 'luk', 'lara', '▁uygun', '▁tan', 'ımı', '▁seç', 'ecek', ',', '▁ikinci', '▁bölüm', 'de', '▁cümle', 'lerde', 'ki', '▁boş', 'luk', 'ları', '▁biz', '▁doldur', 'acağız', '.', '▁Fen', '▁ve', '▁Teknoloji', '▁4', '▁-', '▁İs', 'kelet', '▁Yap', 'alım', '▁Fen', '▁ve', '▁Teknoloji', '▁4', '▁-', '▁V', 'ü', 'cu', 'd', 'umuz', '▁-', '▁Destek', '▁Sistemi', '▁-', '▁İs', 'kelet', '▁yap', 'alım', '▁etkinliği', '.', '▁İs', 'kelet', 'in', '▁tüm', '▁parça', 'ları', '▁dar', 'mada', 'ğın', '▁oldu', '.', '▁Top', 'lamak', '▁için', '▁yardımı', 'nıza', '▁ihtiyacı', 'mız', '▁var', '.', '▁Fen', '▁ve', '▁Teknoloji', '▁4', '▁-', '▁V', 'ü', 'cu', 'd', 'umuz', '▁-', '▁Kemi', 'k', '▁Tür', 'lerini', '▁Bul', '▁Fen', '▁ve', '▁Teknoloji', '▁4', '▁-', '▁V', 'ü', 'ud', 'umuz', '▁-', '▁Kemi', 'k', '▁Tür', 'lerini', '▁Bul', '▁Et', 'kin', 'liği', '▁-', '▁V', 'ü', 'cu', 'd', 'umuz', 'daki', '▁kemi', 'k', '▁tür', 'lerini', '▁yeterince', '▁iyi', '▁tan', 'ıyor', '▁musunuz', '?', '▁Bu', '▁etkinlik', 'te', '▁siz', 'den', '▁önce', '▁kemi', 'k', '▁tür', 'lerini', '▁daha', '▁sonra', '▁kemi', 'k', '▁ad', 'larını', '▁bul', 'manızı', '▁istiyoruz', '.', '▁Fen', '▁ve', '▁Teknoloji', '▁4', '▁-', '▁Destek', '▁Sistemi', '▁Et', 'kin', 'liği', '▁Fen', '▁ve', '▁Teknoloji', '▁4', '▁-', '▁Destek', '▁Sistemi', '▁Et', 'kin', 'liği', '▁-', '▁Kemi', 'k', '▁tür', 'leri', '▁ve', '▁vücudu', 'muz', 'daki', '▁görev', 'leri', '▁konu', 'lu', '▁boş', 'luk', '▁doldur', 'ma', '▁-', '▁balon', '▁etkinliği', '.', '▁Bal', 'on', 'ları', '▁uygun', '▁boş', 'luk', 'lara', '▁bırak', 'ıp', '▁pat', 'lat', 'ın', '.', '▁Fen', '▁ve', '▁Teknoloji', '▁4', '▁-', '▁V', 'ü', 'cu', 'd', 'umuz', '▁-', '▁Kas', 'lar', '▁Fen', '▁ve', '▁Teknoloji', '▁4', '▁-', '▁Destek', '▁Sistemi', '▁ve', '▁Kas', 'larımız', '▁Et', 'kin', 'liği', '▁-', '▁Destek', '▁sistemi', '▁ele', 'man', 'larının', '▁görev', 'lerini', '▁keşfe', 'de', 'lim', '.', '▁Kemi', 'k', '▁tür', 'lerindeki', '▁eş', 'leşme', 'lerin', '▁doğru', 'luğunu', '▁kontrol', '▁ed', 'elim', '.', '▁Fen', '▁ve', '▁Teknoloji', '▁4', '▁-', '▁V', 'ü', 'cu', 'd', 'umuz', '▁Bul', 'mac', 'ası', '▁Fen', '▁ve', '▁Teknoloji', '▁4', '▁-', '▁V', 'ü', 'cu', 'd', 'umuz', '▁bir', '▁bil', 'me', 'ce', '▁ise', '▁onu', '▁bu', '▁bulma', 'ca', '▁ile', '▁yeniden', '▁keşfe', 't', 'mek', '▁ister', '▁mi', 'siniz', '?', '▁Bilgi', 'leriniz', '▁yeterli', 'yse', '▁vücudu', 'muz', '▁bulma', 'ca', 'sını', '▁kolayc', 'a', '▁doldur', 'abilirsiniz', '.', '▁Fen', '▁ve', '▁Teknoloji', '▁4', '▁-', '▁Madde', 'ler', '▁Et', 'kin', 'liği', '▁Fen', '▁ve', '▁Teknoloji', '▁4', '▁-', '▁Madde', 'ler', '▁Et', 'kin', 'liği', '.', '▁Hang', 'i', '▁madde', 'nin', '▁ne', '▁gibi', '▁ni', 'te', 'likleri', '▁olduğunu', '▁bul', 'manızı', '▁istiyoruz', '.', '▁Madde', 'lere', '▁ait', '▁özellikleri', '▁işaret', 'leyin', '▁yanıt', 'larınızı', '▁kontrol', '▁edin', ',', '▁yanlış', 'larınızı', '▁görün', '.', '▁Fen', '▁ve', '▁Teknoloji', '▁4', '▁-', '▁So', 'luk', '▁Al', '▁Ver', '▁Fen', '▁ve', '▁Teknoloji', '▁4', '▁-', '▁Solu', '▁Al', 'ıp', '▁Verme', '▁Et', 'kin', 'liği', '▁-', '▁V', 'ü', 'cu', 'd', 'umuz', '▁nasıl', '▁nefes', '▁alır', '?', '▁Ne', 'fes', '▁al', 'ırken', '▁vücudu', 'muz', 'da', '▁ne', '▁gibi', '▁olaylar', '▁yaşa', 'n', 'ır', '?', '▁So', 'luk', '▁alıp', '▁verme', '▁etkinliği', '▁ile', '▁hava', 'nın', '▁iz', 'lediği', '▁yolu', '▁keşfe', 'de', 'lim', '.', '▁Fen', '▁ve', '▁Teknoloji', '▁4', '▁-', '▁Do', 'laşım', '▁Sistemi', '▁Et', 'kin', 'liği', '▁Fen', '▁ve', '▁Teknoloji', '▁4', '▁-', '▁Do', 'laşım', '▁Sistemi', '▁Et', 'kin', 'liği', '▁-', '▁V', 'ü', 'cu', 'd', 'umuz', 'daki', '▁do', 'laşım', 'da', '▁görev', 'li', '▁organ', '▁ve', '▁yapı', 'ların', '▁görev', 'lerini', '▁tam', '▁olarak', '▁biliyor', 'sanız', '▁bu', '▁etkinliği', '▁başarı', 'yla', '▁tamam', 'layabilirsiniz', '.', '▁Fen', '▁ve', '▁Teknoloji', '▁4', '▁-', '▁Madde', '▁Yap', '▁Et', 'kin', 'liği', '▁Fen', '▁ve', '▁Teknoloji', '▁4', '▁-', '▁Madde', '▁Yap', '▁Et', 'kin', 'liği', '▁-', '▁', 'Profes', 'ör', '▁Bilgi', 'n', '▁Sla', 'yti', 'zle', '▁Labor', 'atu', 'var', 'ında', '▁yeni', '▁bir', '▁makine', '▁i', 'cat', '▁etti', '.', '▁Mak', 'ine', '▁onun', '▁hayal', 'lerini', '▁gerçekleştir', 'iyor', '.', '▁', 'Profes', 'ör', '▁Bilgi', 'n', \"'\", 'in', '▁yeni', '▁eşya', 'lar', '▁yapması', 'na', '▁yardım', '▁edebilir', '▁mi', 'siniz', '?', '▁Fen', '▁ve', '▁Teknoloji', '▁4', '▁-', '▁Madde', 'yi', '▁Ya', 'kala', '!', '▁Fen', '▁ve', '▁Teknoloji', '▁4', '▁-', '▁Madde', 'yi', '▁Ya', 'kala', '▁Et', 'kin', 'liği', '▁-', '▁Madde', 'nin', '▁farklı', '▁özellikleri', 'ne', '▁yönelik', '▁bu', '▁etkinliği', 'mizde', '▁farklı', '▁maddeler', '▁içer', 'sinden', ',', '▁siz', 'den', '▁bul', 'manızı', '▁istediği', 'miz', '▁özel', 'lik', 'teki', '▁c', 'ismi', '▁ya', 'kala', 'manızı', '▁istiyoruz', '.', '▁H', 'ız', 'la', '▁kaç', 'ıyorlar', '▁ama', ',', '▁yaka', 'layın', '▁!', '▁Fen', '▁ve', '▁Teknoloji', '▁4', '▁-', '▁Madde', 'yi', '▁De', 'ği', 'şti', 'r', '▁Fen', '▁ve', '▁Teknoloji', '▁4', '▁-', '▁Madde', 'yi', '▁De', 'ği', 'şti', 'r', '▁Et', 'kin', 'liği', '▁-', '▁', 'Profes', 'ör', '▁Bil', 'en', '▁ham', '▁maddeler', 'i', '▁kullanarak', '▁hayal', 'lerindeki', '▁madde', 'yi', '▁üret', 'meyi', '▁amaçlı', 'yor', '.', '▁Pr', '.', 'Bil', 'en', \"'\", 'in', '▁laborat', 'u', 'var', 'ına', '▁konuk', '▁ol', 'alım', '▁ve', '▁de', 'ney', 'leri', '▁yapması', 'nda', '▁ona', '▁yardım', '▁ed', 'elim', '.', '▁Fen', '▁ve', '▁Teknoloji', '▁4', '▁-', '▁Destek', '▁Hareket', '▁Fen', '▁ve', '▁Teknoloji', '▁4', '▁-', '▁Destek', '▁ve', '▁Hareket', '▁Sistemi', '▁Et', 'kin', 'liği', '.', '▁V', 'ü', 'cu', 'd', 'umuz', 'daki', '▁kemi', 'k', '▁çeşit', 'leri', '▁ve', '▁görev', 'lerini', ',', '▁ek', 'lem', '▁yapı', 'ları', '▁ve', '▁görev', 'lerini', '▁ne', '▁kadar', '▁iyi', '▁tan', 'ıyorsunuz', '?', '▁Bu', '▁inter', 'aktif', '▁etkinlik', 'le', '▁bilgi', 'nizi', '▁', 'sına', 'y', 'abilirsiniz', '.', '▁Fen', '▁ve', '▁Teknoloji', '▁4', '▁-', '▁Doğal', '▁Ya', 'pay', '▁I', 'şık', '▁Fen', '▁ve', '▁Teknoloji', '▁4', '▁-', '▁Doğal', '▁Ya', 'pay', '▁I', 'şık', '▁-', '▁Hayat', 'ımızda', 'ki', '▁doğal', '▁ve', '▁ya', 'pay', '▁ışık', '▁kaynak', 'larını', '▁tan', 'ıyor', '▁musunuz', '?', '▁Ekran', 'a', '▁gelecek', '▁örnekler', '▁arasında', 'n', '▁soru', 'ya', '▁uygun', '▁seçeneği', '▁bulma', 'ya', '▁çalış', 'ın', '.', '▁Soru', 'lar', '▁çel', 'dir', 'ici', ',', '▁dikkat', 'li', '▁olun', '!', '▁Fen', '▁ve', '▁Teknoloji', '▁4', '▁-', '▁Pri', 'z', '▁mi', '?', '▁Pil', '▁mi', '?', '▁Fen', '▁ve', '▁Teknoloji', '▁4', '▁-', '▁Pri', 'z', '▁mi', '?', '▁Pil', '▁mi', '?', '▁Et', 'kin', 'liği', '▁-', '▁Gün', 'lük', '▁yaşam', 'da', '▁kullan', 'dığımız', '▁pek', '▁çok', '▁cihaz', '▁enerji', '▁olmadan', '▁hiç', '▁bir', '▁işe', '▁yara', 'maz', '.', '▁Bu', '▁cihazları', 'n', '▁kimi', 'si', '▁enerjisi', 'ni', '▁pil', 'lerden', ',', '▁kimi', 'si', '▁şehir', '▁elektri', 'ğin', 'den', '▁sağlar', '.', '▁Bu', '▁cihazları', '▁tan', 'ıyor', '▁musunuz', '?', '▁Fen', '▁ve', '▁Teknoloji', '▁4', '▁-', '▁Elektrik', 'li', '▁Elektrik', 'siz', '▁Fen', '▁ve', '▁Teknoloji', '▁4', '▁-', '▁Elektrik', 'li', '▁Elektrik', 'siz', '▁-', '▁Çevre', 'nizde', 'ki', '▁teknoloji', 'k', '▁cihazları', 'n', '▁çalışma', '▁şekil', 'leri', '▁ve', '▁kullan', 'dıkları', '▁enerji', 'ler', '▁hakkında', '▁ne', '▁kadar', '▁bilgiye', '▁sahip', 'siniz', '?', '▁Ci', 'haz', 'ların', '▁hangi', '▁enerji', '▁ile', '▁çalıştı', 'k', 'larını', '▁çöz', 'ebilecek', '▁mi', 'siniz', '?', '▁Kendi', 'nize', '▁güven', 'iyor', 'sanız', '▁baş', 'layın', '.', '▁Fen', '▁ve', '▁Teknoloji', '▁4', '▁-', '▁Dünya', '▁Yu', 'var', 'lak', 'tır', '▁Fen', '▁ve', '▁Teknoloji', '▁4', '▁-', '▁Dünya', '▁Yu', 'var', 'lak', 'tır', '▁-', '▁Yıl', 'lar', '▁yıllar', '▁önce', '▁insanlar', '▁Dünya', 'mızın', '▁düz', '▁olduğuna', '▁in', 'an', 'ıyor', 'lardı', '.', '▁Daha', '▁sonra', '▁bilim', '▁insanları', '▁Dünyanı', 'n', '▁yuva', 'r', 'lak', '▁olduğunu', '▁keşfe', 'tti', 'ler', '.', '▁Nasıl', '▁mı', '?', '▁İşte', '▁böyle', '.', '▁İzle', 'yin', '.', '▁Fen', '▁ve', '▁Teknoloji', '▁4', '▁-', '▁Doğal', '▁Ya', 'pay', '▁Ses', '▁Fen', '▁ve', '▁Teknoloji', '▁4', '▁-', '▁Doğal', '▁Ya', 'pay', '▁Ses', '▁-', '▁Çok', '▁eğlenceli', '▁bir', '▁fen', '▁ve', '▁teknoloji', '▁etkinliği', '▁daha', '.', '▁Kul', 'ak', 'larınızı', '▁iyi', '▁açı', 'n', ',', '▁ho', 'par', 'lö', 'r', 'ünüzü', 'n', '▁se', 'sini', '▁yüksel', 'tin', '▁ve', '▁bu', '▁etkinliği', '▁elbette', '▁ses', 'li', '▁uygula', 'yın', '.', '▁İş', 'i', 'ttiği', 'niz', '▁se', 'sin', '▁doğal', '▁mı', '▁ya', 'pay', '▁mı', '▁olduğunu', '▁keşfe', 't', 'meye', '▁çalış', 'ın', '.', '▁Fen', '▁ve', '▁Teknoloji', '▁4', '▁-', '▁Dünya', 'mızın', '▁Kat', 'man', 'ları', '▁Fen', '▁ve', '▁Teknoloji', '▁4', '▁-', '▁Dünya', 'mızın', '▁Kat', 'man', 'ları', '▁-', '▁Dünya', 'mızın', '▁temel', '▁kat', 'man', 'ları', ':', '▁Hava', '▁kür', 'e', ',', '▁Su', '▁kür', 'e', ',', '▁Taş', '▁Kür', 'e', '▁ve', '▁At', 'eş', '▁Kür', 'e', 'dir', '.', '▁Bu', '▁kat', 'man', 'ları', '▁farklı', '▁görsel', 'lerle', '▁tanım', 'lay', 'abiliyor', 'uz', '.', '▁Siz', 'den', '▁isteği', 'miz', '▁tanım', 'la', 'dığımız', '▁kür', 'eye', '▁ait', '▁doğru', '▁görsel', 'i', '▁bul', 'manız', '.', '▁Fen', '▁ve', '▁Teknoloji', '▁4', '▁-', '▁Termo', 'metre', '▁Et', 'kin', 'liği', '▁Fen', '▁ve', '▁Teknoloji', '▁4', '▁-', '▁Termo', 'metre', '▁Et', 'kin', 'liği', '▁-', '▁Bu', '▁uygulama', 'mızda', '▁termo', 'metre', 'nin', '▁sıcak', 'lıkları', '▁nasıl', '▁tespit', '▁ettiğini', '▁gör', 'meniz', '▁için', '▁farklı', '▁sıcak', 'lık', 'taki', '▁ci', 'sim', 'lerin', '▁sıcak', 'lık', 'larını', '▁ölç', 'meniz', 'i', '▁istiyoruz', '.', '▁Fen', '▁ve', '▁Teknoloji', '▁4', '▁-', '▁I', 'şık', '▁Aydın', 'la', 'tır', '▁Fen', '▁ve', '▁Teknoloji', '▁4', '▁-', '▁I', 'şık', '▁Aydın', 'la', 'tır', '▁Et', 'kin', 'liği', '▁-', '▁Bilgisayar', 'ınızı', 'n', '▁fare', '▁im', 'le', 'ci', '▁bir', '▁el', '▁fen', 'eri', '▁olsaydı', ',', '▁karanlık', '▁bir', '▁od', 'ada', '▁onunla', '▁nasıl', '▁gez', 'er', 'diniz', '?', '▁Biz', '▁yaptık', '.', '▁Bilgisayar', '▁im', 'lec', 'inizi', '▁bir', '▁el', '▁fen', 'er', 'ine', '▁dönüştü', 'rd', 'ük', ',', '▁onun', '▁et', 'raf', 'ı', '▁nasıl', '▁aydın', 'lat', 'tığını', '▁siz', '▁test', '▁edin', '.', '▁Fen', '▁ve', '▁Teknoloji', '▁4', '▁-', '▁Hal', '▁De', 'ğ', 'işim', 'i', '▁Fen', '▁ve', '▁Teknoloji', '▁4', '▁-', '▁Hal', '▁De', 'ğ', 'işim', 'i', '▁-', '▁De', 'dek', 'tif', '▁Su', 'at', ',', '▁çeşitli', '▁maddeler', 'in', '▁hal', '▁değişim', 'i', '▁ile', '▁ilgili', '▁fotoğraf', 'lar', '▁ele', '▁geçir', 'di', '.', '▁Fotoğraf', 'lara', '▁bak', 'ıp', '▁hangi', '▁hal', '▁değişim', 'i', '▁olduğunu', '▁bul', 'masına', '▁yardımcı', '▁olur', '▁musunuz', '?', '▁Fen', '▁ve', '▁Teknoloji', '▁4', '▁-', '▁İ', 't', '▁ve', '▁Çek', '▁Et', 'kin', 'liği', '▁Fen', '▁ve', '▁Teknoloji', '▁4', '▁-', '▁İ', 't', '▁ve', '▁Çek', '▁Et', 'kin', 'liği', '▁-', '▁Bu', '▁etkinliği', 'mizde', '▁it', 'me', '▁ve', '▁çekme', '▁kuvvet', 'ini', '▁farklı', '▁görsel', 'lerle', '▁tanıma', 'ya', '▁çalışıyor', 'uz', '.', '▁İ', 't', 'me', '▁ve', '▁çekme', '▁kuvvet', 'i', '▁üzerine', '▁bilgileri', 'mizi', '▁ta', 'zele', 'y', 'elim', '.', '▁Fen', '▁ve', '▁Teknoloji', '▁4', '▁-', '▁Hareket', '▁Çe', 'şi', 't', 'leri', '▁Et', 'kin', 'liği', '▁Fen', '▁ve', '▁Teknoloji', '▁4', '▁-', '▁Hareket', '▁Çe', 'şi', 't', 'leri', '▁Et', 'kin', 'liği', '▁-', '▁Ekran', 'a', '▁gelecek', '▁fotoğraf', 'ların', '▁her', '▁bir', 'inde', '▁farklı', '▁hareket', '▁tür', 'leri', '▁uygulan', 'makta', '.', '▁Fotoğraf', 'ı', 'ları', '▁bir', '▁bilim', '▁insanı', '▁gözü', 'yle', '▁in', 'cele', 'yip', ',', '▁hangi', '▁hareket', 'lerin', '▁var', '▁olduğunu', '▁bul', 'abilir', '▁mi', 'siniz', '?', '▁Fen', '▁ve', '▁Teknoloji', '▁4', '▁-', '▁Madde', 'nin', '▁Özellikle', 'ri', '▁Etkinlik', '▁Fen', '▁ve', '▁Teknoloji', '▁4', '▁-', '▁Madde', 'nin', '▁Özellikle', 'ri', '▁Et', 'kin', 'liği', '▁-', '▁Do', 'ğa', 'daki', '▁her', '▁madde', 'nin', '▁özellikleri', '▁birbirinden', '▁farklı', 'dır', '.', '▁Madde', 'lerin', '▁farklı', '▁özellikleri', '▁günlük', '▁yaşam', 'da', '▁kendini', '▁nasıl', '▁göster', 'miştir', '?', '▁Et', 'kin', 'liği', 'mizi', '▁uygula', 'yarak', '▁öğren', 'elim', '.', '▁Fen', '▁ve', '▁Teknoloji', '▁4', '▁-', '▁İ', 't', 'me', '▁Çek', 'me', '▁Et', 'kin', 'liği', '▁Fen', '▁ve', '▁Teknoloji', '▁4', '▁-', '▁İ', 't', 'me', '▁Çek', 'me', '▁Et', 'kin', 'liği', '▁-', '▁Bu', '▁etkinliği', 'mizde', '▁yolda', '▁dön', 'erek', '▁i', 'ler', 'leyen', '▁bir', '▁tek', 'er', 'le', 'ğe', '▁uygula', 'dığımız', '▁farklı', '▁yönde', 'ki', '▁kuvvet', 'lerin', '▁te', 'keri', '▁nasıl', 'ya', 'va', 'ş', 'lat', 'tığını', '▁ya', '▁da', '▁nasıl', '▁hızla', 'n', 'dır', 'dığını', '▁iz', 'leyeceği', 'z', '.', '▁Hay', 'di', '▁te', 'keri', '▁hız', 'landırma', 'k', '▁senin', '▁el', 'inde', ',', '▁başla', '▁!', '▁Fen', '▁ve', '▁Teknoloji', '▁4', '▁-', '▁Kar', 'ışı', 'm', '▁ve', '▁Ç', 'öz', 'el', 'ti', '▁Fen', '▁ve', '▁Teknoloji', '▁4', '▁-', '▁Kar', 'ışı', 'm', 'lar', '▁ve', '▁Ç', 'öz', 'elt', 'iler', '▁Et', 'kin', 'liği', '▁-', '▁Ekran', 'a', '▁gelecek', '▁olan', '▁görsel', 'lerden', '▁hangisi', 'nin', '▁saf', '▁madde', ',', '▁karış', 'ım', '▁ya', '▁da', '▁çöz', 'el', 'ti', '▁olduğunu', '▁res', 'me', '▁tıkla', 'yarak', '▁bul', 'alım', '.', '▁Daha', '▁fazla', '▁doğru', '▁yanıt', ',', '▁daha', '▁fazla', '▁başarı', '.', '▁Fen', '▁ve', '▁Teknoloji', '▁4', '▁-', '▁De', 'vre', '▁Bul', 'mac', 'ası', '▁Fen', '▁ve', '▁Teknoloji', '▁4', '▁-', '▁De', 'vre', '▁Bul', 'mac', 'ası', '▁-', '▁Sla', 'yti', 'zle', '.', 'com', 'un', '▁en', '▁sevi', 'len', '▁etkinlikler', 'inden', '▁birisi', ':', '▁Kar', 'ma', 'şık', '▁kelimeler', 'i', '▁bulma', '.', '▁Bu', '▁eğlenceli', '▁etkinlik', 'le', '▁bu', '▁kez', '▁de', 'vre', '▁ele', 'man', 'ları', '▁ile', '▁ilgili', '▁ter', 'im', 'leri', '▁bul', 'uyoruz', '.', '▁Hem', '▁kelimeler', 'i', '▁tan', 'ıyor', ',', '▁hem', '▁bil', 'dik', 'lerimizi', '▁ha', 'tır', 'lıyoruz', '.', '▁Fen', '▁ve', '▁Teknoloji', '▁4', '▁-', '▁Hayvan', '▁Ses', 'leri', '▁Et', 'kin', 'liği', '▁Fen', '▁ve', '▁Teknoloji', '▁4', '▁-', '▁Hayvan', '▁Ses', 'leri', '▁Et', 'kin', 'liği', '▁-', '▁Bu', '▁etkinliği', 'mizde', '▁siz', 'den', '▁isteği', 'miz', '▁işi', 'ttiği', 'niz', '▁hayvan', 'ın', '▁se', 'sini', '▁bul', 'manız', '.', '▁Se', 'si', '▁din', 'leyin', ',', '▁doğru', '▁hayvan', 'ın', '▁fotoğraf', 'ını', '▁bulma', 'ya', '▁çalış', 'ın', '.', '▁31', '▁adet', '▁sla', 'yt', '.']\n"
     ]
    }
   ],
   "source": [
    "print(tokenizer.tokenize(dataset[5][\"text\"]))"
   ]
  },
  {
   "cell_type": "code",
   "execution_count": 28,
   "metadata": {},
   "outputs": [
    {
     "name": "stdout",
     "output_type": "stream",
     "text": [
      "<s> Fen Bilimleri 4. Sınıf Slaytları - Ders sunuları Fen Bilimleri 4.Sınıf Etkinlikleri Fen ve Teknoloji 4 - Hammadde Bul Fen ve Teknoloji 4 - Hammadde Bul Etkinliği - Bu etkinlikte ekrana gelecek ürünlerin nelerden yapılmış olabileceğini tahmin etmenizi ve ürünün ham maddesini keşfetmenizi istiyoruz. Başarılar... Fen ve Teknoloji 4 - Kemik Türleri Fen ve Teknoloji 4 - Vücudumuz - Kemik Türleri Etkinliği. Vücudumuzdaki kısa, uzun ve yassı kemiklerin hangileri biliyor musunuz? Peki bilginize güveniyor musunuz? Şimdi deneme zamanı. Fen ve Teknoloji 4 - Madde Ölçme Etkinliği Fen ve Teknoloji 4 - Madde Ölçme Etkinliği - İki ayrı bölümden oluşan bu etkinliğimizde katı ve sıcı maddelerin ölçülmesi ile ilgili temel bilgilerimizi tazeleyeceğiz. İlk bölümde boşluklara uygun tanımı seçecek, ikinci bölümde cümlelerdeki boşlukları biz dolduracağız. Fen ve Teknoloji 4 - İskelet Yapalım Fen ve Teknoloji 4 - Vücudumuz - Destek Sistemi - İskelet yapalım etkinliği. İskeletin tüm parçaları darmadağın oldu. Toplamak için yardımınıza ihtiyacımız var. Fen ve Teknoloji 4 - Vücudumuz - Kemik Türlerini Bul Fen ve Teknoloji 4 - Vüudumuz - Kemik Türlerini Bul Etkinliği - Vücudumuzdaki kemik türlerini yeterince iyi tanıyor musunuz? Bu etkinlikte sizden önce kemik türlerini daha sonra kemik adlarını bulmanızı istiyoruz. Fen ve Teknoloji 4 - Destek Sistemi Etkinliği Fen ve Teknoloji 4 - Destek Sistemi Etkinliği - Kemik türleri ve vücudumuzdaki görevleri konulu boşluk doldurma - balon etkinliği. Balonları uygun boşluklara bırakıp patlatın. Fen ve Teknoloji 4 - Vücudumuz - Kaslar Fen ve Teknoloji 4 - Destek Sistemi ve Kaslarımız Etkinliği - Destek sistemi elemanlarının görevlerini keşfedelim. Kemik türlerindeki eşleşmelerin doğruluğunu kontrol edelim. Fen ve Teknoloji 4 - Vücudumuz Bulmacası Fen ve Teknoloji 4 - Vücudumuz bir bilmece ise onu bu bulmaca ile yeniden keşfetmek ister misiniz? Bilgileriniz yeterliyse vücudumuz bulmacasını kolayca doldurabilirsiniz. Fen ve Teknoloji 4 - Maddeler Etkinliği Fen ve Teknoloji 4 - Maddeler Etkinliği. Hangi maddenin ne gibi nitelikleri olduğunu bulmanızı istiyoruz. Maddelere ait özellikleri işaretleyin yanıtlarınızı kontrol edin, yanlışlarınızı görün. Fen ve Teknoloji 4 - Soluk Al Ver Fen ve Teknoloji 4 - Solu Alıp Verme Etkinliği - Vücudumuz nasıl nefes alır? Nefes alırken vücudumuzda ne gibi olaylar yaşanır? Soluk alıp verme etkinliği ile havanın izlediği yolu keşfedelim. Fen ve Teknoloji 4 - Dolaşım Sistemi Etkinliği Fen ve Teknoloji 4 - Dolaşım Sistemi Etkinliği - Vücudumuzdaki dolaşımda görevli organ ve yapıların görevlerini tam olarak biliyorsanız bu etkinliği başarıyla tamamlayabilirsiniz. Fen ve Teknoloji 4 - Madde Yap Etkinliği Fen ve Teknoloji 4 - Madde Yap Etkinliği - Profesör Bilgin Slaytizle Laboratuvarında yeni bir makine icat etti. Makine onun hayallerini gerçekleştiriyor. Profesör Bilgin'in yeni eşyalar yapmasına yardım edebilir misiniz? Fen ve Teknoloji 4 - Maddeyi Yakala! Fen ve Teknoloji 4 - Maddeyi Yakala Etkinliği - Maddenin farklı özelliklerine yönelik bu etkinliğimizde farklı maddeler içersinden, sizden bulmanızı istediğimiz özellikteki cismi yakalamanızı istiyoruz. Hızla kaçıyorlar ama, yakalayın ! Fen ve Teknoloji 4 - Maddeyi Değiştir Fen ve Teknoloji 4 - Maddeyi Değiştir Etkinliği - Profesör Bilen ham maddeleri kullanarak hayallerindeki maddeyi üretmeyi amaçlıyor. Pr.Bilen'in laboratuvarına konuk olalım ve deneyleri yapmasında ona yardım edelim. Fen ve Teknoloji 4 - Destek Hareket Fen ve Teknoloji 4 - Destek ve Hareket Sistemi Etkinliği. Vücudumuzdaki kemik çeşitleri ve görevlerini, eklem yapıları ve görevlerini ne kadar iyi tanıyorsunuz? Bu interaktif etkinlikle bilginizi sınayabilirsiniz. Fen ve Teknoloji 4 - Doğal Yapay Işık Fen ve Teknoloji 4 - Doğal Yapay Işık - Hayatımızdaki doğal ve yapay ışık kaynaklarını tanıyor musunuz? Ekrana gelecek örnekler arasından soruya uygun seçeneği bulmaya çalışın. Sorular çeldirici, dikkatli olun! Fen ve Teknoloji 4 - Priz mi? Pil mi? Fen ve Teknoloji 4 - Priz mi? Pil mi? Etkinliği - Günlük yaşamda kullandığımız pek çok cihaz enerji olmadan hiç bir işe yaramaz. Bu cihazların kimisi enerjisini pillerden, kimisi şehir elektriğinden sağlar. Bu cihazları tanıyor musunuz? Fen ve Teknoloji 4 - Elektrikli Elektriksiz Fen ve Teknoloji 4 - Elektrikli Elektriksiz - Çevrenizdeki teknolojik cihazların çalışma şekilleri ve kullandıkları enerjiler hakkında ne kadar bilgiye sahipsiniz? Cihazların hangi enerji ile çalıştıklarını çözebilecek misiniz? Kendinize güveniyorsanız başlayın. Fen ve Teknoloji 4 - Dünya Yuvarlaktır Fen ve Teknoloji 4 - Dünya Yuvarlaktır - Yıllar yıllar önce insanlar Dünyamızın düz olduğuna inanıyorlardı. Daha sonra bilim insanları Dünyanın yuvarlak olduğunu keşfettiler. Nasıl mı? İşte böyle. İzleyin. Fen ve Teknoloji 4 - Doğal Yapay Ses Fen ve Teknoloji 4 - Doğal Yapay Ses - Çok eğlenceli bir fen ve teknoloji etkinliği daha. Kulaklarınızı iyi açın, hoparlörünüzün sesini yükseltin ve bu etkinliği elbette sesli uygulayın. İşittiğiniz sesin doğal mı yapay mı olduğunu keşfetmeye çalışın. Fen ve Teknoloji 4 - Dünyamızın Katmanları Fen ve Teknoloji 4 - Dünyamızın Katmanları - Dünyamızın temel katmanları: Hava küre, Su küre, Taş Küre ve Ateş Küredir. Bu katmanları farklı görsellerle tanımlayabiliyoruz. Sizden isteğimiz tanımladığımız küreye ait doğru görseli bulmanız. Fen ve Teknoloji 4 - Termometre Etkinliği Fen ve Teknoloji 4 - Termometre Etkinliği - Bu uygulamamızda termometrenin sıcaklıkları nasıl tespit ettiğini görmeniz için farklı sıcaklıktaki cisimlerin sıcaklıklarını ölçmenizi istiyoruz. Fen ve Teknoloji 4 - Işık Aydınlatır Fen ve Teknoloji 4 - Işık Aydınlatır Etkinliği - Bilgisayarınızın fare imleci bir el feneri olsaydı, karanlık bir odada onunla nasıl gezerdiniz? Biz yaptık. Bilgisayar imlecinizi bir el fenerine dönüştürdük, onun etrafı nasıl aydınlattığını siz test edin. Fen ve Teknoloji 4 - Hal Değişimi Fen ve Teknoloji 4 - Hal Değişimi - Dedektif Suat, çeşitli maddelerin hal değişimi ile ilgili fotoğraflar ele geçirdi. Fotoğraflara bakıp hangi hal değişimi olduğunu bulmasına yardımcı olur musunuz? Fen ve Teknoloji 4 - İt ve Çek Etkinliği Fen ve Teknoloji 4 - İt ve Çek Etkinliği - Bu etkinliğimizde itme ve çekme kuvvetini farklı görsellerle tanımaya çalışıyoruz. İtme ve çekme kuvveti üzerine bilgilerimizi tazeleyelim. Fen ve Teknoloji 4 - Hareket Çeşitleri Etkinliği Fen ve Teknoloji 4 - Hareket Çeşitleri Etkinliği - Ekrana gelecek fotoğrafların her birinde farklı hareket türleri uygulanmakta. Fotoğrafıları bir bilim insanı gözüyle inceleyip, hangi hareketlerin var olduğunu bulabilir misiniz? Fen ve Teknoloji 4 - Maddenin Özellikleri Etkinlik Fen ve Teknoloji 4 - Maddenin Özellikleri Etkinliği - Doğadaki her maddenin özellikleri birbirinden farklıdır. Maddelerin farklı özellikleri günlük yaşamda kendini nasıl göstermiştir? Etkinliğimizi uygulayarak öğrenelim. Fen ve Teknoloji 4 - İtme Çekme Etkinliği Fen ve Teknoloji 4 - İtme Çekme Etkinliği - Bu etkinliğimizde yolda dönerek ilerleyen bir tekerleğe uyguladığımız farklı yöndeki kuvvetlerin tekeri nasılyavaşlattığını ya da nasıl hızlandırdığını izleyeceğiz. Haydi tekeri hızlandırmak senin elinde, başla ! Fen ve Teknoloji 4 - Karışım ve Çözelti Fen ve Teknoloji 4 - Karışımlar ve Çözeltiler Etkinliği - Ekrana gelecek olan görsellerden hangisinin saf madde, karışım ya da çözelti olduğunu resme tıklayarak bulalım. Daha fazla doğru yanıt, daha fazla başarı. Fen ve Teknoloji 4 - Devre Bulmacası Fen ve Teknoloji 4 - Devre Bulmacası - Slaytizle.comun en sevilen etkinliklerinden birisi: Karmaşık kelimeleri bulma. Bu eğlenceli etkinlikle bu kez devre elemanları ile ilgili terimleri buluyoruz. Hem kelimeleri tanıyor, hem bildiklerimizi hatırlıyoruz. Fen ve Teknoloji 4 - Hayvan Sesleri Etkinliği Fen ve Teknoloji 4 - Hayvan Sesleri Etkinliği - Bu etkinliğimizde sizden isteğimiz işittiğiniz hayvanın sesini bulmanız. Sesi dinleyin, doğru hayvanın fotoğrafını bulmaya çalışın. 31 adet slayt.</s>\n"
     ]
    }
   ],
   "source": [
    "print(tokenizer.decode(tokenizer.encode(dataset[5][\"text\"])))"
   ]
  },
  {
   "cell_type": "code",
   "execution_count": 29,
   "metadata": {},
   "outputs": [],
   "source": [
    "dataset = dataset.filter(lambda x:( len(tokenizer.encode(x[\"text\"])) )<max_seq_length)"
   ]
  },
  {
   "cell_type": "code",
   "execution_count": 30,
   "metadata": {},
   "outputs": [],
   "source": [
    "dataset = dataset.shuffle(seed=42)\n",
    "dataset = dataset.shuffle(seed=41)\n",
    "dataset = dataset.shuffle(seed=40)\n",
    "dataset = dataset.shuffle(seed=39)"
   ]
  },
  {
   "cell_type": "code",
   "execution_count": 31,
   "metadata": {},
   "outputs": [],
   "source": [
    "from datasets import DatasetDict\n",
    "\n",
    "# 1. Veriyi train ve test olarak ayırma\n",
    "# Örneğin, dataset zaten tek bir büyük veri seti (örneğin \"data\") içeriyor\n",
    "# Bunu %80 train ve %20 test olarak bölelim\n",
    "train_dataset, temp_dataset = dataset.train_test_split(test_size=0.1, seed=42).values()\n",
    "\n",
    "# 2. Test setini de %50 validation ve %50 test olarak bölelim\n",
    "val_dataset, test_dataset = temp_dataset.train_test_split(test_size=0.2, seed=42).values()"
   ]
  },
  {
   "cell_type": "code",
   "execution_count": 32,
   "metadata": {},
   "outputs": [],
   "source": [
    "#model.gradient_checkpointing_enable()\n",
    "model.use_cache = True"
   ]
  },
  {
   "cell_type": "code",
   "execution_count": 33,
   "metadata": {},
   "outputs": [
    {
     "name": "stderr",
     "output_type": "stream",
     "text": [
      "\u001b[34m\u001b[1mwandb\u001b[0m: Using wandb-core as the SDK backend.  Please refer to https://wandb.me/wandb-core for more information.\n",
      "\u001b[34m\u001b[1mwandb\u001b[0m: Currently logged in as: \u001b[33mh-osmankarabulut\u001b[0m to \u001b[32mhttps://api.wandb.ai\u001b[0m. Use \u001b[1m`wandb login --relogin`\u001b[0m to force relogin\n"
     ]
    },
    {
     "data": {
      "text/html": [
       "creating run (0.0s)"
      ],
      "text/plain": [
       "<IPython.core.display.HTML object>"
      ]
     },
     "metadata": {},
     "output_type": "display_data"
    },
    {
     "data": {
      "text/html": [
       "Tracking run with wandb version 0.19.9"
      ],
      "text/plain": [
       "<IPython.core.display.HTML object>"
      ]
     },
     "metadata": {},
     "output_type": "display_data"
    },
    {
     "data": {
      "text/html": [
       "Run data is saved locally in <code>/media/hosman/Yerel Disk D/Codes/Basic LLM Train/wandb/run-20250422_182403-q5q5kjiy</code>"
      ],
      "text/plain": [
       "<IPython.core.display.HTML object>"
      ]
     },
     "metadata": {},
     "output_type": "display_data"
    },
    {
     "data": {
      "text/html": [
       "Resuming run <strong><a href='https://wandb.ai/h-osmankarabulut/Basic%20LLM%20Train/runs/q5q5kjiy' target=\"_blank\">Crispy-330M-V2-Rope-NewTokenizer-JustLanguage</a></strong> to <a href='https://wandb.ai/h-osmankarabulut/Basic%20LLM%20Train' target=\"_blank\">Weights & Biases</a> (<a href='https://wandb.me/developer-guide' target=\"_blank\">docs</a>)<br>"
      ],
      "text/plain": [
       "<IPython.core.display.HTML object>"
      ]
     },
     "metadata": {},
     "output_type": "display_data"
    },
    {
     "data": {
      "text/html": [
       " View project at <a href='https://wandb.ai/h-osmankarabulut/Basic%20LLM%20Train' target=\"_blank\">https://wandb.ai/h-osmankarabulut/Basic%20LLM%20Train</a>"
      ],
      "text/plain": [
       "<IPython.core.display.HTML object>"
      ]
     },
     "metadata": {},
     "output_type": "display_data"
    },
    {
     "data": {
      "text/html": [
       " View run at <a href='https://wandb.ai/h-osmankarabulut/Basic%20LLM%20Train/runs/q5q5kjiy' target=\"_blank\">https://wandb.ai/h-osmankarabulut/Basic%20LLM%20Train/runs/q5q5kjiy</a>"
      ],
      "text/plain": [
       "<IPython.core.display.HTML object>"
      ]
     },
     "metadata": {},
     "output_type": "display_data"
    },
    {
     "ename": "AttributeError",
     "evalue": "module 'wandb' has no attribute 'notebook'",
     "output_type": "error",
     "traceback": [
      "\u001b[0;31m---------------------------------------------------------------------------\u001b[0m",
      "\u001b[0;31mAttributeError\u001b[0m                            Traceback (most recent call last)",
      "Cell \u001b[0;32mIn[33], line 5\u001b[0m\n\u001b[1;32m      3\u001b[0m wb_c \u001b[38;5;241m=\u001b[39m wandb\u001b[38;5;241m.\u001b[39minit(project\u001b[38;5;241m=\u001b[39m\u001b[38;5;124m\"\u001b[39m\u001b[38;5;124mBasic LLM Train\u001b[39m\u001b[38;5;124m\"\u001b[39m, name\u001b[38;5;241m=\u001b[39m\u001b[38;5;124m\"\u001b[39m\u001b[38;5;124mCrispy-330M-V2-Rope-NewTokenizer-JustLanguage\u001b[39m\u001b[38;5;124m\"\u001b[39m , resume\u001b[38;5;241m=\u001b[39m\u001b[38;5;124m\"\u001b[39m\u001b[38;5;124mallow\u001b[39m\u001b[38;5;124m\"\u001b[39m, \u001b[38;5;28mid\u001b[39m\u001b[38;5;241m=\u001b[39m\u001b[38;5;124m\"\u001b[39m\u001b[38;5;124mq5q5kjiy\u001b[39m\u001b[38;5;124m\"\u001b[39m) \u001b[38;5;66;03m#id=\"a7zeymst\",id=\"ecibz7e4\" id=\"dbaxrwf4\"\u001b[39;00m\n\u001b[1;32m      4\u001b[0m wb_c\u001b[38;5;241m.\u001b[39mwatch(model, log\u001b[38;5;241m=\u001b[39m\u001b[38;5;124m\"\u001b[39m\u001b[38;5;124mall\u001b[39m\u001b[38;5;124m\"\u001b[39m)\n\u001b[0;32m----> 5\u001b[0m \u001b[43mwandb\u001b[49m\u001b[38;5;241;43m.\u001b[39;49m\u001b[43mnotebook\u001b[49m\u001b[38;5;241m.\u001b[39minit()\n",
      "\u001b[0;31mAttributeError\u001b[0m: module 'wandb' has no attribute 'notebook'"
     ]
    }
   ],
   "source": [
    "import wandb\n",
    "\n",
    "wb_c = wandb.init(project=\"Basic LLM Train\", name=\"Crispy-330M-V2-Rope-NewTokenizer-JustLanguage\" , resume=\"allow\", id=\"q5q5kjiy\") #id=\"a7zeymst\",id=\"ecibz7e4\" id=\"dbaxrwf4\"\n",
    "wb_c.watch(model, log=\"all\")\n",
    "wandb.notebook.init()"
   ]
  },
  {
   "cell_type": "code",
   "execution_count": null,
   "metadata": {},
   "outputs": [],
   "source": [
    "import wandb\n",
    "import evaluate\n",
    "import numpy as np\n",
    "from prettytable import PrettyTable\n",
    "import torch\n",
    "import re\n",
    "from rapidfuzz import fuzz\n",
    "\n",
    "def exact_match(prediction, reference):\n",
    "    return prediction.strip().lower() == reference.strip().lower()\n",
    "\n",
    "def contains_correct_result(prediction, reference):\n",
    "    try:\n",
    "        ref_nums = [int(s) for s in re.findall(r\"\\d+\", reference)]\n",
    "        pred_nums = [int(s) for s in re.findall(r\"\\d+\", prediction)]\n",
    "        return any(num in pred_nums for num in ref_nums)\n",
    "    except:\n",
    "        return False\n",
    "\n",
    "def fuzzy_match_score(prediction, reference):\n",
    "    return fuzz.ratio(prediction, reference) / 100.0  # normalize to 0-1\n",
    "\n",
    "def evaluate_model(model, tokenizer, test_dataset, max_seq_length=256):\n",
    "    \"\"\"\n",
    "    Eğitilmiş modeli test veri kümesi üzerinde değerlendirir ve sonuçları wandb'a loglar.\n",
    "    \n",
    "    Parametreler:\n",
    "    - model: Eğitilmiş dil modeli\n",
    "    - tokenizer: Modelin tokenizer'ı\n",
    "    - test_dataset: Test veri kümesi (instruction-output içermeli)\n",
    "    - max_seq_length: Maksimum yanıt uzunluğu (varsayılan: 256)\n",
    "\n",
    "    Çıktı:\n",
    "    - Metin tablosu (PrettyTable ile)\n",
    "    - wandb logları\n",
    "    \"\"\"\n",
    "\n",
    "    # Değerlendirme metriklerini yükleme\n",
    "    rouge = evaluate.load(\"rouge\")\n",
    "    bleu = evaluate.load(\"bleu\")\n",
    "    meteor = evaluate.load(\"meteor\")\n",
    "    bertscore = evaluate.load(\"bertscore\")\n",
    "\n",
    "    predictions = []\n",
    "    references = []\n",
    "    exact_matches = []\n",
    "    correct_results = []\n",
    "    fuzzy_scores = []\n",
    "\n",
    "    # Modeli değerlendirme moduna al\n",
    "    model.eval()\n",
    "\n",
    "    print(\"🚀 Model test verisi üzerinde değerlendiriliyor...\\n\")\n",
    "\n",
    "    for example in test_dataset:\n",
    "        input_text = f\"### Talimat:\\n{example['instruction']}\\n\\n### Yanıt:\\n\"\n",
    "        reference_text = example[\"output\"]\n",
    "\n",
    "        inputs = tokenizer(input_text, return_tensors=\"pt\").to(model.device)\n",
    "\n",
    "        with torch.no_grad():\n",
    "            output_ids = model.generate(**inputs, max_new_tokens=max_seq_length)\n",
    "\n",
    "        decoded_output = tokenizer.decode(output_ids[0], skip_special_tokens=True)\n",
    "        decoded_output = decoded_output.split(\"### Yanıt\")[-1].strip()\n",
    "\n",
    "        predictions.append(decoded_output)\n",
    "        references.append(reference_text)\n",
    "\n",
    "        exact_matches.append(exact_match(decoded_output, reference_text))\n",
    "        correct_results.append(contains_correct_result(decoded_output, reference_text))\n",
    "        fuzzy_scores.append(fuzzy_match_score(decoded_output, reference_text))\n",
    "\n",
    "    # Metrik hesaplamaları\n",
    "    rouge_scores = rouge.compute(predictions=predictions, references=references)\n",
    "    bleu_score = bleu.compute(predictions=predictions, references=[[ref] for ref in references])\n",
    "    meteor_score = meteor.compute(predictions=predictions, references=references)\n",
    "    bert_scores = bertscore.compute(predictions=predictions, references=references, lang=\"tr\")\n",
    "\n",
    "    bert_precision = np.mean(bert_scores[\"precision\"])\n",
    "    bert_recall = np.mean(bert_scores[\"recall\"])\n",
    "    bert_f1 = np.mean(bert_scores[\"f1\"])\n",
    "    exact_match_score = np.mean(exact_matches)\n",
    "    correct_result_score = np.mean(correct_results)\n",
    "    fuzzy_match_avg = np.mean(fuzzy_scores)\n",
    "\n",
    "    # Sonuçları tabloya ekle\n",
    "    table = PrettyTable()\n",
    "    table.field_names = [\"Metrik\", \"Değer\"]\n",
    "    table.add_row([\"ROUGE-1\", round(rouge_scores[\"rouge1\"], 4)])\n",
    "    table.add_row([\"ROUGE-2\", round(rouge_scores[\"rouge2\"], 4)])\n",
    "    table.add_row([\"ROUGE-L\", round(rouge_scores[\"rougeL\"], 4)])\n",
    "    table.add_row([\"BLEU\", round(bleu_score[\"bleu\"], 4)])\n",
    "    table.add_row([\"METEOR\", round(meteor_score[\"meteor\"], 4)])\n",
    "    table.add_row([\"BERTScore Precision\", round(bert_precision, 4)])\n",
    "    table.add_row([\"BERTScore Recall\", round(bert_recall, 4)])\n",
    "    table.add_row([\"BERTScore F1\", round(bert_f1, 4)])\n",
    "    table.add_row([\"Exact Match\", round(exact_match_score, 4)])\n",
    "    table.add_row([\"Contains Correct Result\", round(correct_result_score, 4)])\n",
    "    table.add_row([\"Fuzzy Match\", round(fuzzy_match_avg, 4)])\n",
    "\n",
    "    # Sonuçları yazdır\n",
    "    print(table)\n",
    "\n",
    "    # wandb log\n",
    "    wandb.log({\n",
    "        \"ROUGE-1\": rouge_scores[\"rouge1\"],\n",
    "        \"ROUGE-2\": rouge_scores[\"rouge2\"],\n",
    "        \"ROUGE-L\": rouge_scores[\"rougeL\"],\n",
    "        \"BLEU\": bleu_score[\"bleu\"],\n",
    "        \"METEOR\": meteor_score[\"meteor\"],\n",
    "        \"BERTScore Precision\": bert_precision,\n",
    "        \"BERTScore Recall\": bert_recall,\n",
    "        \"BERTScore F1\": bert_f1,\n",
    "        \"Exact Match\": exact_match_score,\n",
    "        \"Contains Correct Result\": correct_result_score,\n",
    "        \"Fuzzy Match\": fuzzy_match_avg\n",
    "    })\n",
    "\n",
    "    print(\"\\n✅ Model değerlendirme tamamlandı ve tüm metrikler wandb'a loglandı.\")\n"
   ]
  },
  {
   "cell_type": "code",
   "execution_count": null,
   "metadata": {},
   "outputs": [
    {
     "data": {
      "text/plain": [
       "'Sigarayı Bırakmak İçin 9 Şubat Bir Dönüm Noktası Olsun » 08 Olay | En Güncel Artvin Haberleri Artvin İçin Görüyoruz, Artvin İçin Yazıyoruz\\nYeşilay Artvin Şube Başkanı Av. Tüncer Başer, “9 Şubat Dünya Sigarayı Bırakma Günü” dolayısıyla önemli açıklamalarda bulundu.\\nYeşilay Artvin Şube Başkanı Av. Tüncer Başer dünya genelinde 1,2 milyar insan sigara kullandığına dikkat çekerek tütünden hastalıklar sebebiyle her yıl 6 milyon insanımızı hayatını kaybettiğine dikkat çekti.\\nBaşer, sigaranın hem kişiye hem çevresine verdiği zararları hatırlatarak, sigara bağımlıları için 9 Şubat Dünya Sigarayı Bırakma Günü’nün bir dönüm noktası olabileceğini söyleyerek şu açıklamalarda bulundu:\\n“Dünya Sağlık Örgütü, dünyada en büyük sağlık sorunun sigara olduğunu açıkladı. İstatistiklere göre sigara içmek dünya çapında bir problem ve tahminen her 3 yetişkinden biri sigara kullanıyor. Sigara, fiziksel, sosyal ve ekonomik bakımdan yıkıcı sonuçlara yol açan ciddi bir bağımlılıktır. Ülkemizde her yıl 100 binden fazla insanımızı sigardan dolayı kaybediyoruz. Bunun yanında pasif etkilenimden doğan hastalıklar ve zararlar da ayrı bir acı tablo. Önemli bir halk sağlığı sorunu olan sigara kullanımı aynı zamanda birey ve ülke ekonomisini olumsuz yönde etkileyen bir bağımlılık.”\\nSigaradan kurtulmanın mümkün olduğunu dile getiren Av.Tüncer Başer; “Sigara size ve sevdiklerinize zarar veriyor. 9 Şubat Dünya Sigarayı Bırakma Günü bu anlamda bırakmak isteyenle riçin bir fırsat. Bu konuda tüm vatandaşlarımızdan hassasiyet rica ediyoruz. Kullananların bırakmasını, kullanmayanların da daha bilinçli olarak kendileri ve sevdikleri için model olmasını, çevreye karşı da uyarıcı olmasını istiyoruz” dedi.\\nAv. Tüncer Başer, açıklamalarının devamında; “Sigara ihlallerini kolay bir şekilde bildirmek amacıyla Yeşilay ve Sağlık Bakanlığının hayata geçirdiği Yeşil Dedektör, mobil uygulaması 130 bin kullanıcıya ulaştı. Yeşil Dedektör, kapalı mekânlarda tütün mamülleri kullanımını ihlal eden işletme ve müşterilerin ihlallerini azaltmayı amaçlıyor. Uygulama, 2008 yılında yürürlüğe giren kapalı mekânlarda tütün mamulleri kullanım yasağına uyulmasını sağlamak, ihlallere karşı toplumda farkındalık oluşturarak tütün mamulleri kullanmayan vatandaşlarımızın haklarını korumak ve yasal hakları konusunda bilinçlendirmek amacıyla geliştirildi. Uygulama ile kullanıcı ihlal bildirimini, tek tıkla konum belirleyerek ve mekân adı seçerek bildirebiliyor. İhlal bildirimi sonrasında bildirim, Sağlık Bakanlığı’nın Yeşil Dedektör için ayırmış olduğu sisteme düşüyor ve oradan de saha ekiplerine ulaşıyor. Saha denetim ekipleri ihlal bildiriminin yapıldığı mekâna ulaşarak ihlal olup olmadığını denetleyip ve gerekli işlemi yapıyor. Bu kapsamda tütün mamulleri kullanmayan müşterilerin hakkının korunması, yasağa uyumun sağlanması yoluyla ihlallerin asgariye indirilmesi sağlanıyor.\\nYeşilay Sağlık Bakanlığıyla birlikte sigarayı bırakmaya yönelik olarak “Sigarayı Bırak, Hayatı Bırakma” kampanyasını hayata geçirdi. Bilimsel alt yapılı, uzman kadrolarla hazırlanan bu kampanyada bilhassa dijital medya kanalları ve kamu spotları kullanılarak sigara bağımlılığına yönelik bilinçlendirme çalışmaları yapılıyor. Sigarayı bırakmak isteyenlere özel programların hazırlandığı bırakabilirsin.org sitesi yanı sıra kamu spotları da sigara bağımlısı ve sigarasız yaşam üzerinden mesajlarını veriyor” ifadelerine vurgu yaptı.'"
      ]
     },
     "execution_count": 35,
     "metadata": {},
     "output_type": "execute_result"
    }
   ],
   "source": [
    "train_dataset[0][\"text\"]"
   ]
  },
  {
   "cell_type": "code",
   "execution_count": null,
   "metadata": {},
   "outputs": [],
   "source": [
    "#model.gradient_checkpointing_enable()"
   ]
  },
  {
   "cell_type": "code",
   "execution_count": null,
   "metadata": {},
   "outputs": [
    {
     "data": {
      "text/plain": [
       "<torch.autograd.anomaly_mode.set_detect_anomaly at 0x78afc63b4b90>"
      ]
     },
     "execution_count": 37,
     "metadata": {},
     "output_type": "execute_result"
    }
   ],
   "source": [
    "torch.autograd.set_detect_anomaly(True)"
   ]
  },
  {
   "cell_type": "code",
   "execution_count": null,
   "metadata": {},
   "outputs": [],
   "source": [
    "#val_dataset = val_dataset.select(range(10100, 11000))"
   ]
  },
  {
   "cell_type": "code",
   "execution_count": null,
   "metadata": {},
   "outputs": [],
   "source": [
    "import math\n",
    "\n",
    "def get_warmup_steps_from_dataset(dataset_len, batch_size, num_epochs, pct=0.05):\n",
    "    \"\"\"\n",
    "    Dataset bilgisine göre dinamik warmup step sayısı hesaplar.\n",
    "\n",
    "    Args:\n",
    "        dataset_len (int): Dataset’teki toplam örnek sayısı.\n",
    "        batch_size (int): Batch başına örnek sayısı.\n",
    "        num_epochs (int): Toplam epoch sayısı.\n",
    "        pct (float): Warmup oranı (0.03 - 0.1 arası önerilir).\n",
    "\n",
    "    Returns:\n",
    "        int: Warmup step sayısı.\n",
    "    \"\"\"\n",
    "    steps_per_epoch = math.ceil(dataset_len / batch_size)\n",
    "    total_steps = steps_per_epoch * num_epochs\n",
    "    warmup_steps = int(total_steps * pct)\n",
    "    return warmup_steps\n"
   ]
  },
  {
   "cell_type": "code",
   "execution_count": null,
   "metadata": {},
   "outputs": [],
   "source": [
    "from transformers import TrainerCallback\n",
    "import torch\n",
    "import wandb\n",
    "import os\n",
    "import shutil\n",
    "\n",
    "class GradientCheckCallback(TrainerCallback):\n",
    "    def on_step_end(self, args, state, control, **kwargs):\n",
    "        model = kwargs[\"model\"]\n",
    "\n",
    "        found_problem = False\n",
    "        for name, param in model.named_parameters():\n",
    "            if param.grad is not None:\n",
    "                if torch.isnan(param.grad).any():\n",
    "                    print(f\"🚨 NaN in gradients of {name}\")\n",
    "                    found_problem = True\n",
    "                if torch.isinf(param.grad).any():\n",
    "                    print(f\"🚨 Inf in gradients of {name}\")\n",
    "                    found_problem = True\n",
    "\n",
    "        if found_problem:\n",
    "            print(f\"⛔ Problematic gradients detected at step {state.global_step}!\")\n",
    "            \n",
    "            control.should_training_stop = True  # Eğitimi durdur\n",
    "\n",
    "\n",
    "        return control\n",
    "\n",
    "\n",
    "class ManualGradientClipCallback(TrainerCallback):\n",
    "    def __init__(self, max_grad_norm=1.0):\n",
    "        self.max_grad_norm = max_grad_norm\n",
    "\n",
    "    def on_step_end(self, args, state, control, **kwargs):\n",
    "        model = kwargs[\"model\"]\n",
    "\n",
    "        # Gradyanları kliple\n",
    "        total_norm = torch.nn.utils.clip_grad_norm_(\n",
    "            model.parameters(), self.max_grad_norm\n",
    "        )\n",
    "\n",
    "        if torch.isnan(total_norm) or torch.isinf(total_norm):\n",
    "            print(f\"🚨 NaN/Inf gradyan normu! Step: {state.global_step}\")\n",
    "        elif total_norm > self.max_grad_norm:\n",
    "            print(f\"⚠️ Gradyan norm ({total_norm:.2f}) sınırı aştı, kliplendi.\")\n",
    "\n",
    "        return control\n",
    "\n",
    "\n",
    "class WandbTextGenerationCallback(TrainerCallback):\n",
    "    def __init__(self, tokenizer, prompt=\"Ali sabah uyanır ve pencereden dışarı bakar. Hava\", log_interval=50, device=\"cuda\"):\n",
    "        self.tokenizer = tokenizer\n",
    "        self.prompt = prompt\n",
    "        self.log_interval = log_interval\n",
    "        self.device = device\n",
    "        self.table = wandb.Table(columns=[\"step\", \"prompt\", \"output\"])\n",
    "\n",
    "\n",
    "    def on_step_end(self, args, state, control, **kwargs):\n",
    "        if state.global_step % self.log_interval == 0 and state.global_step != 0:\n",
    "            model = kwargs['model'].to(self.device)\n",
    "            \n",
    "\n",
    "            # Tokenize prompt and move to correct device + dtype\n",
    "            input_ids = self.tokenizer.encode(self.prompt, return_tensors=\"pt\").to(self.device)\n",
    "            #input_ids = input_ids.to(dtype=model_dtype)\n",
    "\n",
    "            max_new_tokens = 1024\n",
    "            with torch.no_grad():\n",
    "                generated_ids = model.generate(\n",
    "                                            input_ids, \n",
    "                                            max_new_tokens=max_new_tokens, \n",
    "                                            use_cache=True, \n",
    "                                            pad_token_id=tokenizer.pad_token_id,\n",
    "                                            eos_token_id=tokenizer.eos_token_id,\n",
    "                                            )\n",
    "            output_text = self.tokenizer.decode(generated_ids[0], skip_special_tokens=True)\n",
    "\n",
    "            # Tabloya ekle\n",
    "            self.table.add_data(state.global_step, self.prompt, output_text)\n",
    "\n",
    "            # WandB'ye logla\n",
    "            wandb.log({\"text_generation/table\": self.table}, step=state.global_step)\n",
    "            \n",
    "            print(f\"\\n🧪 [Step {state.global_step}] Prompt Testi:\\n🟢 Prompt: {self.prompt}\\n🔵 Output: {output_text}\")\n",
    "\n",
    "\n",
    "class WandbModelSaverCallback(TrainerCallback):\n",
    "    def __init__(self, save_interval=500):\n",
    "        self.artifacts = []\n",
    "        self.save_interval = save_interval\n",
    "\n",
    "    def on_save(self, args, state, control, **kwargs):\n",
    "        if state.global_step % self.save_interval != 0:\n",
    "            return control  # ⛔ Save interval dışında, hiçbir şey yapma\n",
    "\n",
    "        checkpoint_dir = os.path.join(args.output_dir, f\"checkpoint-{state.global_step}\")\n",
    "        artifact_name = f\"crispy-checkpoint-{state.global_step}\"\n",
    "        artifact = wandb.Artifact(name=artifact_name, type=\"model\")\n",
    "\n",
    "        artifact.add_dir(checkpoint_dir)\n",
    "        wandb.log_artifact(artifact)\n",
    "        self.artifacts.append(artifact_name)\n",
    "\n",
    "        # 🧹 Temizlik: WandB staging cache\n",
    "        staging_dir = os.path.join(os.path.expanduser(\"~\"), \".local\", \"share\", \"wandb\", \"artifacts\", \"staging\")\n",
    "        try:\n",
    "            shutil.rmtree(staging_dir)\n",
    "            print(f\"✅ Cleaned WandB staging folder: {staging_dir}\")\n",
    "        except Exception as e:\n",
    "            print(f\"⚠️ Could not clean staging folder: {e}\")\n",
    "\n",
    "        return control\n"
   ]
  },
  {
   "cell_type": "code",
   "execution_count": null,
   "metadata": {},
   "outputs": [],
   "source": [
    "def tokenize_fn(example):\n",
    "   \n",
    "    full_text = example[\"text\"]\n",
    "    tokenized = tokenizer(\n",
    "        full_text,\n",
    "        padding=\"max_length\",\n",
    "        truncation=True,\n",
    "        max_length=max_seq_length,\n",
    "        return_tensors=\"pt\"\n",
    "    )\n",
    "    \n",
    "    tokenized[\"input_ids\"] = tokenized[\"input_ids\"][0]\n",
    "    tokenized[\"labels\"] = tokenized[\"input_ids\"].clone()\n",
    "    tokenized[\"attention_mask\"] = tokenized[\"attention_mask\"][0]\n",
    "    \n",
    "\n",
    "    return tokenized\n",
    "\n",
    "train_dataset = train_dataset.map(tokenize_fn, remove_columns=train_dataset.column_names)\n",
    "val_dataset = val_dataset.map(tokenize_fn, remove_columns=val_dataset.column_names)\n",
    "test_dataset = test_dataset.map(tokenize_fn, remove_columns=test_dataset.column_names)"
   ]
  },
  {
   "cell_type": "code",
   "execution_count": null,
   "metadata": {},
   "outputs": [
    {
     "data": {
      "text/plain": [
       "(\"<s> Michel Jules Arthur Tromont (d.24 Haziran 1937 – ö.9 Temmuz 2018), Belçikalı siyasetçidir. Liberal Reformcu Parti üyesi olarak, 1978'den 1983'e kadar Temsilciler Meclisi'nde (Belçika) milletvekili olarak çalışmış, 1981'den 1983'e kadar Fransa Milli Eğitim Bakanı ve 1977'den 1983'e kadar Quiévrain belediye başkanı olarak görev yapmıştı. Aynı zamanda 1983'ten 2004'e kadar Hainaut kentinin valisi olarak görev yapan Belçikalı siyasetçi Michel Tromont 9 Temmuz 2018'de 81 yaşında ölmüştür. Kaynakça 1937 doğumlular 2018 yılında ölenler Belçikalı siyasetçiler Belçikalı bakanlar Bilgi kutusu bulunmayan makam sahipleri</s><pad><pad><pad><pad><pad><pad><pad><pad><pad><pad><pad><pad><pad><pad><pad><pad><pad><pad><pad><pad><pad><pad><pad><pad><pad><pad><pad><pad><pad><pad><pad><pad><pad><pad><pad><pad><pad><pad><pad><pad><pad><pad><pad><pad><pad><pad><pad><pad><pad><pad><pad><pad><pad><pad><pad><pad><pad><pad><pad><pad><pad><pad><pad><pad><pad><pad><pad><pad><pad><pad><pad><pad><pad><pad><pad><pad><pad><pad><pad><pad><pad><pad><pad><pad><pad><pad><pad><pad><pad><pad><pad><pad><pad><pad><pad><pad><pad><pad><pad><pad><pad><pad><pad><pad><pad><pad><pad><pad><pad><pad><pad><pad><pad><pad><pad><pad><pad><pad><pad><pad><pad><pad><pad><pad><pad><pad><pad><pad><pad><pad><pad><pad><pad><pad><pad><pad><pad><pad><pad><pad><pad><pad><pad><pad><pad><pad><pad><pad><pad><pad><pad><pad><pad><pad><pad><pad><pad><pad><pad><pad><pad><pad><pad><pad><pad><pad><pad><pad><pad><pad><pad><pad><pad><pad><pad><pad><pad><pad><pad><pad><pad><pad><pad><pad><pad><pad><pad><pad><pad><pad><pad><pad><pad><pad><pad><pad><pad><pad><pad><pad><pad><pad><pad><pad><pad><pad><pad><pad><pad><pad><pad><pad><pad><pad><pad><pad><pad><pad><pad><pad><pad><pad><pad><pad><pad><pad><pad><pad><pad><pad><pad><pad><pad><pad><pad><pad><pad><pad><pad><pad><pad><pad><pad><pad><pad><pad><pad><pad><pad><pad><pad><pad><pad><pad><pad><pad><pad><pad><pad><pad><pad><pad><pad><pad><pad><pad><pad><pad><pad><pad><pad><pad><pad><pad><pad><pad><pad><pad><pad><pad><pad><pad><pad><pad><pad><pad><pad><pad><pad><pad><pad><pad><pad><pad><pad><pad><pad><pad><pad><pad><pad><pad><pad><pad><pad><pad><pad><pad><pad><pad><pad><pad><pad><pad><pad><pad><pad><pad><pad><pad><pad><pad><pad><pad><pad><pad><pad><pad><pad><pad><pad><pad><pad><pad><pad><pad><pad><pad><pad><pad><pad><pad><pad><pad><pad><pad><pad><pad><pad><pad><pad><pad><pad><pad><pad><pad><pad><pad><pad><pad><pad><pad><pad><pad><pad><pad><pad><pad><pad><pad><pad><pad><pad><pad><pad><pad><pad><pad><pad><pad><pad><pad><pad><pad><pad><pad><pad><pad><pad><pad><pad><pad><pad><pad><pad><pad><pad><pad><pad><pad><pad><pad><pad><pad><pad><pad><pad><pad><pad><pad><pad><pad><pad><pad><pad><pad><pad><pad><pad><pad><pad><pad><pad><pad><pad><pad><pad><pad><pad><pad><pad><pad><pad><pad><pad><pad><pad><pad><pad><pad><pad><pad><pad><pad><pad><pad><pad><pad><pad><pad><pad><pad><pad><pad><pad><pad><pad><pad><pad><pad><pad><pad><pad><pad><pad><pad><pad><pad><pad><pad><pad><pad><pad><pad><pad><pad><pad><pad><pad><pad><pad><pad><pad><pad><pad><pad><pad><pad><pad><pad><pad><pad><pad><pad><pad><pad><pad><pad><pad><pad><pad><pad><pad><pad><pad><pad><pad><pad><pad><pad><pad><pad><pad><pad><pad><pad><pad><pad><pad><pad><pad><pad><pad><pad><pad><pad><pad><pad><pad><pad><pad><pad><pad><pad><pad><pad><pad><pad><pad><pad><pad><pad><pad><pad><pad><pad><pad><pad><pad><pad><pad><pad><pad><pad><pad><pad><pad><pad><pad><pad><pad><pad><pad><pad><pad><pad><pad><pad><pad><pad><pad><pad><pad><pad><pad><pad><pad><pad><pad><pad><pad><pad><pad><pad><pad><pad><pad><pad><pad><pad><pad><pad><pad><pad><pad><pad><pad><pad><pad><pad><pad><pad><pad><pad><pad><pad><pad><pad><pad><pad><pad><pad><pad><pad><pad><pad><pad><pad><pad><pad><pad><pad><pad><pad><pad><pad><pad><pad><pad><pad><pad><pad><pad><pad><pad><pad><pad><pad><pad><pad><pad><pad><pad><pad><pad><pad><pad><pad><pad><pad><pad><pad><pad><pad><pad><pad><pad><pad><pad><pad><pad><pad><pad><pad><pad><pad><pad><pad><pad><pad><pad><pad><pad><pad><pad><pad><pad><pad><pad><pad><pad><pad><pad><pad><pad><pad><pad><pad><pad><pad><pad><pad><pad><pad><pad><pad><pad><pad><pad><pad><pad><pad><pad><pad><pad><pad><pad><pad><pad><pad><pad><pad><pad><pad><pad><pad><pad><pad><pad><pad><pad><pad><pad><pad><pad><pad><pad><pad><pad><pad><pad><pad><pad><pad><pad><pad><pad><pad><pad><pad><pad><pad><pad><pad><pad><pad><pad><pad><pad><pad><pad><pad><pad><pad><pad><pad><pad><pad><pad><pad><pad><pad><pad><pad><pad><pad><pad><pad><pad><pad><pad><pad><pad><pad><pad><pad><pad><pad><pad><pad><pad><pad><pad><pad><pad><pad><pad><pad><pad><pad><pad><pad><pad><pad><pad><pad><pad><pad><pad><pad><pad><pad><pad><pad><pad><pad><pad><pad><pad><pad><pad><pad><pad><pad><pad><pad><pad><pad><pad><pad><pad><pad><pad><pad><pad><pad><pad><pad><pad><pad><pad><pad><pad><pad><pad><pad><pad><pad><pad><pad><pad><pad><pad><pad><pad><pad><pad><pad><pad><pad><pad><pad><pad><pad><pad><pad><pad><pad><pad><pad><pad><pad><pad><pad><pad><pad><pad><pad><pad><pad><pad><pad><pad><pad><pad>\",\n",
       " \"<s> Michel Jules Arthur Tromont (d.24 Haziran 1937 – ö.9 Temmuz 2018), Belçikalı siyasetçidir. Liberal Reformcu Parti üyesi olarak, 1978'den 1983'e kadar Temsilciler Meclisi'nde (Belçika) milletvekili olarak çalışmış, 1981'den 1983'e kadar Fransa Milli Eğitim Bakanı ve 1977'den 1983'e kadar Quiévrain belediye başkanı olarak görev yapmıştı. Aynı zamanda 1983'ten 2004'e kadar Hainaut kentinin valisi olarak görev yapan Belçikalı siyasetçi Michel Tromont 9 Temmuz 2018'de 81 yaşında ölmüştür. Kaynakça 1937 doğumlular 2018 yılında ölenler Belçikalı siyasetçiler Belçikalı bakanlar Bilgi kutusu bulunmayan makam sahipleri</s><pad><pad><pad><pad><pad><pad><pad><pad><pad><pad><pad><pad><pad><pad><pad><pad><pad><pad><pad><pad><pad><pad><pad><pad><pad><pad><pad><pad><pad><pad><pad><pad><pad><pad><pad><pad><pad><pad><pad><pad><pad><pad><pad><pad><pad><pad><pad><pad><pad><pad><pad><pad><pad><pad><pad><pad><pad><pad><pad><pad><pad><pad><pad><pad><pad><pad><pad><pad><pad><pad><pad><pad><pad><pad><pad><pad><pad><pad><pad><pad><pad><pad><pad><pad><pad><pad><pad><pad><pad><pad><pad><pad><pad><pad><pad><pad><pad><pad><pad><pad><pad><pad><pad><pad><pad><pad><pad><pad><pad><pad><pad><pad><pad><pad><pad><pad><pad><pad><pad><pad><pad><pad><pad><pad><pad><pad><pad><pad><pad><pad><pad><pad><pad><pad><pad><pad><pad><pad><pad><pad><pad><pad><pad><pad><pad><pad><pad><pad><pad><pad><pad><pad><pad><pad><pad><pad><pad><pad><pad><pad><pad><pad><pad><pad><pad><pad><pad><pad><pad><pad><pad><pad><pad><pad><pad><pad><pad><pad><pad><pad><pad><pad><pad><pad><pad><pad><pad><pad><pad><pad><pad><pad><pad><pad><pad><pad><pad><pad><pad><pad><pad><pad><pad><pad><pad><pad><pad><pad><pad><pad><pad><pad><pad><pad><pad><pad><pad><pad><pad><pad><pad><pad><pad><pad><pad><pad><pad><pad><pad><pad><pad><pad><pad><pad><pad><pad><pad><pad><pad><pad><pad><pad><pad><pad><pad><pad><pad><pad><pad><pad><pad><pad><pad><pad><pad><pad><pad><pad><pad><pad><pad><pad><pad><pad><pad><pad><pad><pad><pad><pad><pad><pad><pad><pad><pad><pad><pad><pad><pad><pad><pad><pad><pad><pad><pad><pad><pad><pad><pad><pad><pad><pad><pad><pad><pad><pad><pad><pad><pad><pad><pad><pad><pad><pad><pad><pad><pad><pad><pad><pad><pad><pad><pad><pad><pad><pad><pad><pad><pad><pad><pad><pad><pad><pad><pad><pad><pad><pad><pad><pad><pad><pad><pad><pad><pad><pad><pad><pad><pad><pad><pad><pad><pad><pad><pad><pad><pad><pad><pad><pad><pad><pad><pad><pad><pad><pad><pad><pad><pad><pad><pad><pad><pad><pad><pad><pad><pad><pad><pad><pad><pad><pad><pad><pad><pad><pad><pad><pad><pad><pad><pad><pad><pad><pad><pad><pad><pad><pad><pad><pad><pad><pad><pad><pad><pad><pad><pad><pad><pad><pad><pad><pad><pad><pad><pad><pad><pad><pad><pad><pad><pad><pad><pad><pad><pad><pad><pad><pad><pad><pad><pad><pad><pad><pad><pad><pad><pad><pad><pad><pad><pad><pad><pad><pad><pad><pad><pad><pad><pad><pad><pad><pad><pad><pad><pad><pad><pad><pad><pad><pad><pad><pad><pad><pad><pad><pad><pad><pad><pad><pad><pad><pad><pad><pad><pad><pad><pad><pad><pad><pad><pad><pad><pad><pad><pad><pad><pad><pad><pad><pad><pad><pad><pad><pad><pad><pad><pad><pad><pad><pad><pad><pad><pad><pad><pad><pad><pad><pad><pad><pad><pad><pad><pad><pad><pad><pad><pad><pad><pad><pad><pad><pad><pad><pad><pad><pad><pad><pad><pad><pad><pad><pad><pad><pad><pad><pad><pad><pad><pad><pad><pad><pad><pad><pad><pad><pad><pad><pad><pad><pad><pad><pad><pad><pad><pad><pad><pad><pad><pad><pad><pad><pad><pad><pad><pad><pad><pad><pad><pad><pad><pad><pad><pad><pad><pad><pad><pad><pad><pad><pad><pad><pad><pad><pad><pad><pad><pad><pad><pad><pad><pad><pad><pad><pad><pad><pad><pad><pad><pad><pad><pad><pad><pad><pad><pad><pad><pad><pad><pad><pad><pad><pad><pad><pad><pad><pad><pad><pad><pad><pad><pad><pad><pad><pad><pad><pad><pad><pad><pad><pad><pad><pad><pad><pad><pad><pad><pad><pad><pad><pad><pad><pad><pad><pad><pad><pad><pad><pad><pad><pad><pad><pad><pad><pad><pad><pad><pad><pad><pad><pad><pad><pad><pad><pad><pad><pad><pad><pad><pad><pad><pad><pad><pad><pad><pad><pad><pad><pad><pad><pad><pad><pad><pad><pad><pad><pad><pad><pad><pad><pad><pad><pad><pad><pad><pad><pad><pad><pad><pad><pad><pad><pad><pad><pad><pad><pad><pad><pad><pad><pad><pad><pad><pad><pad><pad><pad><pad><pad><pad><pad><pad><pad><pad><pad><pad><pad><pad><pad><pad><pad><pad><pad><pad><pad><pad><pad><pad><pad><pad><pad><pad><pad><pad><pad><pad><pad><pad><pad><pad><pad><pad><pad><pad><pad><pad><pad><pad><pad><pad><pad><pad><pad><pad><pad><pad><pad><pad><pad><pad><pad><pad><pad><pad><pad><pad><pad><pad><pad><pad><pad><pad><pad><pad><pad><pad><pad><pad><pad><pad><pad><pad><pad><pad><pad><pad><pad><pad><pad><pad><pad><pad><pad><pad><pad><pad><pad><pad><pad><pad><pad><pad><pad><pad><pad><pad><pad><pad><pad><pad><pad><pad><pad><pad><pad><pad><pad><pad><pad><pad><pad><pad><pad><pad><pad><pad><pad><pad><pad><pad><pad><pad><pad><pad><pad><pad><pad><pad><pad><pad><pad><pad><pad><pad><pad><pad><pad><pad><pad><pad><pad><pad><pad><pad><pad><pad><pad><pad><pad><pad><pad><pad><pad><pad><pad><pad><pad><pad><pad><pad><pad><pad><pad><pad><pad><pad>\")"
      ]
     },
     "execution_count": 42,
     "metadata": {},
     "output_type": "execute_result"
    }
   ],
   "source": [
    "tokenizer.decode(train_dataset[100][\"input_ids\"]), tokenizer.decode(train_dataset[100][\"labels\"])"
   ]
  },
  {
   "cell_type": "code",
   "execution_count": null,
   "metadata": {},
   "outputs": [],
   "source": [
    "num_epochs = 2"
   ]
  },
  {
   "cell_type": "code",
   "execution_count": null,
   "metadata": {},
   "outputs": [],
   "source": [
    "from transformers import TrainingArguments\n",
    "from unsloth import is_bfloat16_supported\n",
    "\n",
    "args = TrainingArguments(\n",
    "    # 🚀 Eğitim Temelleri\n",
    "    num_train_epochs=num_epochs,\n",
    "    per_device_train_batch_size=4,\n",
    "    per_device_eval_batch_size=4,\n",
    "    gradient_accumulation_steps=16,\n",
    "    eval_accumulation_steps=16,\n",
    "    output_dir=\"Crispy-330M-V2-Rope-NewTokenizer-JustLanguage\",\n",
    "    seed=3407,\n",
    "    no_cuda=False,\n",
    "    use_cpu=False,\n",
    "    auto_find_batch_size=True,\n",
    "\n",
    "    # 🧠 Optimizasyon\n",
    "    optim=\"adamw_torch_fused\",\n",
    "    learning_rate=0.001,\n",
    "    weight_decay=0.01,\n",
    "    adam_beta2=0.95,\n",
    "    max_grad_norm=1.0,\n",
    "\n",
    "    # 🌀 Öğrenme Oranı Planlayıcı\n",
    "    lr_scheduler_type=\"cosine_with_restarts\",\n",
    "    lr_scheduler_kwargs={\"num_cycles\": 5},\n",
    "    warmup_ratio=1.0 / 10,  # num_epochs = 2 ise\n",
    "\n",
    "    # 🔄 Değerlendirme & Checkpoint\n",
    "    eval_strategy=\"steps\",\n",
    "    eval_steps=3000,\n",
    "    save_steps=50,\n",
    "    save_total_limit=2,\n",
    "\n",
    "    # 🧠 Precision Ayarları\n",
    "    fp16=not is_bfloat16_supported(),\n",
    "    bf16=is_bfloat16_supported(),\n",
    "\n",
    "    # 📜 Loglama & İzleme\n",
    "    logging_strategy=\"steps\",\n",
    "    logging_steps=50,\n",
    "    #log_level=\"debug\",              # Ana işlem log seviyesi\n",
    "    #log_level_replica=\"warning\",    # Diğer işlem log seviyesi (dağıtık eğitimde)\n",
    "    report_to=[\"wandb\"],\n",
    "    logging_nan_inf_filter=True,\n",
    "\n",
    "    # 🧹 Bellek ve Checkpointing\n",
    "    gradient_checkpointing=False,\n",
    "    torch_empty_cache_steps=50,\n",
    ")\n"
   ]
  },
  {
   "cell_type": "code",
   "execution_count": null,
   "metadata": {},
   "outputs": [],
   "source": [
    "from transformers import TrainingArguments, DataCollatorForSeq2Seq, Trainer\n",
    "\n",
    "trainer = Trainer(\n",
    "    model = model,\n",
    "    #tokenizer = tokenizer,\n",
    "    train_dataset = train_dataset,\n",
    "    eval_dataset = val_dataset,\n",
    "    #dataset_text_field = \"text\",\n",
    "    #max_seq_length = max_seq_length,\n",
    "    #data_collator = DataCollatorForSeq2Seq(tokenizer = tokenizer),\n",
    "    #dataset_num_proc = 2,\n",
    "    #packing = False, # Can make training 5x faster for short sequences.\n",
    "    #callbacks=[wandb_callback],\n",
    "    #packing=False,\n",
    "    #remove_unused_columns=True,\n",
    "    #torch_compile=True,\n",
    "    callbacks=[WandbTextGenerationCallback(tokenizer=tokenizer), \n",
    "               GradientCheckCallback(), \n",
    "               ManualGradientClipCallback(), \n",
    "               WandbModelSaverCallback(save_interval=250) ],\n",
    "    args = args\n",
    ")"
   ]
  },
  {
   "cell_type": "code",
   "execution_count": null,
   "metadata": {},
   "outputs": [],
   "source": [
    "from IPython.display import display\n",
    "\n",
    "# Canlı izleme için\n",
    "display(wandb.run)\n"
   ]
  },
  {
   "cell_type": "code",
   "execution_count": null,
   "metadata": {},
   "outputs": [
    {
     "name": "stderr",
     "output_type": "stream",
     "text": [
      "\u001b[34m\u001b[1mwandb\u001b[0m: \u001b[33mWARNING\u001b[0m The `run_name` is currently set to the same value as `TrainingArguments.output_dir`. If this was not intended, please specify a different run name by setting the `TrainingArguments.run_name` parameter.\n"
     ]
    },
    {
     "data": {
      "text/html": [
       "\n",
       "    <div>\n",
       "      \n",
       "      <progress value='10890' max='20076' style='width:300px; height:20px; vertical-align: middle;'></progress>\n",
       "      [10890/20076 06:48 < 27:24:27, 0.09 it/s, Epoch 1.08/2]\n",
       "    </div>\n",
       "    <table border=\"1\" class=\"dataframe\">\n",
       "  <thead>\n",
       " <tr style=\"text-align: left;\">\n",
       "      <th>Step</th>\n",
       "      <th>Training Loss</th>\n",
       "      <th>Validation Loss</th>\n",
       "    </tr>\n",
       "  </thead>\n",
       "  <tbody>\n",
       "  </tbody>\n",
       "</table><p>"
      ],
      "text/plain": [
       "<IPython.core.display.HTML object>"
      ]
     },
     "metadata": {},
     "output_type": "display_data"
    }
   ],
   "source": [
    "trainer.train(\n",
    "                resume_from_checkpoint=True\n",
    "            )"
   ]
  },
  {
   "cell_type": "code",
   "execution_count": null,
   "metadata": {},
   "outputs": [],
   "source": [
    "# Test değerlendirmesi\n",
    "#evaluate_model(model, tokenizer, test_dataset, max_seq_length=max_seq_length)"
   ]
  },
  {
   "cell_type": "code",
   "execution_count": null,
   "metadata": {},
   "outputs": [],
   "source": [
    "# 6. Eğitilmiş Modeli Kaydedin\n",
    "model.save_pretrained(\"./Crispy-330M-V2-Rope-NewTokenizer-JustLanguage\")\n",
    "tokenizer.save_pretrained(\"./Crispy-330M-V2-Rope-NewTokenizer-JustLanguage\")\n",
    "\n",
    "print(\"Eğitim tamamlandı ve model kaydedildi.\")"
   ]
  },
  {
   "cell_type": "code",
   "execution_count": null,
   "metadata": {},
   "outputs": [],
   "source": [
    "import unsloth\n",
    "from transformers import AutoModelForCausalLM, AutoTokenizer, Trainer, TrainingArguments\n",
    "import torch\n",
    "from datasets import Dataset, DatasetDict, concatenate_datasets, load_dataset"
   ]
  },
  {
   "cell_type": "code",
   "execution_count": null,
   "metadata": {},
   "outputs": [],
   "source": [
    "from transformers import XLMRobertaTokenizer\n",
    "\n",
    "# XLM-Roberta tokenizer yükleniyor\n",
    "tokenizer = XLMRobertaTokenizer.from_pretrained(\"xlm-roberta-base\")\n",
    "special_tokens_dict = {\n",
    "    \"bos_token\": \"<s>\",\n",
    "    \"eos_token\": \"<|eot_id|>\",\n",
    "    \"additional_special_tokens\":  [\n",
    "        \"<|im_start|>\", \"<|im_end|>\",\n",
    "        \"<|system|>\", \"<|user|>\", \"<|assistant|>\",\n",
    "        \"<|start_header_id|>\", \"<|end_header_id|>\", \"<|eot_id|>\"\n",
    "    ]\n",
    "}\n",
    "\n",
    "\n",
    "tokenizer.add_special_tokens(special_tokens_dict)"
   ]
  },
  {
   "cell_type": "code",
   "execution_count": null,
   "metadata": {},
   "outputs": [],
   "source": [
    "import torch\n",
    "\n",
    "# Model ve tokenizer'ını yükle\n",
    "from transformers import PreTrainedTokenizerFast\n",
    "from transformers import AutoConfig, AutoModelForCausalLM\n",
    "from MyLLM.CrispyLLM_RoPE2.modeling_crispy_rope import CrispyLLMConfig, CrispyForCausalLM\n",
    "\n",
    "\n",
    "# 3. Kayıt (Auto ile kullanabilmek için)\n",
    "AutoConfig.register(\"crispy\", CrispyLLMConfig)\n",
    "AutoModelForCausalLM.register(CrispyLLMConfig, CrispyForCausalLM)\n",
    "model = AutoModelForCausalLM.from_pretrained(\"./Crispy-330M-V2-Rope-NewTokenizer-JustLanguage/checkpoint-8500\" ,  \n",
    "                                            attn_implementation=\"flash_attention_2\",\n",
    "                                            trust_remote_code=True,\n",
    "                                            torch_dtype=torch.bfloat16,\n",
    "                                            device_map=\"auto\"\n",
    "      ).cuda().eval()\n"
   ]
  },
  {
   "cell_type": "code",
   "execution_count": null,
   "metadata": {},
   "outputs": [],
   "source": [
    "\"\"\" \n",
    "# Sohbet geçmişi\n",
    "chat_history = \"\"\n",
    "\n",
    "# Cevap üretme fonksiyonu\n",
    "def generate_response(prompt, max_new_tokens=256):\n",
    "    input_text = chat_history + prompt\n",
    "    inputs = tokenizer(input_text, return_tensors=\"pt\").to(model.device)\n",
    "    \n",
    "    with torch.no_grad():\n",
    "        outputs = model.generate(\n",
    "            **inputs,\n",
    "            max_new_tokens=max_new_tokens,\n",
    "            do_sample=False,\n",
    "            use_cache=True,\n",
    "            pad_token_id=tokenizer.pad_token_id,\n",
    "            eos_token_id=tokenizer.eos_token_id\n",
    "        )\n",
    "    \n",
    "    output_text = tokenizer.decode(outputs[0], skip_special_tokens=True)\n",
    "    response = output_text[len(input_text):].strip()\n",
    "    return response\n",
    "\n",
    "print(\"🧠 Crispy Chatbot hazır! Çıkmak için Ctrl+C, sıfırlamak için '/reset' yaz.\")\n",
    "print(\"-\" * 50)\n",
    "\n",
    "# Sonsuz konuşma döngüsü\n",
    "while True:\n",
    "    user_input = input(\"👤 Sen: \")\n",
    "    \n",
    "    if user_input.strip().lower() == \"/reset\":\n",
    "        chat_history = \"\"\n",
    "        print(\"🔁 Sohbet sıfırlandı.\")\n",
    "        continue\n",
    "\n",
    "    chat_history += f\"👤 Sen: {user_input}\\n\"\n",
    "    response = generate_response(f\"👤 Sen: {user_input}\\n🤖 Crispy:\")\n",
    "    chat_history += f\"🤖 Crispy: {response}\\n\"\n",
    "\n",
    "    print(f\"🤖 Crispy: {response}\")\n",
    " \"\"\""
   ]
  },
  {
   "cell_type": "code",
   "execution_count": null,
   "metadata": {},
   "outputs": [],
   "source": [
    "input_text = \"\"\"Ali sabah uyanır ve pencereden dışarı bakar. Hava\"\"\""
   ]
  },
  {
   "cell_type": "code",
   "execution_count": null,
   "metadata": {},
   "outputs": [],
   "source": [
    "input_ids  = tokenizer(input_text, padding=\"max_length\", max_length=1024,return_tensors=\"pt\").to(model.device)\n",
    "\n",
    "with torch.no_grad():\n",
    "    # Modelden yanıt üret\n",
    "    generated_ids = model.generate(\n",
    "        **input_ids, \n",
    "        max_new_tokens=1024 ,\n",
    "        do_sample=False,\n",
    "        use_cache=True,\n",
    "        pad_token_id=tokenizer.pad_token_id,\n",
    "        eos_token_id=tokenizer.eos_token_id,\n",
    "        #num_beams=5, \n",
    "        no_repeat_ngram_size=3,  \n",
    "        early_stopping=True,\n",
    "       # top_k=50,\n",
    "       # top_p=0.9,\n",
    "        #temperature=0.9,\n",
    "    )\n",
    "\n",
    "# Üretilen token'ları geri metne çevir\n",
    "generated_text = tokenizer.decode(generated_ids[0], skip_special_tokens=True)\n",
    "\n",
    "print(generated_text[len(input_text):])\n",
    "\n"
   ]
  }
 ],
 "metadata": {
  "kernelspec": {
   "display_name": "torchEnv",
   "language": "python",
   "name": "python3"
  },
  "language_info": {
   "codemirror_mode": {
    "name": "ipython",
    "version": 3
   },
   "file_extension": ".py",
   "mimetype": "text/x-python",
   "name": "python",
   "nbconvert_exporter": "python",
   "pygments_lexer": "ipython3",
   "version": "3.12.3"
  }
 },
 "nbformat": 4,
 "nbformat_minor": 2
}
