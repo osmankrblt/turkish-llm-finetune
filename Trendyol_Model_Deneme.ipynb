{
  "cells": [
    {
      "cell_type": "code",
      "execution_count": 4,
      "metadata": {
        "colab": {
          "base_uri": "https://localhost:8080/"
        },
        "id": "N024T4-Cd6ar",
        "outputId": "53423303-55f8-4ada-dcae-c68f97d937c6"
      },
      "outputs": [],
      "source": [
        "#!pip install bitsandbytes"
      ]
    },
    {
      "cell_type": "code",
      "execution_count": 5,
      "metadata": {
        "colab": {
          "base_uri": "https://localhost:8080/",
          "height": 49,
          "referenced_widgets": [
            "3dc04b7892e84bd286936b35a10ec0bd",
            "3436717f241b48e1a8c9caaa586a0bd1",
            "568f29b3f0e44301a3e0386f286dfa70",
            "6da8793d750b402b925384b00d58ec2e",
            "ce604de805ab4650a8ae33888e128144",
            "074bda05514747c587838644cc5de709",
            "ee81576833e24dfebdfb4866bd9e549d",
            "d53f26133afa47d4a3ac2bd0d1d97adc",
            "2383ed33f16549689688d3ff28e38896",
            "48e983da0d6b46db8913a56ff4b2d57c",
            "94a747eb26894c5c95e128667ed97548"
          ]
        },
        "id": "JzhNb1cCdkUr",
        "outputId": "4e571ad8-ab71-461f-ec5e-3268de496c58"
      },
      "outputs": [
        {
          "data": {
            "application/vnd.jupyter.widget-view+json": {
              "model_id": "a578384c2f8e4ba2beacb539f244268e",
              "version_major": 2,
              "version_minor": 0
            },
            "text/plain": [
              "config.json:   0%|          | 0.00/746 [00:00<?, ?B/s]"
            ]
          },
          "metadata": {},
          "output_type": "display_data"
        },
        {
          "data": {
            "application/vnd.jupyter.widget-view+json": {
              "model_id": "8919e841340a414bb5f803151ded7e1c",
              "version_major": 2,
              "version_minor": 0
            },
            "text/plain": [
              "model.safetensors.index.json:   0%|          | 0.00/27.8k [00:00<?, ?B/s]"
            ]
          },
          "metadata": {},
          "output_type": "display_data"
        },
        {
          "data": {
            "application/vnd.jupyter.widget-view+json": {
              "model_id": "8f09aadf13554e57a88329ffeb9b0e3e",
              "version_major": 2,
              "version_minor": 0
            },
            "text/plain": [
              "Fetching 4 files:   0%|          | 0/4 [00:00<?, ?it/s]"
            ]
          },
          "metadata": {},
          "output_type": "display_data"
        },
        {
          "data": {
            "application/vnd.jupyter.widget-view+json": {
              "model_id": "e700839a71d84f2196d6e2389f1fdb72",
              "version_major": 2,
              "version_minor": 0
            },
            "text/plain": [
              "model-00004-of-00004.safetensors:   0%|          | 0.00/1.09G [00:00<?, ?B/s]"
            ]
          },
          "metadata": {},
          "output_type": "display_data"
        },
        {
          "data": {
            "application/vnd.jupyter.widget-view+json": {
              "model_id": "3a0a395590bd401eaf2ef7f024836b97",
              "version_major": 2,
              "version_minor": 0
            },
            "text/plain": [
              "model-00001-of-00004.safetensors:   0%|          | 0.00/4.88G [00:00<?, ?B/s]"
            ]
          },
          "metadata": {},
          "output_type": "display_data"
        },
        {
          "data": {
            "application/vnd.jupyter.widget-view+json": {
              "model_id": "f77aba9bfa4e4ee8b39f3106528585d1",
              "version_major": 2,
              "version_minor": 0
            },
            "text/plain": [
              "model-00003-of-00004.safetensors:   0%|          | 0.00/4.33G [00:00<?, ?B/s]"
            ]
          },
          "metadata": {},
          "output_type": "display_data"
        },
        {
          "data": {
            "application/vnd.jupyter.widget-view+json": {
              "model_id": "7a5d943fa8da4b8bae46439019f85ef4",
              "version_major": 2,
              "version_minor": 0
            },
            "text/plain": [
              "model-00002-of-00004.safetensors:   0%|          | 0.00/4.93G [00:00<?, ?B/s]"
            ]
          },
          "metadata": {},
          "output_type": "display_data"
        },
        {
          "name": "stderr",
          "output_type": "stream",
          "text": [
            "Sliding Window Attention is enabled but not implemented for `sdpa`; unexpected results may be encountered.\n"
          ]
        },
        {
          "data": {
            "application/vnd.jupyter.widget-view+json": {
              "model_id": "6b10e6c20b574405887fdd04a304df13",
              "version_major": 2,
              "version_minor": 0
            },
            "text/plain": [
              "Loading checkpoint shards:   0%|          | 0/4 [00:00<?, ?it/s]"
            ]
          },
          "metadata": {},
          "output_type": "display_data"
        },
        {
          "data": {
            "application/vnd.jupyter.widget-view+json": {
              "model_id": "dd57fb3d25ef444bacb4d6ff9e117e2d",
              "version_major": 2,
              "version_minor": 0
            },
            "text/plain": [
              "generation_config.json:   0%|          | 0.00/198 [00:00<?, ?B/s]"
            ]
          },
          "metadata": {},
          "output_type": "display_data"
        },
        {
          "data": {
            "application/vnd.jupyter.widget-view+json": {
              "model_id": "06bf0c04eb6f483096d17c3b9826a1f4",
              "version_major": 2,
              "version_minor": 0
            },
            "text/plain": [
              "tokenizer_config.json:   0%|          | 0.00/6.97k [00:00<?, ?B/s]"
            ]
          },
          "metadata": {},
          "output_type": "display_data"
        },
        {
          "data": {
            "application/vnd.jupyter.widget-view+json": {
              "model_id": "0358461f230345b394c93f8d3f22248f",
              "version_major": 2,
              "version_minor": 0
            },
            "text/plain": [
              "vocab.json:   0%|          | 0.00/2.78M [00:00<?, ?B/s]"
            ]
          },
          "metadata": {},
          "output_type": "display_data"
        },
        {
          "data": {
            "application/vnd.jupyter.widget-view+json": {
              "model_id": "72873aa3a8364c00aee2aaf574162b76",
              "version_major": 2,
              "version_minor": 0
            },
            "text/plain": [
              "merges.txt:   0%|          | 0.00/1.67M [00:00<?, ?B/s]"
            ]
          },
          "metadata": {},
          "output_type": "display_data"
        },
        {
          "data": {
            "application/vnd.jupyter.widget-view+json": {
              "model_id": "1b23f1b459d5432696b22cac55abf9d9",
              "version_major": 2,
              "version_minor": 0
            },
            "text/plain": [
              "tokenizer.json:   0%|          | 0.00/11.4M [00:00<?, ?B/s]"
            ]
          },
          "metadata": {},
          "output_type": "display_data"
        },
        {
          "data": {
            "application/vnd.jupyter.widget-view+json": {
              "model_id": "70a135e186ae47bfbcaa8b22e1006116",
              "version_major": 2,
              "version_minor": 0
            },
            "text/plain": [
              "added_tokens.json:   0%|          | 0.00/605 [00:00<?, ?B/s]"
            ]
          },
          "metadata": {},
          "output_type": "display_data"
        },
        {
          "data": {
            "application/vnd.jupyter.widget-view+json": {
              "model_id": "564b184cb225428ab7719c0b4b437037",
              "version_major": 2,
              "version_minor": 0
            },
            "text/plain": [
              "special_tokens_map.json:   0%|          | 0.00/613 [00:00<?, ?B/s]"
            ]
          },
          "metadata": {},
          "output_type": "display_data"
        },
        {
          "data": {
            "text/plain": [
              "'\\n# Sistem ve kullanıcı mesajlarını birleştir\\nDEFAULT_SYSTEM_PROMPT = \"Sen yardımsever bir asistansın ve sana verilen talimatlar doğrultusunda en iyi cevabı üretmeye çalışacaksın.\"\\nuser_message = \"Naıslsın?\"\\n\\n# Prompta uygun formatta string oluştur\\nfull_prompt = f\"<|system|>\\n{DEFAULT_SYSTEM_PROMPT}\\n<|user|>\\n{user_message}\\n<|assistant|>\\n\"\\n\\n# Tokenize et\\ninputs = tokenizer(full_prompt, return_tensors=\"pt\").to(model.device)\\n\\n# Sampling ayarları\\ngeneration_kwargs = dict(\\n    max_new_tokens=1024,\\n    do_sample=True,\\n    temperature=0.3,\\n    top_k=50,\\n    top_p=0.9,\\n    repetition_penalty=1.1\\n)\\n\\n# Metin üretimi\\nwith torch.no_grad():\\n    outputs = model.generate(**inputs, **generation_kwargs)\\n\\n# Tokenları string\\'e çevir\\ngenerated_text = tokenizer.decode(outputs[0], skip_special_tokens=True)\\n\\n# Yalnızca cevabı al\\nanswer = generated_text.replace(full_prompt, \"\").strip()\\nprint(answer)\\n'"
            ]
          },
          "execution_count": 5,
          "metadata": {},
          "output_type": "execute_result"
        }
      ],
      "source": [
        "from transformers import AutoModelForCausalLM, AutoTokenizer, BitsAndBytesConfig\n",
        "import torch\n",
        "\n",
        "model_id = \"Trendyol/Trendyol-LLM-7B-chat-v4.1.0\"\n",
        "\n",
        "\n",
        "# 4-bit quantization config\n",
        "bnb_config = BitsAndBytesConfig(\n",
        "    load_in_4bit=True,\n",
        "    bnb_4bit_use_double_quant=True,\n",
        "    bnb_4bit_quant_type=\"nf4\",  # ya da \"fp4\"\n",
        "    bnb_4bit_compute_dtype=torch.bfloat16\n",
        ")\n",
        "\n",
        "# Model yükleniyor\n",
        "model = AutoModelForCausalLM.from_pretrained(\n",
        "    model_id,\n",
        "    quantization_config=bnb_config,\n",
        "    device_map=\"cuda\",\n",
        "    use_cache=True,\n",
        ")\n",
        "\n",
        "tokenizer = AutoTokenizer.from_pretrained(model_id)\n",
        "\"\"\"\n",
        "# Sistem ve kullanıcı mesajlarını birleştir\n",
        "DEFAULT_SYSTEM_PROMPT = \"Sen yardımsever bir asistansın ve sana verilen talimatlar doğrultusunda en iyi cevabı üretmeye çalışacaksın.\"\n",
        "user_message = \"Naıslsın?\"\n",
        "\n",
        "# Prompta uygun formatta string oluştur\n",
        "full_prompt = f\"<|system|>\\n{DEFAULT_SYSTEM_PROMPT}\\n<|user|>\\n{user_message}\\n<|assistant|>\\n\"\n",
        "\n",
        "# Tokenize et\n",
        "inputs = tokenizer(full_prompt, return_tensors=\"pt\").to(model.device)\n",
        "\n",
        "# Sampling ayarları\n",
        "generation_kwargs = dict(\n",
        "    max_new_tokens=1024,\n",
        "    do_sample=True,\n",
        "    temperature=0.3,\n",
        "    top_k=50,\n",
        "    top_p=0.9,\n",
        "    repetition_penalty=1.1\n",
        ")\n",
        "\n",
        "# Metin üretimi\n",
        "with torch.no_grad():\n",
        "    outputs = model.generate(**inputs, **generation_kwargs)\n",
        "\n",
        "# Tokenları string'e çevir\n",
        "generated_text = tokenizer.decode(outputs[0], skip_special_tokens=True)\n",
        "\n",
        "# Yalnızca cevabı al\n",
        "answer = generated_text.replace(full_prompt, \"\").strip()\n",
        "print(answer)\n",
        "\"\"\""
      ]
    },
    {
      "cell_type": "code",
      "execution_count": 9,
      "metadata": {
        "id": "SWzZXINJYKM4"
      },
      "outputs": [
        {
          "name": "stdout",
          "output_type": "stream",
          "text": [
            "<function>{\"name\": \"get_country_info\", \"arguments\": '{\"country_name\": \"Germany\"}'}</function><|im_end|>\n"
          ]
        }
      ],
      "source": [
        "tools = [\n",
        "    {\n",
        "        \"name\": \"get_city_count\",\n",
        "        \"description\": \"Get current city count of given country.\",\n",
        "        \"parameters\": {\n",
        "            \"type\": \"object\",\n",
        "            \"properties\": {\n",
        "                \"country_name\": {\n",
        "                    \"type\": \"string\",\n",
        "                    \"description\": \"The name of the country to get the count for.\",\n",
        "                },\n",
        "            },\n",
        "            \"required\": [\"country_name\"],\n",
        "        },\n",
        "    },\n",
        "    {\n",
        "        \"name\": \"get_temperature_date\",\n",
        "        \"description\": \"Get temperature at a location and date.\",\n",
        "        \"parameters\": {\n",
        "            \"type\": \"object\",\n",
        "            \"properties\": {\n",
        "                \"location\": {\n",
        "                    \"type\": \"string\",\n",
        "                    \"description\": 'The location to get the temperature for, in the format \"City, State, Country\".',\n",
        "                },\n",
        "                \"date\": {\n",
        "                    \"type\": \"string\",\n",
        "                    \"description\": 'The date to get the temperature for, in the format \"Year-Month-Day\".',\n",
        "                },\n",
        "                \"unit\": {\n",
        "                    \"type\": \"string\",\n",
        "                    \"enum\": [\"celsius\", \"fahrenheit\"],\n",
        "                    \"description\": 'The unit to return the temperature in. Defaults to \"celsius\".',\n",
        "                },\n",
        "            },\n",
        "            \"required\": [\"location\", \"date\"],\n",
        "        },\n",
        "    },\n",
        "    {\n",
        "        \"name\": \"get_currency_exchange\",\n",
        "        \"description\": \"Get current exchange rate between two currencies.\",\n",
        "        \"parameters\": {\n",
        "            \"type\": \"object\",\n",
        "            \"properties\": {\n",
        "                \"base_currency\": {\n",
        "                    \"type\": \"string\",\n",
        "                    \"description\": \"The currency you want to convert from (e.g., USD).\",\n",
        "                },\n",
        "                \"target_currency\": {\n",
        "                    \"type\": \"string\",\n",
        "                    \"description\": \"The currency you want to convert to (e.g., EUR).\",\n",
        "                },\n",
        "            },\n",
        "            \"required\": [\"base_currency\", \"target_currency\"],\n",
        "        },\n",
        "    },\n",
        "    {\n",
        "        \"name\": \"get_country_info\",\n",
        "        \"description\": \"Retrieve information about a specific country.\",\n",
        "        \"parameters\": {\n",
        "            \"type\": \"object\",\n",
        "            \"properties\": {\n",
        "                \"country_name\": {\n",
        "                    \"type\": \"string\",\n",
        "                    \"description\": \"The full name of the country (e.g., Turkey, Germany).\",\n",
        "                },\n",
        "            },\n",
        "            \"required\": [\"country_name\"],\n",
        "        },\n",
        "    },\n",
        "    {\n",
        "        \"name\": \"get_weather_forecast\",\n",
        "        \"description\": \"Get a weather forecast for a city for the next 5 days.\",\n",
        "        \"parameters\": {\n",
        "            \"type\": \"object\",\n",
        "            \"properties\": {\n",
        "                \"location\": {\n",
        "                    \"type\": \"string\",\n",
        "                    \"description\": \"The city name (and optionally state and country) to get the forecast for.\",\n",
        "                }\n",
        "            },\n",
        "            \"required\": [\"location\"],\n",
        "        },\n",
        "    },\n",
        "    {\n",
        "        \"name\": \"get_news_headlines\",\n",
        "        \"description\": \"Get the latest news headlines on a given topic.\",\n",
        "        \"parameters\": {\n",
        "            \"type\": \"object\",\n",
        "            \"properties\": {\n",
        "                \"topic\": {\n",
        "                    \"type\": \"string\",\n",
        "                    \"description\": \"The subject or keyword to retrieve headlines for.\",\n",
        "                },\n",
        "                \"language\": {\n",
        "                    \"type\": \"string\",\n",
        "                    \"description\": \"Language of the news (e.g., en, tr). Default is en.\",\n",
        "                },\n",
        "            },\n",
        "            \"required\": [\"topic\"],\n",
        "        },\n",
        "    },\n",
        "]\n",
        "\n",
        "user_message = \"ALMANYA nasıl bir yer?\"\n",
        "messages = [\n",
        "    {\"role\": \"system\", \"content\": \"Sen, aşağıdaki fonksiyonlara erişimi olan yardımcı bir asistansın. Gerektiğinde bunları kullanabilirsin -\"},\n",
        "    {\"role\": \"user\", \"content\": user_message}\n",
        "]\n",
        "\n",
        "text = tokenizer.apply_chat_template(messages, tools=tools, add_generation_prompt=True, tokenize=False)\n",
        "inputs = tokenizer(text, return_tensors=\"pt\").to(model.device)\n",
        "outputs = model.generate(**inputs, max_new_tokens=512)\n",
        "output_text = tokenizer.batch_decode(outputs)[0][len(text):]\n",
        "print(output_text)\n",
        "# '<function>{\"name\": \"get_city_count\", \"arguments\": \\'{\"country_name\": \"Turkey\"}\\'}</function><|im_end|>'\n"
      ]
    },
    {
      "cell_type": "code",
      "execution_count": 10,
      "metadata": {
        "id": "fmDWWJWPidsC"
      },
      "outputs": [
        {
          "name": "stdout",
          "output_type": "stream",
          "text": [
            "{'capital': 'Berlin', 'currency': 'EUR', 'population': '83M', 'continent': 'Europe'}\n"
          ]
        }
      ],
      "source": [
        "import json\n",
        "import re\n",
        "\n",
        "# 🔧 Model çıktısı (senin örneğin)\n",
        "\n",
        "raw_output = output_text\n",
        "# 1. <function>...</function> içeriğini çek\n",
        "match = re.search(r\"<function>(.*?)</function>\", raw_output)\n",
        "if not match:\n",
        "    raise ValueError(\"Fonksiyon çağrısı bulunamadı!\")\n",
        "\n",
        "# 2. Dıştaki JSON'u parse et (önce çift tırnak düzeltmeleri)\n",
        "function_str = match.group(1)\n",
        "function_str_clean = function_str.replace(\"'\", '\"')  # tek tırnakları çift tırnağa çevir\n",
        "function_str_clean = re.sub(r'(?<!\\\\)\"({.*?})\"(?!\\\\)', lambda m: m.group(1).replace('\"', '\\\\\"'), function_str_clean)\n",
        "\n",
        "# 3. Dıştaki JSON’u yükle\n",
        "try:\n",
        "    function_call = json.loads(function_str)\n",
        "except json.JSONDecodeError:\n",
        "    # Bazı model çıktıları çift encode olabilir; elle çöz\n",
        "    name_match = re.search(r'\"name\"\\s*:\\s*\"([^\"]+)\"', function_str)\n",
        "    args_match = re.search(r'\"arguments\"\\s*:\\s*\\'({.*})\\'', function_str)\n",
        "\n",
        "    function_name = name_match.group(1)\n",
        "    arguments_raw = args_match.group(1)\n",
        "    arguments = json.loads(arguments_raw)\n",
        "else:\n",
        "    function_name = function_call[\"name\"]\n",
        "    arguments = json.loads(function_call[\"arguments\"])\n",
        "\n",
        "def get_city_count(country_name):\n",
        "    data = {\n",
        "        \"turkey\": 81,\n",
        "        \"germany\": 16,\n",
        "        \"france\": 18,\n",
        "        \"usa\": 50\n",
        "    }\n",
        "    return {\"city_count\": data.get(country_name.lower(), \"bilinmiyor\")}\n",
        "\n",
        "\n",
        "def get_temperature_date(location, date, unit=\"celsius\"):\n",
        "    # Örnek: sabit değer döndürüyoruz\n",
        "    return {\"temperature\": 22, \"unit\": unit}\n",
        "\n",
        "\n",
        "def get_currency_exchange(base_currency, target_currency):\n",
        "    exchange_rates = {\n",
        "        (\"usd\", \"eur\"): 0.93,\n",
        "        (\"eur\", \"usd\"): 1.08,\n",
        "        (\"usd\", \"try\"): 32.4,\n",
        "        (\"try\", \"usd\"): 0.031\n",
        "    }\n",
        "    key = (base_currency.lower(), target_currency.lower())\n",
        "    rate = exchange_rates.get(key, \"rate not available\")\n",
        "    return {\"exchange_rate\": rate}\n",
        "\n",
        "\n",
        "def get_country_info(country_name):\n",
        "    countries = {\n",
        "        \"turkey\": {\n",
        "            \"capital\": \"Ankara\",\n",
        "            \"currency\": \"TRY\",\n",
        "            \"population\": \"85M\",\n",
        "            \"continent\": \"Asia/Europe\"\n",
        "        },\n",
        "        \"germany\": {\n",
        "            \"capital\": \"Berlin\",\n",
        "            \"currency\": \"EUR\",\n",
        "            \"population\": \"83M\",\n",
        "            \"continent\": \"Europe\"\n",
        "        }\n",
        "    }\n",
        "    return countries.get(country_name.lower(), {\"error\": \"Ülke bilgisi bulunamadı\"})\n",
        "\n",
        "\n",
        "def get_weather_forecast(location):\n",
        "    # Örnek 5 günlük hava durumu\n",
        "    return {\n",
        "        \"location\": location,\n",
        "        \"forecast\": [\n",
        "            {\"day\": \"Monday\", \"temperature\": 22},\n",
        "            {\"day\": \"Tuesday\", \"temperature\": 24},\n",
        "            {\"day\": \"Wednesday\", \"temperature\": 23},\n",
        "            {\"day\": \"Thursday\", \"temperature\": 20},\n",
        "            {\"day\": \"Friday\", \"temperature\": 21},\n",
        "        ]\n",
        "    }\n",
        "\n",
        "\n",
        "def get_news_headlines(topic, language=\"tr\"):\n",
        "    # Sahte haber başlıkları örneği\n",
        "    headlines = {\n",
        "        \"ai\": [\n",
        "\n",
        "        \"AI dünyayı dönüştürüyor\",\n",
        "        \"AI araştırmalarında yeni atılımlar\",\n",
        "        \"OpenAI yeni GPT modelini yayınladı\"\n",
        "        ],\n",
        "        \"economics\": [\n",
        "\n",
        "        \"Küresel piyasalarda oynaklık görülüyor\",\n",
        "        \"Enflasyon oranları istikrar kazanıyor\",\n",
        "        \"IMF büyüme projeksiyonlarını yayınladı\"\n",
        "        ]\n",
        "    }\n",
        "    return {\n",
        "        \"topic\": topic,\n",
        "        \"language\": language,\n",
        "        \"headlines\": headlines.get(topic.lower(), [\"No headlines found.\"])\n",
        "    }\n",
        "\n",
        "# 5. Fonksiyonu çalıştır\n",
        "\n",
        "function_registry = {\n",
        "    \"get_city_count\": get_city_count,\n",
        "    \"get_temperature_date\": get_temperature_date,\n",
        "    \"get_currency_exchange\": get_currency_exchange,\n",
        "    \"get_country_info\": get_country_info,\n",
        "    \"get_weather_forecast\": get_weather_forecast,\n",
        "    \"get_news_headlines\": get_news_headlines,\n",
        "}\n",
        "\n",
        "try:\n",
        "    function_result = function_registry.get(function_name, lambda **kwargs: {\"error\": \"Bilinmeyen fonksiyon\"})(**arguments)\n",
        "except Exception as e:\n",
        "    function_result = {\"error\": f\"Fonksiyon çalıştırılırken hata oluştu: {str(e)}\"}\n",
        "\n",
        "# 6. Sonuç\n",
        "print(function_result)\n"
      ]
    },
    {
      "cell_type": "code",
      "execution_count": 13,
      "metadata": {
        "id": "LdNiifn-1yKN"
      },
      "outputs": [
        {
          "name": "stdout",
          "output_type": "stream",
          "text": [
            "Almanya, Avrupa'da yer alan bir ülkedir. Başkenti Berlin'dir ve resmi para birimi Euro'dur. Nüfusu yaklaşık 83 milyondur.\n"
          ]
        }
      ],
      "source": [
        "def call_model_with_tool_result(user_message, tool_name, tool_args, tool_output):\n",
        "    full_prompt = (\n",
        "        f\"<|system|>\\nSen yardımcı bir asistansın ve bazı fonksiyonlardan veri alabiliyorsun.\\n\"\n",
        "        f\"<|user|>\\n{user_message}\\n\"\n",
        "        f\"<|assistant|>\\n<function>{{\\\"name\\\": \\\"{tool_name}\\\", \\\"arguments\\\": \\\"{json.dumps(tool_args)}\\\"}}</function>\\n\"\n",
        "        f\"<|function|># {tool_name}\\n{json.dumps(tool_output)}\\n\"\n",
        "        f\"<|assistant|>\\n\"\n",
        "    )\n",
        "\n",
        "    inputs = tokenizer(full_prompt, return_tensors=\"pt\").to(model.device)\n",
        "    outputs = model.generate(**inputs, max_new_tokens=256)\n",
        "    return tokenizer.decode(outputs[0], skip_special_tokens=True)[len(full_prompt):]\n",
        "\n",
        "response = call_model_with_tool_result(\n",
        "    user_message=user_message,\n",
        "    tool_name=function_name,\n",
        "    tool_args=arguments,\n",
        "    tool_output=json.dumps(function_result)\n",
        ")\n",
        "print(response)\n"
      ]
    }
  ],
  "metadata": {
    "colab": {
      "provenance": []
    },
    "kernelspec": {
      "display_name": "torchEnv",
      "language": "python",
      "name": "python3"
    },
    "language_info": {
      "codemirror_mode": {
        "name": "ipython",
        "version": 3
      },
      "file_extension": ".py",
      "mimetype": "text/x-python",
      "name": "python",
      "nbconvert_exporter": "python",
      "pygments_lexer": "ipython3",
      "version": "3.12.3"
    },
    "widgets": {
      "application/vnd.jupyter.widget-state+json": {
        "074bda05514747c587838644cc5de709": {
          "model_module": "@jupyter-widgets/base",
          "model_module_version": "1.2.0",
          "model_name": "LayoutModel",
          "state": {
            "_model_module": "@jupyter-widgets/base",
            "_model_module_version": "1.2.0",
            "_model_name": "LayoutModel",
            "_view_count": null,
            "_view_module": "@jupyter-widgets/base",
            "_view_module_version": "1.2.0",
            "_view_name": "LayoutView",
            "align_content": null,
            "align_items": null,
            "align_self": null,
            "border": null,
            "bottom": null,
            "display": null,
            "flex": null,
            "flex_flow": null,
            "grid_area": null,
            "grid_auto_columns": null,
            "grid_auto_flow": null,
            "grid_auto_rows": null,
            "grid_column": null,
            "grid_gap": null,
            "grid_row": null,
            "grid_template_areas": null,
            "grid_template_columns": null,
            "grid_template_rows": null,
            "height": null,
            "justify_content": null,
            "justify_items": null,
            "left": null,
            "margin": null,
            "max_height": null,
            "max_width": null,
            "min_height": null,
            "min_width": null,
            "object_fit": null,
            "object_position": null,
            "order": null,
            "overflow": null,
            "overflow_x": null,
            "overflow_y": null,
            "padding": null,
            "right": null,
            "top": null,
            "visibility": null,
            "width": null
          }
        },
        "2383ed33f16549689688d3ff28e38896": {
          "model_module": "@jupyter-widgets/controls",
          "model_module_version": "1.5.0",
          "model_name": "ProgressStyleModel",
          "state": {
            "_model_module": "@jupyter-widgets/controls",
            "_model_module_version": "1.5.0",
            "_model_name": "ProgressStyleModel",
            "_view_count": null,
            "_view_module": "@jupyter-widgets/base",
            "_view_module_version": "1.2.0",
            "_view_name": "StyleView",
            "bar_color": null,
            "description_width": ""
          }
        },
        "3436717f241b48e1a8c9caaa586a0bd1": {
          "model_module": "@jupyter-widgets/controls",
          "model_module_version": "1.5.0",
          "model_name": "HTMLModel",
          "state": {
            "_dom_classes": [],
            "_model_module": "@jupyter-widgets/controls",
            "_model_module_version": "1.5.0",
            "_model_name": "HTMLModel",
            "_view_count": null,
            "_view_module": "@jupyter-widgets/controls",
            "_view_module_version": "1.5.0",
            "_view_name": "HTMLView",
            "description": "",
            "description_tooltip": null,
            "layout": "IPY_MODEL_074bda05514747c587838644cc5de709",
            "placeholder": "​",
            "style": "IPY_MODEL_ee81576833e24dfebdfb4866bd9e549d",
            "value": "Loading checkpoint shards:  75%"
          }
        },
        "3dc04b7892e84bd286936b35a10ec0bd": {
          "model_module": "@jupyter-widgets/controls",
          "model_module_version": "1.5.0",
          "model_name": "HBoxModel",
          "state": {
            "_dom_classes": [],
            "_model_module": "@jupyter-widgets/controls",
            "_model_module_version": "1.5.0",
            "_model_name": "HBoxModel",
            "_view_count": null,
            "_view_module": "@jupyter-widgets/controls",
            "_view_module_version": "1.5.0",
            "_view_name": "HBoxView",
            "box_style": "",
            "children": [
              "IPY_MODEL_3436717f241b48e1a8c9caaa586a0bd1",
              "IPY_MODEL_568f29b3f0e44301a3e0386f286dfa70",
              "IPY_MODEL_6da8793d750b402b925384b00d58ec2e"
            ],
            "layout": "IPY_MODEL_ce604de805ab4650a8ae33888e128144"
          }
        },
        "48e983da0d6b46db8913a56ff4b2d57c": {
          "model_module": "@jupyter-widgets/base",
          "model_module_version": "1.2.0",
          "model_name": "LayoutModel",
          "state": {
            "_model_module": "@jupyter-widgets/base",
            "_model_module_version": "1.2.0",
            "_model_name": "LayoutModel",
            "_view_count": null,
            "_view_module": "@jupyter-widgets/base",
            "_view_module_version": "1.2.0",
            "_view_name": "LayoutView",
            "align_content": null,
            "align_items": null,
            "align_self": null,
            "border": null,
            "bottom": null,
            "display": null,
            "flex": null,
            "flex_flow": null,
            "grid_area": null,
            "grid_auto_columns": null,
            "grid_auto_flow": null,
            "grid_auto_rows": null,
            "grid_column": null,
            "grid_gap": null,
            "grid_row": null,
            "grid_template_areas": null,
            "grid_template_columns": null,
            "grid_template_rows": null,
            "height": null,
            "justify_content": null,
            "justify_items": null,
            "left": null,
            "margin": null,
            "max_height": null,
            "max_width": null,
            "min_height": null,
            "min_width": null,
            "object_fit": null,
            "object_position": null,
            "order": null,
            "overflow": null,
            "overflow_x": null,
            "overflow_y": null,
            "padding": null,
            "right": null,
            "top": null,
            "visibility": null,
            "width": null
          }
        },
        "568f29b3f0e44301a3e0386f286dfa70": {
          "model_module": "@jupyter-widgets/controls",
          "model_module_version": "1.5.0",
          "model_name": "FloatProgressModel",
          "state": {
            "_dom_classes": [],
            "_model_module": "@jupyter-widgets/controls",
            "_model_module_version": "1.5.0",
            "_model_name": "FloatProgressModel",
            "_view_count": null,
            "_view_module": "@jupyter-widgets/controls",
            "_view_module_version": "1.5.0",
            "_view_name": "ProgressView",
            "bar_style": "",
            "description": "",
            "description_tooltip": null,
            "layout": "IPY_MODEL_d53f26133afa47d4a3ac2bd0d1d97adc",
            "max": 4,
            "min": 0,
            "orientation": "horizontal",
            "style": "IPY_MODEL_2383ed33f16549689688d3ff28e38896",
            "value": 3
          }
        },
        "6da8793d750b402b925384b00d58ec2e": {
          "model_module": "@jupyter-widgets/controls",
          "model_module_version": "1.5.0",
          "model_name": "HTMLModel",
          "state": {
            "_dom_classes": [],
            "_model_module": "@jupyter-widgets/controls",
            "_model_module_version": "1.5.0",
            "_model_name": "HTMLModel",
            "_view_count": null,
            "_view_module": "@jupyter-widgets/controls",
            "_view_module_version": "1.5.0",
            "_view_name": "HTMLView",
            "description": "",
            "description_tooltip": null,
            "layout": "IPY_MODEL_48e983da0d6b46db8913a56ff4b2d57c",
            "placeholder": "​",
            "style": "IPY_MODEL_94a747eb26894c5c95e128667ed97548",
            "value": " 3/4 [18:08&lt;06:57, 417.43s/it]"
          }
        },
        "94a747eb26894c5c95e128667ed97548": {
          "model_module": "@jupyter-widgets/controls",
          "model_module_version": "1.5.0",
          "model_name": "DescriptionStyleModel",
          "state": {
            "_model_module": "@jupyter-widgets/controls",
            "_model_module_version": "1.5.0",
            "_model_name": "DescriptionStyleModel",
            "_view_count": null,
            "_view_module": "@jupyter-widgets/base",
            "_view_module_version": "1.2.0",
            "_view_name": "StyleView",
            "description_width": ""
          }
        },
        "ce604de805ab4650a8ae33888e128144": {
          "model_module": "@jupyter-widgets/base",
          "model_module_version": "1.2.0",
          "model_name": "LayoutModel",
          "state": {
            "_model_module": "@jupyter-widgets/base",
            "_model_module_version": "1.2.0",
            "_model_name": "LayoutModel",
            "_view_count": null,
            "_view_module": "@jupyter-widgets/base",
            "_view_module_version": "1.2.0",
            "_view_name": "LayoutView",
            "align_content": null,
            "align_items": null,
            "align_self": null,
            "border": null,
            "bottom": null,
            "display": null,
            "flex": null,
            "flex_flow": null,
            "grid_area": null,
            "grid_auto_columns": null,
            "grid_auto_flow": null,
            "grid_auto_rows": null,
            "grid_column": null,
            "grid_gap": null,
            "grid_row": null,
            "grid_template_areas": null,
            "grid_template_columns": null,
            "grid_template_rows": null,
            "height": null,
            "justify_content": null,
            "justify_items": null,
            "left": null,
            "margin": null,
            "max_height": null,
            "max_width": null,
            "min_height": null,
            "min_width": null,
            "object_fit": null,
            "object_position": null,
            "order": null,
            "overflow": null,
            "overflow_x": null,
            "overflow_y": null,
            "padding": null,
            "right": null,
            "top": null,
            "visibility": null,
            "width": null
          }
        },
        "d53f26133afa47d4a3ac2bd0d1d97adc": {
          "model_module": "@jupyter-widgets/base",
          "model_module_version": "1.2.0",
          "model_name": "LayoutModel",
          "state": {
            "_model_module": "@jupyter-widgets/base",
            "_model_module_version": "1.2.0",
            "_model_name": "LayoutModel",
            "_view_count": null,
            "_view_module": "@jupyter-widgets/base",
            "_view_module_version": "1.2.0",
            "_view_name": "LayoutView",
            "align_content": null,
            "align_items": null,
            "align_self": null,
            "border": null,
            "bottom": null,
            "display": null,
            "flex": null,
            "flex_flow": null,
            "grid_area": null,
            "grid_auto_columns": null,
            "grid_auto_flow": null,
            "grid_auto_rows": null,
            "grid_column": null,
            "grid_gap": null,
            "grid_row": null,
            "grid_template_areas": null,
            "grid_template_columns": null,
            "grid_template_rows": null,
            "height": null,
            "justify_content": null,
            "justify_items": null,
            "left": null,
            "margin": null,
            "max_height": null,
            "max_width": null,
            "min_height": null,
            "min_width": null,
            "object_fit": null,
            "object_position": null,
            "order": null,
            "overflow": null,
            "overflow_x": null,
            "overflow_y": null,
            "padding": null,
            "right": null,
            "top": null,
            "visibility": null,
            "width": null
          }
        },
        "ee81576833e24dfebdfb4866bd9e549d": {
          "model_module": "@jupyter-widgets/controls",
          "model_module_version": "1.5.0",
          "model_name": "DescriptionStyleModel",
          "state": {
            "_model_module": "@jupyter-widgets/controls",
            "_model_module_version": "1.5.0",
            "_model_name": "DescriptionStyleModel",
            "_view_count": null,
            "_view_module": "@jupyter-widgets/base",
            "_view_module_version": "1.2.0",
            "_view_name": "StyleView",
            "description_width": ""
          }
        }
      }
    }
  },
  "nbformat": 4,
  "nbformat_minor": 0
}
