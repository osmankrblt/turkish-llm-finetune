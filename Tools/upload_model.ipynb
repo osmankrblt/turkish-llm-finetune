{
 "cells": [
  {
   "cell_type": "markdown",
   "metadata": {},
   "source": [
    "# Huggingface Özel Model Yükleme"
   ]
  },
  {
   "cell_type": "code",
   "execution_count": null,
   "metadata": {},
   "outputs": [],
   "source": [
    "import os\n",
    "from dotenv import load_dotenv\n",
    "from huggingface_hub import HfApi, HfFolder, create_repo, upload_folder\n",
    "\n",
    "# .env dosyasını yükle\n",
    "load_dotenv()\n",
    "\n",
    "# Token'ı al\n",
    "hf_token = os.getenv(\"HUGGINGFACE_UPLOAD_TOKEN\")"
   ]
  },
  {
   "cell_type": "code",
   "execution_count": null,
   "metadata": {},
   "outputs": [],
   "source": [
    "# Eğer access token kullanıyorsan:\n",
    "HfFolder.save_token(hf_token)\n",
    "\n",
    "# Repo adı\n",
    "repo_id = \"hosmankarabulut/SmolLM2-Ziraat-Turkish-v1\"\n",
    "\n",
    "# Hugging Face repo oluştur (zaten varsa hata vermez)\n",
    "api = HfApi()\n",
    "create_repo(repo_id=repo_id, exist_ok=True)\n",
    "\n",
    "# Eğittiğin model klasörü (örneğin \"my_ziraat_model\" adlı klasörde olsun)\n",
    "local_model_path = \"./SmolLM2-1.7B-R32-Bias-DO\"\n",
    "\n",
    "# Tüm model klasörünü yükle\n",
    "upload_folder(\n",
    "    repo_id=repo_id,\n",
    "    folder_path=local_model_path,\n",
    "    path_in_repo=\".\",  # Kök dizine yükle\n",
    "    commit_message=\"Initial upload of Turkish Ziraat fine-tuned model\"\n",
    ")\n"
   ]
  }
 ],
 "metadata": {
  "kernelspec": {
   "display_name": "torchEnv",
   "language": "python",
   "name": "python3"
  },
  "language_info": {
   "codemirror_mode": {
    "name": "ipython",
    "version": 3
   },
   "file_extension": ".py",
   "mimetype": "text/x-python",
   "name": "python",
   "nbconvert_exporter": "python",
   "pygments_lexer": "ipython3",
   "version": "3.12.3"
  }
 },
 "nbformat": 4,
 "nbformat_minor": 2
}
