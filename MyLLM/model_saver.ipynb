{
 "cells": [
  {
   "cell_type": "code",
   "execution_count": 1,
   "metadata": {},
   "outputs": [],
   "source": [
    "from transformers import AutoConfig, AutoModelForCausalLM, AutoTokenizer\n",
    "from CrispyLLM_RoPE2.modeling_crispy_rope import CrispyLLMConfig, CrispyForCausalLM\n",
    "from transformers import PreTrainedTokenizerFast\n",
    "from transformers import XLMRobertaTokenizer"
   ]
  },
  {
   "cell_type": "code",
   "execution_count": 2,
   "metadata": {},
   "outputs": [
    {
     "data": {
      "text/plain": [
       "('../CrispyTest/CrispyLLM-RoPE/tokenizer_config.json',\n",
       " '../CrispyTest/CrispyLLM-RoPE/special_tokens_map.json',\n",
       " '../CrispyTest/CrispyLLM-RoPE/tokenizer.json')"
      ]
     },
     "execution_count": 2,
     "metadata": {},
     "output_type": "execute_result"
    }
   ],
   "source": [
    "# 3. Kayıt (Auto ile kullanabilmek için)\n",
    "AutoConfig.register(\"crispy\", CrispyLLMConfig)\n",
    "AutoModelForCausalLM.register(CrispyLLMConfig, CrispyForCausalLM)\n",
    "\n",
    "#tokenizer = PreTrainedTokenizerFast.from_pretrained(\"./CrispyTokenizer\")\n",
    "\n",
    "# XLM-Roberta tokenizer yükleniyor\n",
    "#tokenizer = XLMRobertaTokenizer.from_pretrained(\"xlm-roberta-base\")\n",
    "\n",
    "\n",
    "# load the tokenizer and the model\n",
    "tokenizer = AutoTokenizer.from_pretrained(\"../Tokenizer/Crispy Tokenizer/\")\n",
    "\n",
    "\n",
    "crispy_config = CrispyLLMConfig(attn_implementation=\"flash_attention_2\", decoder_dropout=0.1 , attention_dropout=0.0, use_flash_attention_2=True, max_position_embeddings=4096, vocab_size=len(tokenizer.get_vocab()), n_heads=30, max_seq_len=4096, hidden_size=64*30, num_hidden_layers=30, dtype=\"bfloat16\")\n",
    "\n",
    "crispy_config._attn_implementation_autoset = True  # 👈 Buraya ekliyorsun\n",
    "\n",
    "model = AutoModelForCausalLM.from_config(crispy_config)\n",
    "    # 4. Kayıt işlemi\n",
    "model.save_pretrained(\"../CrispyTest/CrispyLLM-RoPE\")\n",
    "tokenizer.save_pretrained(\"../CrispyTest/CrispyLLM-RoPE\") "
   ]
  },
  {
   "cell_type": "code",
   "execution_count": 3,
   "metadata": {},
   "outputs": [
    {
     "data": {
      "text/plain": [
       "CrispyForCausalLM(\n",
       "  (embedding): EmbeddingLayer(\n",
       "    (token_embedding): TokenEmbedding(\n",
       "      (embedding_layer): Embedding(50000, 1920)\n",
       "    )\n",
       "  )\n",
       "  (decoderBlocks): ModuleList(\n",
       "    (0-29): 30 x DecoderBlock(\n",
       "      (attention_block): AttentionBlock(\n",
       "        (qkv_proj): Linear(in_features=1920, out_features=5760, bias=True)\n",
       "        (o_proj): Linear(in_features=1920, out_features=1920, bias=True)\n",
       "        (rms_norm1): RMSNormBlock(\n",
       "          (rmsNorm): RMSNorm((1920,), eps=1e-05, elementwise_affine=True)\n",
       "        )\n",
       "        (attn): FlashAttentionBlockBase()\n",
       "        (rope): RotaryPositionalEmbedding()\n",
       "      )\n",
       "      (feedforward_network): FeedforwardNetwork(\n",
       "        (ln1): Linear(in_features=1920, out_features=7680, bias=True)\n",
       "        (swiglu): SwiGLU(\n",
       "          (linear1): Linear(in_features=7680, out_features=3840, bias=True)\n",
       "          (linear2): Linear(in_features=1920, out_features=7680, bias=True)\n",
       "        )\n",
       "        (ln2): Linear(in_features=7680, out_features=1920, bias=True)\n",
       "      )\n",
       "      (rms_norm1): RMSNormBlock(\n",
       "        (rmsNorm): RMSNorm((1920,), eps=1e-05, elementwise_affine=True)\n",
       "      )\n",
       "      (rms_norm2): RMSNormBlock(\n",
       "        (rmsNorm): RMSNorm((1920,), eps=1e-05, elementwise_affine=True)\n",
       "      )\n",
       "      (dropout): Dropout(p=0.1, inplace=False)\n",
       "    )\n",
       "  )\n",
       "  (final_ln): RMSNormBlock(\n",
       "    (rmsNorm): RMSNorm((1920,), eps=1e-05, elementwise_affine=True)\n",
       "  )\n",
       "  (lm_head): Linear(in_features=1920, out_features=50000, bias=True)\n",
       ")"
      ]
     },
     "execution_count": 3,
     "metadata": {},
     "output_type": "execute_result"
    }
   ],
   "source": [
    "model"
   ]
  },
  {
   "cell_type": "code",
   "execution_count": 4,
   "metadata": {},
   "outputs": [
    {
     "name": "stdout",
     "output_type": "stream",
     "text": [
      "✅ Logits shape: torch.Size([1, 4, 50000])\n"
     ]
    }
   ],
   "source": [
    "import torch\n",
    "\n",
    "text = \"Selam\"\n",
    "\n",
    "# 1️⃣ Tokenizer → Tensor\n",
    "inputs = tokenizer(text, return_tensors=\"pt\")\n",
    "\n",
    "# 2️⃣ Modelin cihazına gönder (örneğin CUDA)\n",
    "device = torch.device(\"cuda\" if torch.cuda.is_available() else \"cpu\")\n",
    "inputs = {k: v.to(device) for k, v in inputs.items()}\n",
    "model = model.to(device)\n",
    "\n",
    "# 3️⃣ Inference\n",
    "model.eval()\n",
    "with torch.no_grad():\n",
    "    outputs = model(**inputs)\n",
    "\n",
    "logits = outputs.logits\n",
    "print(\"✅ Logits shape:\", logits.shape)\n"
   ]
  },
  {
   "cell_type": "code",
   "execution_count": 5,
   "metadata": {},
   "outputs": [
    {
     "data": {
      "text/plain": [
       "' \"auto_map\": {\\n    \"AutoConfig\": \"modeling_crispy.CrispyLLMConfig\",\\n    \"AutoModelForCausalLM\": \"modeling_crispy.CrispyForCausalLM\"\\n  }, '"
      ]
     },
     "execution_count": 5,
     "metadata": {},
     "output_type": "execute_result"
    }
   ],
   "source": [
    "\"\"\" \"auto_map\": {\n",
    "    \"AutoConfig\": \"modeling_crispy.CrispyLLMConfig\",\n",
    "    \"AutoModelForCausalLM\": \"modeling_crispy.CrispyForCausalLM\"\n",
    "  }, \"\"\""
   ]
  },
  {
   "cell_type": "code",
   "execution_count": 6,
   "metadata": {},
   "outputs": [
    {
     "data": {
      "text/plain": [
       "'/media/hosman/Yerel Disk D/Codes/Basic LLM Train/MyLLM'"
      ]
     },
     "execution_count": 6,
     "metadata": {},
     "output_type": "execute_result"
    }
   ],
   "source": [
    "import os\n",
    "os.getcwd()"
   ]
  },
  {
   "cell_type": "code",
   "execution_count": 7,
   "metadata": {},
   "outputs": [
    {
     "data": {
      "text/plain": [
       "' import torch\\nfrom transformers import AutoModelForCausalLM\\nfrom transformers import AutoConfig, AutoModelForCausalLM\\nfrom CrispyLLM_RoPE2.modeling_crispy_rope import CrispyLLMConfig, CrispyForCausalLM\\nfrom transformers import PreTrainedTokenizerFast\\n\\n# 3. Kayıt (Auto ile kullanabilmek için)\\nAutoConfig.register(\"crispy\", CrispyLLMConfig)\\nAutoModelForCausalLM.register(CrispyLLMConfig, CrispyForCausalLM)\\n\\nmodel = AutoModelForCausalLM.from_pretrained(\\n    \"./CrispyLLM_RoPE2\",\\n    #use_flash_attention_2=True,\\n    attn_implementation=\"flash_attention_2\",  # veya \"eager\"\\n    trust_remote_code=True,\\n    torch_dtype=torch.bfloat16,\\n    device_map=\"auto\"\\n)\\n\\n#tokenizer = PreTrainedTokenizerFast.from_pretrained(\"./CrispyLLM-RoPE\")\\n\\nmodel '"
      ]
     },
     "execution_count": 7,
     "metadata": {},
     "output_type": "execute_result"
    }
   ],
   "source": [
    "\"\"\" import torch\n",
    "from transformers import AutoModelForCausalLM\n",
    "from transformers import AutoConfig, AutoModelForCausalLM\n",
    "from CrispyLLM_RoPE2.modeling_crispy_rope import CrispyLLMConfig, CrispyForCausalLM\n",
    "from transformers import PreTrainedTokenizerFast\n",
    "\n",
    "# 3. Kayıt (Auto ile kullanabilmek için)\n",
    "AutoConfig.register(\"crispy\", CrispyLLMConfig)\n",
    "AutoModelForCausalLM.register(CrispyLLMConfig, CrispyForCausalLM)\n",
    "\n",
    "model = AutoModelForCausalLM.from_pretrained(\n",
    "    \"./CrispyLLM_RoPE2\",\n",
    "    #use_flash_attention_2=True,\n",
    "    attn_implementation=\"flash_attention_2\",  # veya \"eager\"\n",
    "    trust_remote_code=True,\n",
    "    torch_dtype=torch.bfloat16,\n",
    "    device_map=\"auto\"\n",
    ")\n",
    "\n",
    "#tokenizer = PreTrainedTokenizerFast.from_pretrained(\"./CrispyLLM-RoPE\")\n",
    "\n",
    "model \"\"\""
   ]
  },
  {
   "cell_type": "code",
   "execution_count": 8,
   "metadata": {},
   "outputs": [
    {
     "data": {
      "application/vnd.jupyter.widget-view+json": {
       "model_id": "fe75595433bf4ddfa411ff17f31c19ca",
       "version_major": 2,
       "version_minor": 0
      },
      "text/plain": [
       "model-00002-of-00002.safetensors:   0%|          | 0.00/726M [00:00<?, ?B/s]"
      ]
     },
     "metadata": {},
     "output_type": "display_data"
    },
    {
     "data": {
      "application/vnd.jupyter.widget-view+json": {
       "model_id": "b731bc03166243fc9a19ee60be29168e",
       "version_major": 2,
       "version_minor": 0
      },
      "text/plain": [
       "model-00001-of-00002.safetensors:   0%|          | 0.00/5.00G [00:00<?, ?B/s]"
      ]
     },
     "metadata": {},
     "output_type": "display_data"
    },
    {
     "data": {
      "application/vnd.jupyter.widget-view+json": {
       "model_id": "c5416c1714e149a48ee6c96a2856ff02",
       "version_major": 2,
       "version_minor": 0
      },
      "text/plain": [
       "Upload 2 LFS files:   0%|          | 0/2 [00:00<?, ?it/s]"
      ]
     },
     "metadata": {},
     "output_type": "display_data"
    },
    {
     "data": {
      "application/vnd.jupyter.widget-view+json": {
       "model_id": "586260f3cb4f416784b12b83e7b62b77",
       "version_major": 2,
       "version_minor": 0
      },
      "text/plain": [
       "README.md:   0%|          | 0.00/5.17k [00:00<?, ?B/s]"
      ]
     },
     "metadata": {},
     "output_type": "display_data"
    },
    {
     "data": {
      "text/plain": [
       "CommitInfo(commit_url='https://huggingface.co/hosmankarabulut/Crispy-2.8B-CLM/commit/0ef7772b31f47b4c23d4dcbb0346813e2ac9cd92', commit_message='Upload tokenizer', commit_description='', oid='0ef7772b31f47b4c23d4dcbb0346813e2ac9cd92', pr_url=None, repo_url=RepoUrl('https://huggingface.co/hosmankarabulut/Crispy-2.8B-CLM', endpoint='https://huggingface.co', repo_type='model', repo_id='hosmankarabulut/Crispy-2.8B-CLM'), pr_revision=None, pr_num=None)"
      ]
     },
     "execution_count": 8,
     "metadata": {},
     "output_type": "execute_result"
    }
   ],
   "source": [
    "# Hugging Face'e gönder\n",
    "model.push_to_hub(\"hosmankarabulut/Crispy-2.8B-CLM\")         # kendi kullanıcı adınla\n",
    "tokenizer.push_to_hub(\"hosmankarabulut/Crispy-2.8B-CLM\")"
   ]
  }
 ],
 "metadata": {
  "kernelspec": {
   "display_name": "torchEnv",
   "language": "python",
   "name": "python3"
  },
  "language_info": {
   "codemirror_mode": {
    "name": "ipython",
    "version": 3
   },
   "file_extension": ".py",
   "mimetype": "text/x-python",
   "name": "python",
   "nbconvert_exporter": "python",
   "pygments_lexer": "ipython3",
   "version": "3.12.3"
  }
 },
 "nbformat": 4,
 "nbformat_minor": 2
}
