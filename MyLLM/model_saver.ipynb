{
 "cells": [
  {
   "cell_type": "code",
   "execution_count": 9,
   "metadata": {},
   "outputs": [],
   "source": [
    "from transformers import AutoConfig, AutoModelForCausalLM\n",
    "from CrispyLLM_RoPE.modeling_crispy_rope import CrispyLLMConfig, CrispyForCausalLM\n",
    "from transformers import PreTrainedTokenizerFast\n",
    "from transformers import XLMRobertaTokenizer"
   ]
  },
  {
   "cell_type": "code",
   "execution_count": 10,
   "metadata": {},
   "outputs": [
    {
     "data": {
      "text/plain": [
       "('./CrispyLLM-RoPE/tokenizer_config.json',\n",
       " './CrispyLLM-RoPE/special_tokens_map.json',\n",
       " './CrispyLLM-RoPE/sentencepiece.bpe.model',\n",
       " './CrispyLLM-RoPE/added_tokens.json')"
      ]
     },
     "execution_count": 10,
     "metadata": {},
     "output_type": "execute_result"
    }
   ],
   "source": [
    "# 3. Kayıt (Auto ile kullanabilmek için)\n",
    "AutoConfig.register(\"crispy\", CrispyLLMConfig)\n",
    "AutoModelForCausalLM.register(CrispyLLMConfig, CrispyForCausalLM)\n",
    "\n",
    "#tokenizer = PreTrainedTokenizerFast.from_pretrained(\"./CrispyTokenizer\")\n",
    "\n",
    "# XLM-Roberta tokenizer yükleniyor\n",
    "tokenizer = XLMRobertaTokenizer.from_pretrained(\"xlm-roberta-base\")\n",
    "\n",
    "\n",
    "crispy_config = CrispyLLMConfig(attn_implementation=\"flash_attention_2\", use_flash_attention_2=False, vocab_size=len(tokenizer.get_vocab()),n_heads=16, max_seq_len=1024, hidden_size=64*16, num_hidden_layers=16, dtype=\"bfloat16\")\n",
    "\n",
    "crispy_config._attn_implementation_autoset = True  # 👈 Buraya ekliyorsun\n",
    "\n",
    "model = AutoModelForCausalLM.from_config(crispy_config)\n",
    "    # 4. Kayıt işlemi\n",
    "model.save_pretrained(\"./CrispyLLM-RoPE\")\n",
    "tokenizer.save_pretrained(\"./CrispyLLM-RoPE\") "
   ]
  },
  {
   "cell_type": "code",
   "execution_count": 3,
   "metadata": {},
   "outputs": [
    {
     "data": {
      "text/plain": [
       "' \"auto_map\": {\\n    \"AutoConfig\": \"modeling_crispy.CrispyLLMConfig\",\\n    \"AutoModelForCausalLM\": \"modeling_crispy.CrispyForCausalLM\"\\n  }, '"
      ]
     },
     "execution_count": 3,
     "metadata": {},
     "output_type": "execute_result"
    }
   ],
   "source": [
    "\"\"\" \"auto_map\": {\n",
    "    \"AutoConfig\": \"modeling_crispy.CrispyLLMConfig\",\n",
    "    \"AutoModelForCausalLM\": \"modeling_crispy.CrispyForCausalLM\"\n",
    "  }, \"\"\""
   ]
  },
  {
   "cell_type": "code",
   "execution_count": 4,
   "metadata": {},
   "outputs": [
    {
     "data": {
      "text/plain": [
       "'/media/hosman/Yerel Disk D/Codes/Basic LLM Train/MyLLM'"
      ]
     },
     "execution_count": 4,
     "metadata": {},
     "output_type": "execute_result"
    }
   ],
   "source": [
    "import os\n",
    "os.getcwd()"
   ]
  },
  {
   "cell_type": "code",
   "execution_count": null,
   "metadata": {},
   "outputs": [
    {
     "name": "stdout",
     "output_type": "stream",
     "text": [
      "CrispyLLMConfig {\n",
      "  \"_attn_implementation\": \"flash_attention_2\",\n",
      "  \"architectures\": [\n",
      "    \"CrispyForCausalLM\"\n",
      "  ],\n",
      "  \"attention_dropout\": 0.2,\n",
      "  \"attn_implementation\": \"eager\",\n",
      "  \"decoder_dropout\": 0.2,\n",
      "  \"device\": \"cuda\",\n",
      "  \"dtype\": \"bfloat16\",\n",
      "  \"gradient_checkpointing\": false,\n",
      "  \"hidden_size\": 1024,\n",
      "  \"layer_norm_bias\": true,\n",
      "  \"max_seq_len\": 1024,\n",
      "  \"model_type\": \"crispy\",\n",
      "  \"n_heads\": 16,\n",
      "  \"num_hidden_layers\": 16,\n",
      "  \"torch_dtype\": \"bfloat16\",\n",
      "  \"transformers_version\": \"4.51.0\",\n",
      "  \"use_flash_attention_2\": false,\n",
      "  \"vocab_size\": 250002\n",
      "}\n",
      "\n",
      "📦 Loading weights from model.safetensors\n",
      "eager\n",
      "⚠️ Missing keys: ['decoderBlocks.0.attention_block.attn.in_proj_weight', 'decoderBlocks.0.attention_block.attn.in_proj_bias', 'decoderBlocks.0.attention_block.attn.out_proj.weight', 'decoderBlocks.0.attention_block.attn.out_proj.bias', 'decoderBlocks.1.attention_block.attn.in_proj_weight', 'decoderBlocks.1.attention_block.attn.in_proj_bias', 'decoderBlocks.1.attention_block.attn.out_proj.weight', 'decoderBlocks.1.attention_block.attn.out_proj.bias', 'decoderBlocks.2.attention_block.attn.in_proj_weight', 'decoderBlocks.2.attention_block.attn.in_proj_bias', 'decoderBlocks.2.attention_block.attn.out_proj.weight', 'decoderBlocks.2.attention_block.attn.out_proj.bias', 'decoderBlocks.3.attention_block.attn.in_proj_weight', 'decoderBlocks.3.attention_block.attn.in_proj_bias', 'decoderBlocks.3.attention_block.attn.out_proj.weight', 'decoderBlocks.3.attention_block.attn.out_proj.bias', 'decoderBlocks.4.attention_block.attn.in_proj_weight', 'decoderBlocks.4.attention_block.attn.in_proj_bias', 'decoderBlocks.4.attention_block.attn.out_proj.weight', 'decoderBlocks.4.attention_block.attn.out_proj.bias', 'decoderBlocks.5.attention_block.attn.in_proj_weight', 'decoderBlocks.5.attention_block.attn.in_proj_bias', 'decoderBlocks.5.attention_block.attn.out_proj.weight', 'decoderBlocks.5.attention_block.attn.out_proj.bias', 'decoderBlocks.6.attention_block.attn.in_proj_weight', 'decoderBlocks.6.attention_block.attn.in_proj_bias', 'decoderBlocks.6.attention_block.attn.out_proj.weight', 'decoderBlocks.6.attention_block.attn.out_proj.bias', 'decoderBlocks.7.attention_block.attn.in_proj_weight', 'decoderBlocks.7.attention_block.attn.in_proj_bias', 'decoderBlocks.7.attention_block.attn.out_proj.weight', 'decoderBlocks.7.attention_block.attn.out_proj.bias', 'decoderBlocks.8.attention_block.attn.in_proj_weight', 'decoderBlocks.8.attention_block.attn.in_proj_bias', 'decoderBlocks.8.attention_block.attn.out_proj.weight', 'decoderBlocks.8.attention_block.attn.out_proj.bias', 'decoderBlocks.9.attention_block.attn.in_proj_weight', 'decoderBlocks.9.attention_block.attn.in_proj_bias', 'decoderBlocks.9.attention_block.attn.out_proj.weight', 'decoderBlocks.9.attention_block.attn.out_proj.bias', 'decoderBlocks.10.attention_block.attn.in_proj_weight', 'decoderBlocks.10.attention_block.attn.in_proj_bias', 'decoderBlocks.10.attention_block.attn.out_proj.weight', 'decoderBlocks.10.attention_block.attn.out_proj.bias', 'decoderBlocks.11.attention_block.attn.in_proj_weight', 'decoderBlocks.11.attention_block.attn.in_proj_bias', 'decoderBlocks.11.attention_block.attn.out_proj.weight', 'decoderBlocks.11.attention_block.attn.out_proj.bias', 'decoderBlocks.12.attention_block.attn.in_proj_weight', 'decoderBlocks.12.attention_block.attn.in_proj_bias', 'decoderBlocks.12.attention_block.attn.out_proj.weight', 'decoderBlocks.12.attention_block.attn.out_proj.bias', 'decoderBlocks.13.attention_block.attn.in_proj_weight', 'decoderBlocks.13.attention_block.attn.in_proj_bias', 'decoderBlocks.13.attention_block.attn.out_proj.weight', 'decoderBlocks.13.attention_block.attn.out_proj.bias', 'decoderBlocks.14.attention_block.attn.in_proj_weight', 'decoderBlocks.14.attention_block.attn.in_proj_bias', 'decoderBlocks.14.attention_block.attn.out_proj.weight', 'decoderBlocks.14.attention_block.attn.out_proj.bias', 'decoderBlocks.15.attention_block.attn.in_proj_weight', 'decoderBlocks.15.attention_block.attn.in_proj_bias', 'decoderBlocks.15.attention_block.attn.out_proj.weight', 'decoderBlocks.15.attention_block.attn.out_proj.bias']\n"
     ]
    },
    {
     "data": {
      "text/plain": [
       "CrispyForCausalLM(\n",
       "  (embedding): EmbeddingLayer(\n",
       "    (token_embedding): TokenEmbedding(\n",
       "      (embedding_layer): Embedding(250002, 1024)\n",
       "    )\n",
       "  )\n",
       "  (decoderBlocks): ModuleList(\n",
       "    (0-15): 16 x DecoderBlock(\n",
       "      (attention_block): AttentionBlock(\n",
       "        (qkv_proj): Linear(in_features=1024, out_features=3072, bias=True)\n",
       "        (o_proj): Linear(in_features=1024, out_features=1024, bias=True)\n",
       "        (rms_norm1): RMSNormBlock(\n",
       "          (rmsNorm): RMSNorm((1024,), eps=1e-05, elementwise_affine=True)\n",
       "        )\n",
       "        (attn): MultiheadAttention(\n",
       "          (out_proj): NonDynamicallyQuantizableLinear(in_features=1024, out_features=1024, bias=True)\n",
       "        )\n",
       "        (rope): RotaryPositionalEmbedding()\n",
       "      )\n",
       "      (feedforward_network): FeedforwardNetwork(\n",
       "        (ln1): Linear(in_features=1024, out_features=4096, bias=True)\n",
       "        (swiglu): SwiGLU(\n",
       "          (linear1): Linear(in_features=4096, out_features=2048, bias=True)\n",
       "          (linear2): Linear(in_features=1024, out_features=4096, bias=True)\n",
       "        )\n",
       "        (ln2): Linear(in_features=4096, out_features=1024, bias=True)\n",
       "      )\n",
       "      (rms_norm1): RMSNormBlock(\n",
       "        (rmsNorm): RMSNorm((1024,), eps=1e-05, elementwise_affine=True)\n",
       "      )\n",
       "      (rms_norm2): RMSNormBlock(\n",
       "        (rmsNorm): RMSNorm((1024,), eps=1e-05, elementwise_affine=True)\n",
       "      )\n",
       "      (dropout): Dropout(p=0.2, inplace=False)\n",
       "    )\n",
       "  )\n",
       "  (final_ln): RMSNormBlock(\n",
       "    (rmsNorm): RMSNorm((1024,), eps=1e-05, elementwise_affine=True)\n",
       "  )\n",
       "  (lm_head): Linear(in_features=1024, out_features=250002, bias=True)\n",
       ")"
      ]
     },
     "execution_count": 6,
     "metadata": {},
     "output_type": "execute_result"
    }
   ],
   "source": [
    "import torch\n",
    "from transformers import AutoModelForCausalLM\n",
    "from transformers import AutoConfig, AutoModelForCausalLM\n",
    "from CrispyLLM_RoPE2.modeling_crispy_rope import CrispyLLMConfig, CrispyForCausalLM\n",
    "from transformers import PreTrainedTokenizerFast\n",
    "\n",
    "# 3. Kayıt (Auto ile kullanabilmek için)\n",
    "AutoConfig.register(\"crispy\", CrispyLLMConfig)\n",
    "AutoModelForCausalLM.register(CrispyLLMConfig, CrispyForCausalLM)\n",
    "\n",
    "model = AutoModelForCausalLM.from_pretrained(\n",
    "    \"./CrispyLLM_RoPE2\",\n",
    "    #use_flash_attention_2=True,\n",
    "    attn_implementation=\"flash_attention_2\",  # veya \"eager\"\n",
    "    trust_remote_code=True,\n",
    "    torch_dtype=torch.bfloat16,\n",
    "    device_map=\"auto\"\n",
    ")\n",
    "\n",
    "#tokenizer = PreTrainedTokenizerFast.from_pretrained(\"./CrispyLLM-RoPE\")\n",
    "\n",
    "model"
   ]
  },
  {
   "cell_type": "code",
   "execution_count": 8,
   "metadata": {},
   "outputs": [
    {
     "data": {
      "application/vnd.jupyter.widget-view+json": {
       "model_id": "741d5076c2d24c5d92aebcf025495530",
       "version_major": 2,
       "version_minor": 0
      },
      "text/plain": [
       "model.safetensors:   0%|          | 0.00/662M [00:00<?, ?B/s]"
      ]
     },
     "metadata": {},
     "output_type": "display_data"
    },
    {
     "data": {
      "text/plain": [
       "CommitInfo(commit_url='https://huggingface.co/hosmankarabulut/Crispy-330M-v1/commit/0c5d275fb2021fd912f349ef98cfad5902d41b5c', commit_message='Upload tokenizer', commit_description='', oid='0c5d275fb2021fd912f349ef98cfad5902d41b5c', pr_url=None, repo_url=RepoUrl('https://huggingface.co/hosmankarabulut/Crispy-330M-v1', endpoint='https://huggingface.co', repo_type='model', repo_id='hosmankarabulut/Crispy-330M-v1'), pr_revision=None, pr_num=None)"
      ]
     },
     "execution_count": 8,
     "metadata": {},
     "output_type": "execute_result"
    }
   ],
   "source": [
    "# Hugging Face'e gönder\n",
    "model.push_to_hub(\"hosmankarabulut/Crispy-330M-v1\")         # kendi kullanıcı adınla\n",
    "tokenizer.push_to_hub(\"hosmankarabulut/Crispy-330M-v1\")"
   ]
  }
 ],
 "metadata": {
  "kernelspec": {
   "display_name": "torchEnv",
   "language": "python",
   "name": "python3"
  },
  "language_info": {
   "codemirror_mode": {
    "name": "ipython",
    "version": 3
   },
   "file_extension": ".py",
   "mimetype": "text/x-python",
   "name": "python",
   "nbconvert_exporter": "python",
   "pygments_lexer": "ipython3",
   "version": "3.12.3"
  }
 },
 "nbformat": 4,
 "nbformat_minor": 2
}
