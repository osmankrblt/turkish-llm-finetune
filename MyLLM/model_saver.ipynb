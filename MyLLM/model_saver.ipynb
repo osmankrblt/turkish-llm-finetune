{
 "cells": [
  {
   "cell_type": "code",
   "execution_count": 1,
   "metadata": {},
   "outputs": [],
   "source": [
    "from transformers import AutoConfig, AutoModelForCausalLM\n",
    "from CrispyModeling.Model.modeling import CrispyLLMConfig, CrispyModel\n",
    "from transformers import PreTrainedTokenizerFast"
   ]
  },
  {
   "cell_type": "code",
   "execution_count": 2,
   "metadata": {},
   "outputs": [],
   "source": [
    "# 3. Kayıt (Auto ile kullanabilmek için)\n",
    "AutoConfig.register(\"crispy\", CrispyLLMConfig)\n",
    "AutoModelForCausalLM.register(CrispyLLMConfig, CrispyModel)\n",
    "\n",
    "tokenizer = PreTrainedTokenizerFast.from_pretrained(\"./CrispyTokenizer\")\n",
    "crispy_config = CrispyLLMConfig(vocab_size=len(tokenizer.get_vocab()),n_heads=8, max_seq_len=2048*4, hidden_size=64*16, num_hidden_layers=8,)\n",
    "model = CrispyModel(crispy_config)\n",
    "    # 4. Kayıt işlemi\n",
    "#model.save_pretrained(\"./CrispyLLM\")\n",
    "#tokenizer.save_pretrained(\"./CrispyLLM\") "
   ]
  },
  {
   "cell_type": "code",
   "execution_count": 3,
   "metadata": {},
   "outputs": [
    {
     "data": {
      "text/plain": [
       "' \"auto_map\": {\\n    \"AutoConfig\": \"modeling_crispy.CrispyLLMConfig\",\\n    \"AutoModelForCausalLM\": \"modeling_crispy.CrispyModel\"\\n  }, '"
      ]
     },
     "execution_count": 3,
     "metadata": {},
     "output_type": "execute_result"
    }
   ],
   "source": [
    "\"\"\" \"auto_map\": {\n",
    "    \"AutoConfig\": \"modeling_crispy.CrispyLLMConfig\",\n",
    "    \"AutoModelForCausalLM\": \"modeling_crispy.CrispyModel\"\n",
    "  }, \"\"\""
   ]
  },
  {
   "cell_type": "code",
   "execution_count": 1,
   "metadata": {},
   "outputs": [
    {
     "data": {
      "text/plain": [
       "'/media/hosman/Yerel Disk D/Codes/Basic LLM Train/MyLLM'"
      ]
     },
     "execution_count": 1,
     "metadata": {},
     "output_type": "execute_result"
    }
   ],
   "source": [
    "import os\n",
    "os.getcwd()"
   ]
  },
  {
   "cell_type": "code",
   "execution_count": 1,
   "metadata": {},
   "outputs": [
    {
     "name": "stderr",
     "output_type": "stream",
     "text": [
      "Some weights of the model checkpoint at ./CrispyLLM were not used when initializing CrispyModel: ['decoderBlocks.0.attention_block.attn.attn.Wqkv.bias', 'decoderBlocks.0.attention_block.attn.attn.Wqkv.weight', 'decoderBlocks.0.attention_block.attn.attn.out_proj.bias', 'decoderBlocks.0.attention_block.attn.attn.out_proj.weight', 'decoderBlocks.1.attention_block.attn.attn.Wqkv.bias', 'decoderBlocks.1.attention_block.attn.attn.Wqkv.weight', 'decoderBlocks.1.attention_block.attn.attn.out_proj.bias', 'decoderBlocks.1.attention_block.attn.attn.out_proj.weight', 'decoderBlocks.2.attention_block.attn.attn.Wqkv.bias', 'decoderBlocks.2.attention_block.attn.attn.Wqkv.weight', 'decoderBlocks.2.attention_block.attn.attn.out_proj.bias', 'decoderBlocks.2.attention_block.attn.attn.out_proj.weight', 'decoderBlocks.3.attention_block.attn.attn.Wqkv.bias', 'decoderBlocks.3.attention_block.attn.attn.Wqkv.weight', 'decoderBlocks.3.attention_block.attn.attn.out_proj.bias', 'decoderBlocks.3.attention_block.attn.attn.out_proj.weight', 'decoderBlocks.4.attention_block.attn.attn.Wqkv.bias', 'decoderBlocks.4.attention_block.attn.attn.Wqkv.weight', 'decoderBlocks.4.attention_block.attn.attn.out_proj.bias', 'decoderBlocks.4.attention_block.attn.attn.out_proj.weight', 'decoderBlocks.5.attention_block.attn.attn.Wqkv.bias', 'decoderBlocks.5.attention_block.attn.attn.Wqkv.weight', 'decoderBlocks.5.attention_block.attn.attn.out_proj.bias', 'decoderBlocks.5.attention_block.attn.attn.out_proj.weight', 'decoderBlocks.6.attention_block.attn.attn.Wqkv.bias', 'decoderBlocks.6.attention_block.attn.attn.Wqkv.weight', 'decoderBlocks.6.attention_block.attn.attn.out_proj.bias', 'decoderBlocks.6.attention_block.attn.attn.out_proj.weight', 'decoderBlocks.7.attention_block.attn.attn.Wqkv.bias', 'decoderBlocks.7.attention_block.attn.attn.Wqkv.weight', 'decoderBlocks.7.attention_block.attn.attn.out_proj.bias', 'decoderBlocks.7.attention_block.attn.attn.out_proj.weight']\n",
      "- This IS expected if you are initializing CrispyModel from the checkpoint of a model trained on another task or with another architecture (e.g. initializing a BertForSequenceClassification model from a BertForPreTraining model).\n",
      "- This IS NOT expected if you are initializing CrispyModel from the checkpoint of a model that you expect to be exactly identical (initializing a BertForSequenceClassification model from a BertForSequenceClassification model).\n",
      "Some weights of CrispyModel were not initialized from the model checkpoint at ./CrispyLLM and are newly initialized: ['decoderBlocks.0.attention_block.attn.in_proj_bias', 'decoderBlocks.0.attention_block.attn.in_proj_weight', 'decoderBlocks.0.attention_block.attn.out_proj.bias', 'decoderBlocks.0.attention_block.attn.out_proj.weight', 'decoderBlocks.1.attention_block.attn.in_proj_bias', 'decoderBlocks.1.attention_block.attn.in_proj_weight', 'decoderBlocks.1.attention_block.attn.out_proj.bias', 'decoderBlocks.1.attention_block.attn.out_proj.weight', 'decoderBlocks.2.attention_block.attn.in_proj_bias', 'decoderBlocks.2.attention_block.attn.in_proj_weight', 'decoderBlocks.2.attention_block.attn.out_proj.bias', 'decoderBlocks.2.attention_block.attn.out_proj.weight', 'decoderBlocks.3.attention_block.attn.in_proj_bias', 'decoderBlocks.3.attention_block.attn.in_proj_weight', 'decoderBlocks.3.attention_block.attn.out_proj.bias', 'decoderBlocks.3.attention_block.attn.out_proj.weight', 'decoderBlocks.4.attention_block.attn.in_proj_bias', 'decoderBlocks.4.attention_block.attn.in_proj_weight', 'decoderBlocks.4.attention_block.attn.out_proj.bias', 'decoderBlocks.4.attention_block.attn.out_proj.weight', 'decoderBlocks.5.attention_block.attn.in_proj_bias', 'decoderBlocks.5.attention_block.attn.in_proj_weight', 'decoderBlocks.5.attention_block.attn.out_proj.bias', 'decoderBlocks.5.attention_block.attn.out_proj.weight', 'decoderBlocks.6.attention_block.attn.in_proj_bias', 'decoderBlocks.6.attention_block.attn.in_proj_weight', 'decoderBlocks.6.attention_block.attn.out_proj.bias', 'decoderBlocks.6.attention_block.attn.out_proj.weight', 'decoderBlocks.7.attention_block.attn.in_proj_bias', 'decoderBlocks.7.attention_block.attn.in_proj_weight', 'decoderBlocks.7.attention_block.attn.out_proj.bias', 'decoderBlocks.7.attention_block.attn.out_proj.weight']\n",
      "You should probably TRAIN this model on a down-stream task to be able to use it for predictions and inference.\n"
     ]
    },
    {
     "data": {
      "text/plain": [
       "CrispyModel(\n",
       "  (embedding): EmbeddingLayer(\n",
       "    (token_embedding): TokenEmbedding(\n",
       "      (embedding_layer): Embedding(26213, 512)\n",
       "    )\n",
       "    (position_embedding): PositionEmbedding(\n",
       "      (position_embedding): Embedding(8192, 512)\n",
       "    )\n",
       "  )\n",
       "  (decoderBlocks): ModuleList(\n",
       "    (0-7): 8 x DecoderBlock(\n",
       "      (attention_block): AttentionBlock(\n",
       "        (qkv_proj): Linear(in_features=512, out_features=1536, bias=True)\n",
       "        (o_proj): Linear(in_features=512, out_features=512, bias=True)\n",
       "        (ln): LayerNorm((512,), eps=1e-05, elementwise_affine=True)\n",
       "        (attn): MultiheadAttention(\n",
       "          (out_proj): NonDynamicallyQuantizableLinear(in_features=512, out_features=512, bias=True)\n",
       "        )\n",
       "      )\n",
       "      (feedforward_network): FeedforwardNetwork(\n",
       "        (ln1): Linear(in_features=512, out_features=2048, bias=True)\n",
       "        (gelu): GELU(approximate='none')\n",
       "        (ln2): Linear(in_features=2048, out_features=512, bias=True)\n",
       "      )\n",
       "      (layer_norm1): LayerNorm(\n",
       "        (ln): LayerNorm((512,), eps=1e-05, elementwise_affine=True)\n",
       "      )\n",
       "      (layer_norm2): LayerNorm(\n",
       "        (ln): LayerNorm((512,), eps=1e-05, elementwise_affine=True)\n",
       "      )\n",
       "      (dropout): Dropout(p=0.2, inplace=False)\n",
       "    )\n",
       "  )\n",
       "  (final_ln): LayerNorm(\n",
       "    (ln): LayerNorm((512,), eps=1e-05, elementwise_affine=True)\n",
       "  )\n",
       "  (lm_head): Linear(in_features=512, out_features=26213, bias=True)\n",
       "  (softmax): Softmax(dim=-1)\n",
       ")"
      ]
     },
     "execution_count": 1,
     "metadata": {},
     "output_type": "execute_result"
    }
   ],
   "source": [
    "import torch\n",
    "from transformers import AutoModelForCausalLM\n",
    "\n",
    "model = AutoModelForCausalLM.from_pretrained(\n",
    "    \"./CrispyLLM\",\n",
    "    attn_implementation=\"eager\",  # veya \"eager\"\n",
    "    trust_remote_code=True,\n",
    "    torch_dtype=torch.bfloat16,\n",
    "    device_map=\"auto\"\n",
    ")\n",
    "\n",
    "model"
   ]
  },
  {
   "cell_type": "code",
   "execution_count": 22,
   "metadata": {},
   "outputs": [
    {
     "name": "stderr",
     "output_type": "stream",
     "text": [
      "Some weights of the model checkpoint at ./CrispyLLM were not used when initializing CrispyModel: ['decoderBlocks.0.attention_block.attn.attn.Wqkv.bias', 'decoderBlocks.0.attention_block.attn.attn.Wqkv.weight', 'decoderBlocks.0.attention_block.attn.attn.out_proj.bias', 'decoderBlocks.0.attention_block.attn.attn.out_proj.weight', 'decoderBlocks.1.attention_block.attn.attn.Wqkv.bias', 'decoderBlocks.1.attention_block.attn.attn.Wqkv.weight', 'decoderBlocks.1.attention_block.attn.attn.out_proj.bias', 'decoderBlocks.1.attention_block.attn.attn.out_proj.weight', 'decoderBlocks.2.attention_block.attn.attn.Wqkv.bias', 'decoderBlocks.2.attention_block.attn.attn.Wqkv.weight', 'decoderBlocks.2.attention_block.attn.attn.out_proj.bias', 'decoderBlocks.2.attention_block.attn.attn.out_proj.weight', 'decoderBlocks.3.attention_block.attn.attn.Wqkv.bias', 'decoderBlocks.3.attention_block.attn.attn.Wqkv.weight', 'decoderBlocks.3.attention_block.attn.attn.out_proj.bias', 'decoderBlocks.3.attention_block.attn.attn.out_proj.weight', 'decoderBlocks.4.attention_block.attn.attn.Wqkv.bias', 'decoderBlocks.4.attention_block.attn.attn.Wqkv.weight', 'decoderBlocks.4.attention_block.attn.attn.out_proj.bias', 'decoderBlocks.4.attention_block.attn.attn.out_proj.weight', 'decoderBlocks.5.attention_block.attn.attn.Wqkv.bias', 'decoderBlocks.5.attention_block.attn.attn.Wqkv.weight', 'decoderBlocks.5.attention_block.attn.attn.out_proj.bias', 'decoderBlocks.5.attention_block.attn.attn.out_proj.weight', 'decoderBlocks.6.attention_block.attn.attn.Wqkv.bias', 'decoderBlocks.6.attention_block.attn.attn.Wqkv.weight', 'decoderBlocks.6.attention_block.attn.attn.out_proj.bias', 'decoderBlocks.6.attention_block.attn.attn.out_proj.weight', 'decoderBlocks.7.attention_block.attn.attn.Wqkv.bias', 'decoderBlocks.7.attention_block.attn.attn.Wqkv.weight', 'decoderBlocks.7.attention_block.attn.attn.out_proj.bias', 'decoderBlocks.7.attention_block.attn.attn.out_proj.weight']\n",
      "- This IS expected if you are initializing CrispyModel from the checkpoint of a model trained on another task or with another architecture (e.g. initializing a BertForSequenceClassification model from a BertForPreTraining model).\n",
      "- This IS NOT expected if you are initializing CrispyModel from the checkpoint of a model that you expect to be exactly identical (initializing a BertForSequenceClassification model from a BertForSequenceClassification model).\n",
      "Some weights of CrispyModel were not initialized from the model checkpoint at ./CrispyLLM and are newly initialized: ['decoderBlocks.0.attention_block.attn.in_proj_bias', 'decoderBlocks.0.attention_block.attn.in_proj_weight', 'decoderBlocks.0.attention_block.attn.out_proj.bias', 'decoderBlocks.0.attention_block.attn.out_proj.weight', 'decoderBlocks.1.attention_block.attn.in_proj_bias', 'decoderBlocks.1.attention_block.attn.in_proj_weight', 'decoderBlocks.1.attention_block.attn.out_proj.bias', 'decoderBlocks.1.attention_block.attn.out_proj.weight', 'decoderBlocks.2.attention_block.attn.in_proj_bias', 'decoderBlocks.2.attention_block.attn.in_proj_weight', 'decoderBlocks.2.attention_block.attn.out_proj.bias', 'decoderBlocks.2.attention_block.attn.out_proj.weight', 'decoderBlocks.3.attention_block.attn.in_proj_bias', 'decoderBlocks.3.attention_block.attn.in_proj_weight', 'decoderBlocks.3.attention_block.attn.out_proj.bias', 'decoderBlocks.3.attention_block.attn.out_proj.weight', 'decoderBlocks.4.attention_block.attn.in_proj_bias', 'decoderBlocks.4.attention_block.attn.in_proj_weight', 'decoderBlocks.4.attention_block.attn.out_proj.bias', 'decoderBlocks.4.attention_block.attn.out_proj.weight', 'decoderBlocks.5.attention_block.attn.in_proj_bias', 'decoderBlocks.5.attention_block.attn.in_proj_weight', 'decoderBlocks.5.attention_block.attn.out_proj.bias', 'decoderBlocks.5.attention_block.attn.out_proj.weight', 'decoderBlocks.6.attention_block.attn.in_proj_bias', 'decoderBlocks.6.attention_block.attn.in_proj_weight', 'decoderBlocks.6.attention_block.attn.out_proj.bias', 'decoderBlocks.6.attention_block.attn.out_proj.weight', 'decoderBlocks.7.attention_block.attn.in_proj_bias', 'decoderBlocks.7.attention_block.attn.in_proj_weight', 'decoderBlocks.7.attention_block.attn.out_proj.bias', 'decoderBlocks.7.attention_block.attn.out_proj.weight']\n",
      "You should probably TRAIN this model on a down-stream task to be able to use it for predictions and inference.\n"
     ]
    },
    {
     "data": {
      "text/plain": [
       "CrispyModel(\n",
       "  (embedding): EmbeddingLayer(\n",
       "    (token_embedding): TokenEmbedding(\n",
       "      (embedding_layer): Embedding(26213, 512)\n",
       "    )\n",
       "    (position_embedding): PositionEmbedding(\n",
       "      (position_embedding): Embedding(8192, 512)\n",
       "    )\n",
       "  )\n",
       "  (decoderBlocks): ModuleList(\n",
       "    (0-7): 8 x DecoderBlock(\n",
       "      (attention_block): AttentionBlock(\n",
       "        (qkv_proj): Linear(in_features=512, out_features=1536, bias=True)\n",
       "        (o_proj): Linear(in_features=512, out_features=512, bias=True)\n",
       "        (ln): LayerNorm((512,), eps=1e-05, elementwise_affine=True)\n",
       "        (attn): MultiheadAttention(\n",
       "          (out_proj): NonDynamicallyQuantizableLinear(in_features=512, out_features=512, bias=True)\n",
       "        )\n",
       "      )\n",
       "      (feedforward_network): FeedforwardNetwork(\n",
       "        (ln1): Linear(in_features=512, out_features=2048, bias=True)\n",
       "        (gelu): GELU(approximate='none')\n",
       "        (ln2): Linear(in_features=2048, out_features=512, bias=True)\n",
       "      )\n",
       "      (layer_norm1): LayerNorm(\n",
       "        (ln): LayerNorm((512,), eps=1e-05, elementwise_affine=True)\n",
       "      )\n",
       "      (layer_norm2): LayerNorm(\n",
       "        (ln): LayerNorm((512,), eps=1e-05, elementwise_affine=True)\n",
       "      )\n",
       "      (dropout): Dropout(p=0.2, inplace=False)\n",
       "    )\n",
       "  )\n",
       "  (final_ln): LayerNorm(\n",
       "    (ln): LayerNorm((512,), eps=1e-05, elementwise_affine=True)\n",
       "  )\n",
       "  (lm_head): Linear(in_features=512, out_features=26213, bias=True)\n",
       "  (softmax): Softmax(dim=-1)\n",
       ")"
      ]
     },
     "execution_count": 22,
     "metadata": {},
     "output_type": "execute_result"
    }
   ],
   "source": [
    "# 5. Yükleme işlemi artık çalışır:\n",
    "import torch\n",
    "\n",
    "attn_implementation=\"flash_attention_2\"\n",
    "_attn_implementation=\"flash_attention_2\"\n",
    "\n",
    "#attn_implementation=None\n",
    "#_attn_implementation=None\n",
    "\n",
    "#attn_implementation=\"flash_attention_2\"\n",
    "#_attn_implementation=\"flash_attention_2\"\n",
    "\n",
    "model = AutoModelForCausalLM.from_pretrained(\"./CrispyLLM\", device=\"cuda\", attn_implementation=attn_implementation,\n",
    "                                             torch_dtype=torch.bfloat16, _attn_implementation=attn_implementation,\n",
    "                                             trust_remote_code=True)\n",
    "model"
   ]
  },
  {
   "cell_type": "code",
   "execution_count": 6,
   "metadata": {},
   "outputs": [],
   "source": [
    "# Hugging Face'e gönder\n",
    "#model.push_to_hub(\"hosmankarabulut/Crispy-2.12B\" , safe_serialization=False)         # kendi kullanıcı adınla\n",
    "#tokenizer.push_to_hub(\"hosmankarabulut/Crispy-2.12B\")"
   ]
  }
 ],
 "metadata": {
  "kernelspec": {
   "display_name": "torchEnv",
   "language": "python",
   "name": "python3"
  },
  "language_info": {
   "codemirror_mode": {
    "name": "ipython",
    "version": 3
   },
   "file_extension": ".py",
   "mimetype": "text/x-python",
   "name": "python",
   "nbconvert_exporter": "python",
   "pygments_lexer": "ipython3",
   "version": "3.12.3"
  }
 },
 "nbformat": 4,
 "nbformat_minor": 2
}
