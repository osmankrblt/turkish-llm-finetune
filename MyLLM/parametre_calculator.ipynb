{
 "cells": [
  {
   "cell_type": "code",
   "execution_count": 5,
   "metadata": {},
   "outputs": [
    {
     "name": "stdout",
     "output_type": "stream",
     "text": [
      "📦 Loading weights from model.safetensors\n",
      "🧠 Eager attention ağırlıkları tespit edildi.\n",
      "🔁 Eager → Flash çevirisi yapılıyor...\n",
      "🔁 Eager → Flash dönüştürülüyor: blok 0\n",
      "🔁 Eager → Flash dönüştürülüyor: blok 1\n",
      "🔁 Eager → Flash dönüştürülüyor: blok 2\n",
      "🔁 Eager → Flash dönüştürülüyor: blok 3\n",
      "🔁 Eager → Flash dönüştürülüyor: blok 4\n",
      "🔁 Eager → Flash dönüştürülüyor: blok 5\n",
      "🔁 Eager → Flash dönüştürülüyor: blok 6\n",
      "🔁 Eager → Flash dönüştürülüyor: blok 7\n",
      "🔁 Eager → Flash dönüştürülüyor: blok 8\n",
      "🔁 Eager → Flash dönüştürülüyor: blok 9\n",
      "🔁 Eager → Flash dönüştürülüyor: blok 10\n",
      "🔁 Eager → Flash dönüştürülüyor: blok 11\n",
      "🔁 Eager → Flash dönüştürülüyor: blok 12\n",
      "🔁 Eager → Flash dönüştürülüyor: blok 13\n",
      "🔁 Eager → Flash dönüştürülüyor: blok 14\n",
      "🔁 Eager → Flash dönüştürülüyor: blok 15\n",
      "🔢 Toplam Parametre: 330,847,845\n",
      "🧠 Eğitilebilir (trainable): 330,847,845\n"
     ]
    }
   ],
   "source": [
    "from transformers import AutoModelForCausalLM\n",
    "\n",
    "# 5. Yükleme işlemi artık çalışır:\n",
    "model = AutoModelForCausalLM.from_pretrained(\"./CrispyLLM\",  attn_implementation=\"flash_attention_2\", trust_remote_code=True)\n",
    "model\n",
    "\n",
    "total_params = sum(p.numel() for p in model.parameters())\n",
    "trainable_params = sum(p.numel() for p in model.parameters() if p.requires_grad)\n",
    "\n",
    "print(f\"🔢 Toplam Parametre: {total_params:,}\")\n",
    "print(f\"🧠 Eğitilebilir (trainable): {trainable_params:,}\")\n"
   ]
  }
 ],
 "metadata": {
  "kernelspec": {
   "display_name": "torchEnv",
   "language": "python",
   "name": "python3"
  },
  "language_info": {
   "codemirror_mode": {
    "name": "ipython",
    "version": 3
   },
   "file_extension": ".py",
   "mimetype": "text/x-python",
   "name": "python",
   "nbconvert_exporter": "python",
   "pygments_lexer": "ipython3",
   "version": "3.12.3"
  }
 },
 "nbformat": 4,
 "nbformat_minor": 2
}
