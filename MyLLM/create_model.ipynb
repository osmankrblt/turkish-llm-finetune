{
 "cells": [
  {
   "cell_type": "code",
   "execution_count": 3,
   "metadata": {},
   "outputs": [],
   "source": [
    "from transformers import AutoConfig, AutoModelForCausalLM, AutoTokenizer\n",
    "from CrispyLLM_RoPE.modeling_crispy import CrispyLLMConfig, CrispyForCausalLM\n",
    "import shutil"
   ]
  },
  {
   "cell_type": "markdown",
   "metadata": {},
   "source": [
    "# 1. Model Sınıfı Kayıt (Auto ile kullanabilmek için)"
   ]
  },
  {
   "cell_type": "code",
   "execution_count": null,
   "metadata": {},
   "outputs": [],
   "source": [
    "AutoConfig.register(\"crispy\", CrispyLLMConfig)\n",
    "AutoModelForCausalLM.register(CrispyLLMConfig, CrispyForCausalLM)"
   ]
  },
  {
   "cell_type": "markdown",
   "metadata": {},
   "source": [
    "# 2. Tokenizer Yükleme"
   ]
  },
  {
   "cell_type": "code",
   "execution_count": null,
   "metadata": {},
   "outputs": [],
   "source": [
    "# load the tokenizer and the model\n",
    "tokenizer = AutoTokenizer.from_pretrained(\"hosmankarabulut/Crispy-2.8B-CLM\")"
   ]
  },
  {
   "cell_type": "markdown",
   "metadata": {},
   "source": [
    "# 3. Modelin Tasarlanması"
   ]
  },
  {
   "cell_type": "code",
   "execution_count": null,
   "metadata": {},
   "outputs": [
    {
     "data": {
      "text/plain": [
       "('../CrispyTest/CrispyLLM-RoPE/tokenizer_config.json',\n",
       " '../CrispyTest/CrispyLLM-RoPE/special_tokens_map.json',\n",
       " '../CrispyTest/CrispyLLM-RoPE/tokenizer.json')"
      ]
     },
     "execution_count": 4,
     "metadata": {},
     "output_type": "execute_result"
    }
   ],
   "source": [
    "crispy_config = CrispyLLMConfig(\n",
    "    attn_implementation=\"flash_attention_2\",   # 🔁 Attention tipi: FlashAttention v2 kullanılacak\n",
    "    decoder_dropout=0.1 ,                      # 🧠 Decoder block'lardaki dropout oranı (Feedforward + Attention sonrası dropout)\n",
    "    attention_dropout=0.0,                     # 🔄 Attention bloklarındaki dropout oranı (sadece attention matrisine uygulanır)\n",
    "    use_flash_attention_2=True,                # ⚡ FlashAttention2 modülünün kullanılacağını belirten özel flag (model içi kullanım için)\n",
    "    vocab_size=len(tokenizer.get_vocab()),     # 🔠 Tokenizer'dan alınan toplam kelime (token) sayısı → lm_head çıkış boyutu\n",
    "    n_heads=30,                                # 🧩 Her katmanda kaç tane attention head kullanılacağı\n",
    "    max_position_embeddings=2048,              # Modelin gömebileceği maksimum pozisyon sayısı\n",
    "    max_seq_len=1024,                          # Eğitim sırasında kullandığın seqlen (chunk boyutu)\n",
    "    hidden_size=64*30,                         # 📐 Gizli katman boyutu → hidden_size = n_heads * head_dim (burada 64 * 30 = 1920)\n",
    "    num_hidden_layers=30,                      # 🏗 Transformer blok sayısı (katman sayısı)\n",
    "    dtype=\"bfloat16\",                          # 🧮 Hesaplamalarda kullanılacak veri tipi (bfloat16 → TPU / A100 uyumlu)\n",
    "    pad_token_id = tokenizer.pad_token_id ,    # 🧊 Padding token ID'si (genellikle 0)\n",
    "    bos_token_id = tokenizer.bos_token_id,     # 🚀 Metin başlangıç token ID'si (örneğin: \"<s>\" veya \"<|bos|>\")\n",
    "    eos_token_id = tokenizer.eos_token_id,     # 🛑 Metin bitiş token ID'si (örneğin: \"</s>\" veya \"<|eos|>\")\n",
    "    unk_token_id = tokenizer.unk_token_id,     # ❓ Bilinmeyen (unknown) token ID'si (örneğin: \"<unk>\")\n",
    "   \n",
    "    auto_map= {\n",
    "    \"AutoConfig\": \"modeling_crispy.CrispyLLMConfig\",\n",
    "    \"AutoModelForCausalLM\": \"modeling_crispy.CrispyForCausalLM\"\n",
    "    }, \n",
    ")\n",
    "\n",
    "crispy_config._attn_implementation_autoset = True  # 👈 Buraya ekliyorsun\n",
    "\n",
    "model = AutoModelForCausalLM.from_config(crispy_config)"
   ]
  },
  {
   "cell_type": "markdown",
   "metadata": {},
   "source": [
    "# 4. Model İnceleme"
   ]
  },
  {
   "cell_type": "code",
   "execution_count": 5,
   "metadata": {},
   "outputs": [
    {
     "data": {
      "text/plain": [
       "CrispyForCausalLM(\n",
       "  (embedding): EmbeddingLayer(\n",
       "    (token_embedding): TokenEmbedding(\n",
       "      (embedding_layer): Embedding(50000, 1920)\n",
       "    )\n",
       "  )\n",
       "  (decoderBlocks): ModuleList(\n",
       "    (0-29): 30 x DecoderBlock(\n",
       "      (attention_block): AttentionBlock(\n",
       "        (qkv_proj): Linear(in_features=1920, out_features=5760, bias=True)\n",
       "        (o_proj): Linear(in_features=1920, out_features=1920, bias=True)\n",
       "        (rms_norm1): RMSNormBlock(\n",
       "          (rmsNorm): RMSNorm((1920,), eps=1e-05, elementwise_affine=True)\n",
       "        )\n",
       "        (attn): FlashAttentionBlockBase()\n",
       "        (rope): RotaryPositionalEmbedding()\n",
       "      )\n",
       "      (feedforward_network): FeedforwardNetwork(\n",
       "        (ln1): Linear(in_features=1920, out_features=7680, bias=True)\n",
       "        (swiglu): SwiGLU(\n",
       "          (linear1): Linear(in_features=7680, out_features=3840, bias=True)\n",
       "          (linear2): Linear(in_features=1920, out_features=7680, bias=True)\n",
       "        )\n",
       "        (ln2): Linear(in_features=7680, out_features=1920, bias=True)\n",
       "      )\n",
       "      (rms_norm1): RMSNormBlock(\n",
       "        (rmsNorm): RMSNorm((1920,), eps=1e-05, elementwise_affine=True)\n",
       "      )\n",
       "      (rms_norm2): RMSNormBlock(\n",
       "        (rmsNorm): RMSNorm((1920,), eps=1e-05, elementwise_affine=True)\n",
       "      )\n",
       "      (dropout): Dropout(p=0.1, inplace=False)\n",
       "    )\n",
       "  )\n",
       "  (final_ln): RMSNormBlock(\n",
       "    (rmsNorm): RMSNorm((1920,), eps=1e-05, elementwise_affine=True)\n",
       "  )\n",
       "  (lm_head): Linear(in_features=1920, out_features=50000, bias=True)\n",
       ")"
      ]
     },
     "execution_count": 5,
     "metadata": {},
     "output_type": "execute_result"
    }
   ],
   "source": [
    "model"
   ]
  },
  {
   "cell_type": "markdown",
   "metadata": {},
   "source": [
    "# 5. Kayıt işlemi"
   ]
  },
  {
   "cell_type": "code",
   "execution_count": null,
   "metadata": {},
   "outputs": [],
   "source": [
    "model.save_pretrained(\"../CrispyTest/CrispyLLM-RoPE\")\n",
    "tokenizer.save_pretrained(\"../CrispyTest/CrispyLLM-RoPE\") "
   ]
  },
  {
   "cell_type": "code",
   "execution_count": null,
   "metadata": {},
   "outputs": [],
   "source": [
    "shutil.copy(\"./CrispyLLM_RoPE/modeling_crispy.py\", \"../CrispyTest/CrispyLLM-RoPE/modeling_crispy.py\")"
   ]
  },
  {
   "cell_type": "markdown",
   "metadata": {},
   "source": [
    "# 6. Model Testi"
   ]
  },
  {
   "cell_type": "code",
   "execution_count": 6,
   "metadata": {},
   "outputs": [
    {
     "name": "stdout",
     "output_type": "stream",
     "text": [
      "✅ Logits shape: torch.Size([1, 4, 50000])\n"
     ]
    }
   ],
   "source": [
    "import torch\n",
    "\n",
    "text = \"Selam\"\n",
    "\n",
    "# 1️⃣ Tokenizer → Tensor\n",
    "inputs = tokenizer(text, return_tensors=\"pt\")\n",
    "\n",
    "# 2️⃣ Modelin cihazına gönder (örneğin CUDA)\n",
    "device = torch.device(\"cuda\" if torch.cuda.is_available() else \"cpu\")\n",
    "inputs = {k: v.to(device) for k, v in inputs.items()}\n",
    "model = model.to(device)\n",
    "\n",
    "# 3️⃣ Inference\n",
    "model.eval()\n",
    "with torch.no_grad():\n",
    "    outputs = model(**inputs)\n",
    "\n",
    "logits = outputs.logits\n",
    "print(\"✅ Logits shape:\", logits.shape)\n"
   ]
  },
  {
   "cell_type": "markdown",
   "metadata": {},
   "source": [
    "# 7. Parametre Hesaplama"
   ]
  },
  {
   "cell_type": "code",
   "execution_count": null,
   "metadata": {},
   "outputs": [],
   "source": [
    "total_params = sum(p.numel() for p in model.parameters())\n",
    "trainable_params = sum(p.numel() for p in model.parameters() if p.requires_grad)\n",
    "\n",
    "print(f\"🔢 Toplam Parametre: {total_params:,}\")\n",
    "print(f\"🧠 Eğitilebilir (trainable): {trainable_params:,}\")"
   ]
  },
  {
   "cell_type": "markdown",
   "metadata": {},
   "source": [
    "# 8. Model Huggingface Yükleme"
   ]
  },
  {
   "cell_type": "code",
   "execution_count": 10,
   "metadata": {},
   "outputs": [
    {
     "data": {
      "application/vnd.jupyter.widget-view+json": {
       "model_id": "be067ddcba944c9b8b2145ba576624e2",
       "version_major": 2,
       "version_minor": 0
      },
      "text/plain": [
       "Upload 2 LFS files:   0%|          | 0/2 [00:00<?, ?it/s]"
      ]
     },
     "metadata": {},
     "output_type": "display_data"
    },
    {
     "data": {
      "application/vnd.jupyter.widget-view+json": {
       "model_id": "8f5898a014e242e182594ab596275748",
       "version_major": 2,
       "version_minor": 0
      },
      "text/plain": [
       "model-00001-of-00002.safetensors:   0%|          | 0.00/4.99G [00:00<?, ?B/s]"
      ]
     },
     "metadata": {},
     "output_type": "display_data"
    },
    {
     "data": {
      "application/vnd.jupyter.widget-view+json": {
       "model_id": "bc913c0a190a4a5e9e9ac917597fca2d",
       "version_major": 2,
       "version_minor": 0
      },
      "text/plain": [
       "model-00002-of-00002.safetensors:   0%|          | 0.00/725M [00:00<?, ?B/s]"
      ]
     },
     "metadata": {},
     "output_type": "display_data"
    },
    {
     "data": {
      "text/plain": [
       "CommitInfo(commit_url='https://huggingface.co/hosmankarabulut/Crispy-2.8B-CLM/commit/ecdab5b492b664188e9090cc57aa5fdaf32c1c02', commit_message='🚀 Custom modeling_crispy.py ile model yüklendi', commit_description='', oid='ecdab5b492b664188e9090cc57aa5fdaf32c1c02', pr_url=None, repo_url=RepoUrl('https://huggingface.co/hosmankarabulut/Crispy-2.8B-CLM', endpoint='https://huggingface.co', repo_type='model', repo_id='hosmankarabulut/Crispy-2.8B-CLM'), pr_revision=None, pr_num=None)"
      ]
     },
     "execution_count": 10,
     "metadata": {},
     "output_type": "execute_result"
    }
   ],
   "source": [
    "# Upload klasörü\n",
    "from huggingface_hub import upload_folder\n",
    "from huggingface_hub import HfApi\n",
    "\n",
    "# Repo oluşturulmamışsa önce oluştur\n",
    "HfApi().create_repo(repo_id=\"Crispy-2.8B-CLM\", private=True)\n",
    "\n",
    "\n",
    "upload_folder(\n",
    "    repo_id=\"hosmankarabulut/Crispy-2.8B-CLM\",  # kendi kullanıcı adını yaz\n",
    "    folder_path=\"../CrispyTest/CrispyLLM-RoPE\",\n",
    "    commit_message=\"🚀 Custom modeling_crispy.py ile model yüklendi\",\n",
    ")\n"
   ]
  }
 ],
 "metadata": {
  "kernelspec": {
   "display_name": "torchEnv",
   "language": "python",
   "name": "python3"
  },
  "language_info": {
   "codemirror_mode": {
    "name": "ipython",
    "version": 3
   },
   "file_extension": ".py",
   "mimetype": "text/x-python",
   "name": "python",
   "nbconvert_exporter": "python",
   "pygments_lexer": "ipython3",
   "version": "3.12.3"
  }
 },
 "nbformat": 4,
 "nbformat_minor": 2
}
